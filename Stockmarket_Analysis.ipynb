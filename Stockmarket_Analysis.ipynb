{
  "cells": [
    {
      "cell_type": "markdown",
      "metadata": {
        "id": "view-in-github",
        "colab_type": "text"
      },
      "source": [
        "<a href=\"https://colab.research.google.com/github/Lean-IQ/Stockmarket-Analysis/blob/main/Stockmarket_Analysis.ipynb\" target=\"_parent\"><img src=\"https://colab.research.google.com/assets/colab-badge.svg\" alt=\"Open In Colab\"/></a>"
      ]
    },
    {
      "cell_type": "markdown",
      "source": [
        "## Stock Market Analysis"
      ],
      "metadata": {
        "id": "ygBQnms5I1Sd"
      }
    },
    {
      "cell_type": "markdown",
      "source": [
        "**About**\n",
        "\n",
        "This Python script is designed for analyzing stock market performance using a selection of technical indicators. The primary goals of this script are:\n",
        "\n",
        "1.   Trend Analysis: Identify and analyze market trends using indicators such as Moving Averages (MA), Relative Strength Index (RSI), and Moving Average Convergence Divergence (MACD).\n",
        "\n",
        "2.   Signal Generation: Generate buy and sell signals based on the computed indicators, helping to inform trading decisions.\n",
        "\n",
        "3.   Performance Evaluation: Assess the performance of selected stocks over time, providing insights into potential investment opportunities.\n",
        "\n",
        "4.   Visualization: Provide intuitive visual representations of stock data and indicators, aiding in the interpretation of market trends and signals.\n",
        "\n",
        "5. Data-Driven Insights: Utilize historical stock data to backtest strategies and validate the effectiveness of selected indicators.\n",
        "\n",
        "6. Automation: Automate the process of data retrieval, analysis, and visualization to ensure efficiency and accuracy.\n",
        "\n",
        "7. Customization: Allow users to customize the parameters of technical indicators to tailor the analysis to specific trading strategies or preferences.\n",
        "\n",
        "This script leverages Python libraries such as pandas for data manipulation, matplotlib for plotting, and yfinance for retrieving stock data, ensuring a comprehensive and efficient analysis toolkit for market participants."
      ],
      "metadata": {
        "id": "EFh2abYhJY45"
      }
    },
    {
      "cell_type": "markdown",
      "source": [],
      "metadata": {
        "id": "SBxo3AfYJ671"
      }
    },
    {
      "cell_type": "markdown",
      "source": [
        "**License**\n",
        "\n",
        "This project is licensed under the MIT License. You are free to use, modify, and distribute this software in accordance with the terms specified in the MIT License. A copy of the license is included in the project repository."
      ],
      "metadata": {
        "id": "ou0YJObUJ9uK"
      }
    },
    {
      "cell_type": "markdown",
      "source": [
        "##Loading Required Libraries"
      ],
      "metadata": {
        "id": "TTspzIZmP6vi"
      }
    },
    {
      "cell_type": "code",
      "execution_count": 1,
      "metadata": {
        "id": "MzHX_oGXJZvr",
        "colab": {
          "base_uri": "https://localhost:8080/"
        },
        "outputId": "c40a9e95-589b-42be-9a8a-21da686e0286"
      },
      "outputs": [
        {
          "output_type": "stream",
          "name": "stdout",
          "text": [
            "Requirement already satisfied: yfinance in /usr/local/lib/python3.10/dist-packages (0.2.40)\n",
            "Requirement already satisfied: pandas>=1.3.0 in /usr/local/lib/python3.10/dist-packages (from yfinance) (2.0.3)\n",
            "Requirement already satisfied: numpy>=1.16.5 in /usr/local/lib/python3.10/dist-packages (from yfinance) (1.25.2)\n",
            "Requirement already satisfied: requests>=2.31 in /usr/local/lib/python3.10/dist-packages (from yfinance) (2.31.0)\n",
            "Requirement already satisfied: multitasking>=0.0.7 in /usr/local/lib/python3.10/dist-packages (from yfinance) (0.0.11)\n",
            "Requirement already satisfied: lxml>=4.9.1 in /usr/local/lib/python3.10/dist-packages (from yfinance) (4.9.4)\n",
            "Requirement already satisfied: platformdirs>=2.0.0 in /usr/local/lib/python3.10/dist-packages (from yfinance) (4.2.2)\n",
            "Requirement already satisfied: pytz>=2022.5 in /usr/local/lib/python3.10/dist-packages (from yfinance) (2023.4)\n",
            "Requirement already satisfied: frozendict>=2.3.4 in /usr/local/lib/python3.10/dist-packages (from yfinance) (2.4.4)\n",
            "Requirement already satisfied: peewee>=3.16.2 in /usr/local/lib/python3.10/dist-packages (from yfinance) (3.17.5)\n",
            "Requirement already satisfied: beautifulsoup4>=4.11.1 in /usr/local/lib/python3.10/dist-packages (from yfinance) (4.12.3)\n",
            "Requirement already satisfied: html5lib>=1.1 in /usr/local/lib/python3.10/dist-packages (from yfinance) (1.1)\n",
            "Requirement already satisfied: soupsieve>1.2 in /usr/local/lib/python3.10/dist-packages (from beautifulsoup4>=4.11.1->yfinance) (2.5)\n",
            "Requirement already satisfied: six>=1.9 in /usr/local/lib/python3.10/dist-packages (from html5lib>=1.1->yfinance) (1.16.0)\n",
            "Requirement already satisfied: webencodings in /usr/local/lib/python3.10/dist-packages (from html5lib>=1.1->yfinance) (0.5.1)\n",
            "Requirement already satisfied: python-dateutil>=2.8.2 in /usr/local/lib/python3.10/dist-packages (from pandas>=1.3.0->yfinance) (2.8.2)\n",
            "Requirement already satisfied: tzdata>=2022.1 in /usr/local/lib/python3.10/dist-packages (from pandas>=1.3.0->yfinance) (2024.1)\n",
            "Requirement already satisfied: charset-normalizer<4,>=2 in /usr/local/lib/python3.10/dist-packages (from requests>=2.31->yfinance) (3.3.2)\n",
            "Requirement already satisfied: idna<4,>=2.5 in /usr/local/lib/python3.10/dist-packages (from requests>=2.31->yfinance) (3.7)\n",
            "Requirement already satisfied: urllib3<3,>=1.21.1 in /usr/local/lib/python3.10/dist-packages (from requests>=2.31->yfinance) (2.0.7)\n",
            "Requirement already satisfied: certifi>=2017.4.17 in /usr/local/lib/python3.10/dist-packages (from requests>=2.31->yfinance) (2024.6.2)\n"
          ]
        }
      ],
      "source": [
        "pip install yfinance"
      ]
    },
    {
      "cell_type": "markdown",
      "source": [
        "## Raw Data Picking\n",
        "\n",
        "**Usage**\n",
        "\n",
        "* Dependencies: Ensure you have the required Python libraries installed, including yfinance, pandas, and google.colab (if running in Google Colab).\n",
        "\n",
        "* Google Drive Setup: If running in Google Colab, mount your Google Drive to access files using the appropriate commands.\n",
        "\n",
        "* File Paths: Define the paths to your CSV file containing ticker symbols and the directory where raw data will be saved. Modify the csv_file_path and raw_data_path variables as needed to match your directory structure.\n",
        "\n",
        "* Running the Script: Execute the script to fetch and save data for each ticker symbol in your portfolio. Load the CSV file containing ticker symbols and iterate over each symbol to fetch and save historical data.\n",
        "\n",
        "**Script Explanation**\n",
        "\n",
        "The script performs the following key tasks:\n",
        "\n",
        "* Mount Google Drive: Mounts Google Drive to access the necessary files if running in Google Colab.\n",
        "\n",
        "* Define File Paths: Specifies the paths to the CSV file with ticker symbols and the directory for saving raw data.\n",
        "\n",
        "* Check File Age: Contains a function to check if a file exists and is older than one day, ensuring data is up-to-date.\n",
        "\n",
        "* Fetch and Save Data: Defines a function to fetch historical stock data for a given ticker symbol using the yfinance library, and saves the data to a CSV file with specific formatting. The function also handles errors and prints relevant messages.\n",
        "\n",
        "* Load Ticker Symbols: Loads ticker symbols from the specified CSV file into a DataFrame.\n",
        "\n",
        "* Iterate and Fetch Data: Iterates over the ticker symbols in the DataFrame, calling the function to fetch and save data for each symbol."
      ],
      "metadata": {
        "id": "ZklyPZWVKmBU"
      }
    },
    {
      "cell_type": "code",
      "execution_count": 2,
      "metadata": {
        "colab": {
          "base_uri": "https://localhost:8080/"
        },
        "id": "QVmEFhtjQfDL",
        "outputId": "340693d8-6fe9-43e4-a86d-7857729647a1",
        "collapsed": true
      },
      "outputs": [
        {
          "output_type": "stream",
          "name": "stdout",
          "text": [
            "Mounted at /content/drive\n"
          ]
        },
        {
          "output_type": "stream",
          "name": "stderr",
          "text": [
            "[*********************100%%**********************]  1 of 1 completed\n",
            "[*********************100%%**********************]  1 of 1 completed\n",
            "[*********************100%%**********************]  1 of 1 completed\n"
          ]
        },
        {
          "output_type": "stream",
          "name": "stdout",
          "text": [
            "Data for ^DJI saved to /content/drive/MyDrive/DATA/RAW/^DJI.csv\n"
          ]
        },
        {
          "output_type": "stream",
          "name": "stderr",
          "text": [
            "\r[*********************100%%**********************]  1 of 1 completed\n"
          ]
        },
        {
          "output_type": "stream",
          "name": "stdout",
          "text": [
            "Data for ^GDAXI saved to /content/drive/MyDrive/DATA/RAW/^GDAXI.csv\n"
          ]
        },
        {
          "output_type": "stream",
          "name": "stderr",
          "text": [
            "[*********************100%%**********************]  1 of 1 completed\n",
            "[*********************100%%**********************]  1 of 1 completed\n"
          ]
        },
        {
          "output_type": "stream",
          "name": "stdout",
          "text": [
            "Data for ^GSPC saved to /content/drive/MyDrive/DATA/RAW/^GSPC.csv\n"
          ]
        },
        {
          "output_type": "stream",
          "name": "stderr",
          "text": [
            "[*********************100%%**********************]  1 of 1 completed\n",
            "[*********************100%%**********************]  1 of 1 completed\n"
          ]
        },
        {
          "output_type": "stream",
          "name": "stdout",
          "text": [
            "Data for ^MDAXI saved to /content/drive/MyDrive/DATA/RAW/^MDAXI.csv\n"
          ]
        },
        {
          "output_type": "stream",
          "name": "stderr",
          "text": [
            "[*********************100%%**********************]  1 of 1 completed\n",
            "[*********************100%%**********************]  1 of 1 completed\n"
          ]
        },
        {
          "output_type": "stream",
          "name": "stdout",
          "text": [
            "Data for ^NDX saved to /content/drive/MyDrive/DATA/RAW/^NDX.csv\n"
          ]
        },
        {
          "output_type": "stream",
          "name": "stderr",
          "text": [
            "[*********************100%%**********************]  1 of 1 completed\n",
            "[*********************100%%**********************]  1 of 1 completed\n"
          ]
        },
        {
          "output_type": "stream",
          "name": "stdout",
          "text": [
            "Data for ^RUT saved to /content/drive/MyDrive/DATA/RAW/^RUT.csv\n"
          ]
        },
        {
          "output_type": "stream",
          "name": "stderr",
          "text": [
            "[*********************100%%**********************]  1 of 1 completed\n",
            "[*********************100%%**********************]  1 of 1 completed\n",
            "[*********************100%%**********************]  1 of 1 completed"
          ]
        },
        {
          "output_type": "stream",
          "name": "stdout",
          "text": [
            "Data for ^STOXX50E saved to /content/drive/MyDrive/DATA/RAW/^STOXX50E.csv\n"
          ]
        },
        {
          "output_type": "stream",
          "name": "stderr",
          "text": [
            "\n",
            "\r[*********************100%%**********************]  1 of 1 completed\n"
          ]
        },
        {
          "output_type": "stream",
          "name": "stdout",
          "text": [
            "Data for ^TECDAX saved to /content/drive/MyDrive/DATA/RAW/^TECDAX.csv\n"
          ]
        },
        {
          "output_type": "stream",
          "name": "stderr",
          "text": [
            "[*********************100%%**********************]  1 of 1 completed\n",
            "[*********************100%%**********************]  1 of 1 completed\n"
          ]
        },
        {
          "output_type": "stream",
          "name": "stdout",
          "text": [
            "Data for 000591.SZ saved to /content/drive/MyDrive/DATA/RAW/000591.SZ.csv\n"
          ]
        },
        {
          "output_type": "stream",
          "name": "stderr",
          "text": [
            "[*********************100%%**********************]  1 of 1 completed\n",
            "[*********************100%%**********************]  1 of 1 completed\n"
          ]
        },
        {
          "output_type": "stream",
          "name": "stdout",
          "text": [
            "Data for 002531.SZ saved to /content/drive/MyDrive/DATA/RAW/002531.SZ.csv\n"
          ]
        },
        {
          "output_type": "stream",
          "name": "stderr",
          "text": [
            "[*********************100%%**********************]  1 of 1 completed\n",
            "[*********************100%%**********************]  1 of 1 completed\n"
          ]
        },
        {
          "output_type": "stream",
          "name": "stdout",
          "text": [
            "Data for 051910.KS saved to /content/drive/MyDrive/DATA/RAW/051910.KS.csv\n"
          ]
        },
        {
          "output_type": "stream",
          "name": "stderr",
          "text": [
            "[*********************100%%**********************]  1 of 1 completed\n",
            "[*********************100%%**********************]  1 of 1 completed\n"
          ]
        },
        {
          "output_type": "stream",
          "name": "stdout",
          "text": [
            "Data for 0916.HK saved to /content/drive/MyDrive/DATA/RAW/0916.HK.csv\n"
          ]
        },
        {
          "output_type": "stream",
          "name": "stderr",
          "text": [
            "[*********************100%%**********************]  1 of 1 completed\n",
            "[*********************100%%**********************]  1 of 1 completed\n"
          ]
        },
        {
          "output_type": "stream",
          "name": "stdout",
          "text": [
            "Data for 0EWD.IL saved to /content/drive/MyDrive/DATA/RAW/0EWD.IL.csv\n"
          ]
        },
        {
          "output_type": "stream",
          "name": "stderr",
          "text": [
            "[*********************100%%**********************]  1 of 1 completed\n",
            "[*********************100%%**********************]  1 of 1 completed\n"
          ]
        },
        {
          "output_type": "stream",
          "name": "stdout",
          "text": [
            "Data for 0IGF.IL saved to /content/drive/MyDrive/DATA/RAW/0IGF.IL.csv\n"
          ]
        },
        {
          "output_type": "stream",
          "name": "stderr",
          "text": [
            "[*********************100%%**********************]  1 of 1 completed\n",
            "[*********************100%%**********************]  1 of 1 completed\n",
            "[*********************100%%**********************]  1 of 1 completed\n"
          ]
        },
        {
          "output_type": "stream",
          "name": "stdout",
          "text": [
            "Data for 0K9W.IL saved to /content/drive/MyDrive/DATA/RAW/0K9W.IL.csv\n"
          ]
        },
        {
          "output_type": "stream",
          "name": "stderr",
          "text": [
            "\r[*********************100%%**********************]  1 of 1 completed\n"
          ]
        },
        {
          "output_type": "stream",
          "name": "stdout",
          "text": [
            "Data for 0LBM.IL saved to /content/drive/MyDrive/DATA/RAW/0LBM.IL.csv\n"
          ]
        },
        {
          "output_type": "stream",
          "name": "stderr",
          "text": [
            "[*********************100%%**********************]  1 of 1 completed\n",
            "[*********************100%%**********************]  1 of 1 completed\n",
            "[*********************100%%**********************]  1 of 1 completed\n"
          ]
        },
        {
          "output_type": "stream",
          "name": "stdout",
          "text": [
            "Data for 0MGI.IL saved to /content/drive/MyDrive/DATA/RAW/0MGI.IL.csv\n"
          ]
        },
        {
          "output_type": "stream",
          "name": "stderr",
          "text": [
            "\r[*********************100%%**********************]  1 of 1 completed\n"
          ]
        },
        {
          "output_type": "stream",
          "name": "stdout",
          "text": [
            "Data for 0O77.IL saved to /content/drive/MyDrive/DATA/RAW/0O77.IL.csv\n"
          ]
        },
        {
          "output_type": "stream",
          "name": "stderr",
          "text": [
            "[*********************100%%**********************]  1 of 1 completed\n",
            "[*********************100%%**********************]  1 of 1 completed\n",
            "[*********************100%%**********************]  1 of 1 completed\n"
          ]
        },
        {
          "output_type": "stream",
          "name": "stdout",
          "text": [
            "Data for 1COV.DE saved to /content/drive/MyDrive/DATA/RAW/1COV.DE.csv\n"
          ]
        },
        {
          "output_type": "stream",
          "name": "stderr",
          "text": [
            "[*********************100%%**********************]  1 of 1 completed\n",
            "[*********************100%%**********************]  1 of 1 completed\n"
          ]
        },
        {
          "output_type": "stream",
          "name": "stdout",
          "text": [
            "Data for 1SXP.DE saved to /content/drive/MyDrive/DATA/RAW/1SXP.DE.csv\n"
          ]
        },
        {
          "output_type": "stream",
          "name": "stderr",
          "text": [
            "\r[*********************100%%**********************]  1 of 1 completed\n"
          ]
        },
        {
          "output_type": "stream",
          "name": "stdout",
          "text": [
            "Data for 1U1.DE saved to /content/drive/MyDrive/DATA/RAW/1U1.DE.csv\n"
          ]
        },
        {
          "output_type": "stream",
          "name": "stderr",
          "text": [
            "[*********************100%%**********************]  1 of 1 completed\n",
            "[*********************100%%**********************]  1 of 1 completed\n"
          ]
        },
        {
          "output_type": "stream",
          "name": "stdout",
          "text": [
            "Data for 2082.SR saved to /content/drive/MyDrive/DATA/RAW/2082.SR.csv\n"
          ]
        },
        {
          "output_type": "stream",
          "name": "stderr",
          "text": [
            "[*********************100%%**********************]  1 of 1 completed\n",
            "[*********************100%%**********************]  1 of 1 completed\n",
            "[*********************100%%**********************]  1 of 1 completed\n"
          ]
        },
        {
          "output_type": "stream",
          "name": "stdout",
          "text": [
            "Data for 2GB.DE saved to /content/drive/MyDrive/DATA/RAW/2GB.DE.csv\n"
          ]
        },
        {
          "output_type": "stream",
          "name": "stderr",
          "text": [
            "\r[*********************100%%**********************]  1 of 1 completed\n"
          ]
        },
        {
          "output_type": "stream",
          "name": "stdout",
          "text": [
            "Data for 300274.SZ saved to /content/drive/MyDrive/DATA/RAW/300274.SZ.csv\n"
          ]
        },
        {
          "output_type": "stream",
          "name": "stderr",
          "text": [
            "[*********************100%%**********************]  1 of 1 completed\n",
            "[*********************100%%**********************]  1 of 1 completed\n"
          ]
        },
        {
          "output_type": "stream",
          "name": "stdout",
          "text": [
            "Data for 300763.SZ saved to /content/drive/MyDrive/DATA/RAW/300763.SZ.csv\n"
          ]
        },
        {
          "output_type": "stream",
          "name": "stderr",
          "text": [
            "[*********************100%%**********************]  1 of 1 completed\n",
            "[*********************100%%**********************]  1 of 1 completed\n"
          ]
        },
        {
          "output_type": "stream",
          "name": "stdout",
          "text": [
            "Data for 373220.KS saved to /content/drive/MyDrive/DATA/RAW/373220.KS.csv\n"
          ]
        },
        {
          "output_type": "stream",
          "name": "stderr",
          "text": [
            "[*********************100%%**********************]  1 of 1 completed\n",
            "[*********************100%%**********************]  1 of 1 completed\n"
          ]
        },
        {
          "output_type": "stream",
          "name": "stdout",
          "text": [
            "Data for 4063.T saved to /content/drive/MyDrive/DATA/RAW/4063.T.csv\n"
          ]
        },
        {
          "output_type": "stream",
          "name": "stderr",
          "text": [
            "[*********************100%%**********************]  1 of 1 completed\n",
            "[*********************100%%**********************]  1 of 1 completed\n"
          ]
        },
        {
          "output_type": "stream",
          "name": "stdout",
          "text": [
            "Data for 600481.SS saved to /content/drive/MyDrive/DATA/RAW/600481.SS.csv\n"
          ]
        },
        {
          "output_type": "stream",
          "name": "stderr",
          "text": [
            "[*********************100%%**********************]  1 of 1 completed\n",
            "[*********************100%%**********************]  1 of 1 completed\n",
            "[*********************100%%**********************]  1 of 1 completed\n"
          ]
        },
        {
          "output_type": "stream",
          "name": "stdout",
          "text": [
            "Data for 600905.SS saved to /content/drive/MyDrive/DATA/RAW/600905.SS.csv\n"
          ]
        },
        {
          "output_type": "stream",
          "name": "stderr",
          "text": [
            "\r[*********************100%%**********************]  1 of 1 completed\n"
          ]
        },
        {
          "output_type": "stream",
          "name": "stdout",
          "text": [
            "Data for 601016.SS saved to /content/drive/MyDrive/DATA/RAW/601016.SS.csv\n"
          ]
        },
        {
          "output_type": "stream",
          "name": "stderr",
          "text": [
            "[*********************100%%**********************]  1 of 1 completed\n",
            "[*********************100%%**********************]  1 of 1 completed\n",
            "[*********************100%%**********************]  1 of 1 completed\n"
          ]
        },
        {
          "output_type": "stream",
          "name": "stdout",
          "text": [
            "Data for 601615.SS saved to /content/drive/MyDrive/DATA/RAW/601615.SS.csv\n"
          ]
        },
        {
          "output_type": "stream",
          "name": "stderr",
          "text": [
            "[*********************100%%**********************]  1 of 1 completed\n",
            "[*********************100%%**********************]  1 of 1 completed\n"
          ]
        },
        {
          "output_type": "stream",
          "name": "stdout",
          "text": [
            "Data for 601877.SS saved to /content/drive/MyDrive/DATA/RAW/601877.SS.csv\n"
          ]
        },
        {
          "output_type": "stream",
          "name": "stderr",
          "text": [
            "\r[*********************100%%**********************]  1 of 1 completed\n"
          ]
        },
        {
          "output_type": "stream",
          "name": "stdout",
          "text": [
            "Data for 6326.T saved to /content/drive/MyDrive/DATA/RAW/6326.T.csv\n"
          ]
        },
        {
          "output_type": "stream",
          "name": "stderr",
          "text": [
            "[*********************100%%**********************]  1 of 1 completed\n",
            "[*********************100%%**********************]  1 of 1 completed\n"
          ]
        },
        {
          "output_type": "stream",
          "name": "stdout",
          "text": [
            "Data for 6367.T saved to /content/drive/MyDrive/DATA/RAW/6367.T.csv\n"
          ]
        },
        {
          "output_type": "stream",
          "name": "stderr",
          "text": [
            "[*********************100%%**********************]  1 of 1 completed\n",
            "[*********************100%%**********************]  1 of 1 completed\n"
          ]
        },
        {
          "output_type": "stream",
          "name": "stdout",
          "text": [
            "Data for 688032.SS saved to /content/drive/MyDrive/DATA/RAW/688032.SS.csv\n"
          ]
        },
        {
          "output_type": "stream",
          "name": "stderr",
          "text": [
            "[*********************100%%**********************]  1 of 1 completed\n",
            "[*********************100%%**********************]  1 of 1 completed\n"
          ]
        },
        {
          "output_type": "stream",
          "name": "stdout",
          "text": [
            "Data for 688063.SS saved to /content/drive/MyDrive/DATA/RAW/688063.SS.csv\n"
          ]
        },
        {
          "output_type": "stream",
          "name": "stderr",
          "text": [
            "[*********************100%%**********************]  1 of 1 completed\n",
            "[*********************100%%**********************]  1 of 1 completed\n"
          ]
        },
        {
          "output_type": "stream",
          "name": "stdout",
          "text": [
            "Data for 688567.SS saved to /content/drive/MyDrive/DATA/RAW/688567.SS.csv\n"
          ]
        },
        {
          "output_type": "stream",
          "name": "stderr",
          "text": [
            "[*********************100%%**********************]  1 of 1 completed\n",
            "[*********************100%%**********************]  1 of 1 completed\n"
          ]
        },
        {
          "output_type": "stream",
          "name": "stdout",
          "text": [
            "Data for 9502.T saved to /content/drive/MyDrive/DATA/RAW/9502.T.csv\n"
          ]
        },
        {
          "output_type": "stream",
          "name": "stderr",
          "text": [
            "[*********************100%%**********************]  1 of 1 completed\n",
            "[*********************100%%**********************]  1 of 1 completed\n"
          ]
        },
        {
          "output_type": "stream",
          "name": "stdout",
          "text": [
            "Data for 9503.T saved to /content/drive/MyDrive/DATA/RAW/9503.T.csv\n"
          ]
        },
        {
          "output_type": "stream",
          "name": "stderr",
          "text": [
            "[*********************100%%**********************]  1 of 1 completed\n",
            "[*********************100%%**********************]  1 of 1 completed\n"
          ]
        },
        {
          "output_type": "stream",
          "name": "stdout",
          "text": [
            "Data for 9531.T saved to /content/drive/MyDrive/DATA/RAW/9531.T.csv\n"
          ]
        },
        {
          "output_type": "stream",
          "name": "stderr",
          "text": [
            "[*********************100%%**********************]  1 of 1 completed\n",
            "[*********************100%%**********************]  1 of 1 completed\n"
          ]
        },
        {
          "output_type": "stream",
          "name": "stdout",
          "text": [
            "Data for 9532.T saved to /content/drive/MyDrive/DATA/RAW/9532.T.csv\n"
          ]
        },
        {
          "output_type": "stream",
          "name": "stderr",
          "text": [
            "[*********************100%%**********************]  1 of 1 completed\n",
            "[*********************100%%**********************]  1 of 1 completed\n"
          ]
        },
        {
          "output_type": "stream",
          "name": "stdout",
          "text": [
            "Data for AALB.AS saved to /content/drive/MyDrive/DATA/RAW/AALB.AS.csv\n"
          ]
        },
        {
          "output_type": "stream",
          "name": "stderr",
          "text": [
            "[*********************100%%**********************]  1 of 1 completed\n",
            "[*********************100%%**********************]  1 of 1 completed\n"
          ]
        },
        {
          "output_type": "stream",
          "name": "stdout",
          "text": [
            "Data for AB9.DE saved to /content/drive/MyDrive/DATA/RAW/AB9.DE.csv\n"
          ]
        },
        {
          "output_type": "stream",
          "name": "stderr",
          "text": [
            "[*********************100%%**********************]  1 of 1 completed\n",
            "[*********************100%%**********************]  1 of 1 completed\n",
            "[*********************100%%**********************]  1 of 1 completed\n"
          ]
        },
        {
          "output_type": "stream",
          "name": "stdout",
          "text": [
            "Data for ABBN.SW saved to /content/drive/MyDrive/DATA/RAW/ABBN.SW.csv\n"
          ]
        },
        {
          "output_type": "stream",
          "name": "stderr",
          "text": [
            "[*********************100%%**********************]  1 of 1 completed\n",
            "[*********************100%%**********************]  1 of 1 completed\n"
          ]
        },
        {
          "output_type": "stream",
          "name": "stdout",
          "text": [
            "Data for ACHR saved to /content/drive/MyDrive/DATA/RAW/ACHR.csv\n"
          ]
        },
        {
          "output_type": "stream",
          "name": "stderr",
          "text": [
            "\r[*********************100%%**********************]  1 of 1 completed\n"
          ]
        },
        {
          "output_type": "stream",
          "name": "stdout",
          "text": [
            "Data for ADANIGREEN.NS saved to /content/drive/MyDrive/DATA/RAW/ADANIGREEN.NS.csv\n"
          ]
        },
        {
          "output_type": "stream",
          "name": "stderr",
          "text": [
            "[*********************100%%**********************]  1 of 1 completed\n",
            "[*********************100%%**********************]  1 of 1 completed\n"
          ]
        },
        {
          "output_type": "stream",
          "name": "stdout",
          "text": [
            "Data for ADDT-B.ST saved to /content/drive/MyDrive/DATA/RAW/ADDT-B.ST.csv\n"
          ]
        },
        {
          "output_type": "stream",
          "name": "stderr",
          "text": [
            "[*********************100%%**********************]  1 of 1 completed\n",
            "[*********************100%%**********************]  1 of 1 completed\n"
          ]
        },
        {
          "output_type": "stream",
          "name": "stdout",
          "text": [
            "Data for ADI saved to /content/drive/MyDrive/DATA/RAW/ADI.csv\n"
          ]
        },
        {
          "output_type": "stream",
          "name": "stderr",
          "text": [
            "[*********************100%%**********************]  1 of 1 completed\n",
            "[*********************100%%**********************]  1 of 1 completed\n"
          ]
        },
        {
          "output_type": "stream",
          "name": "stdout",
          "text": [
            "Data for ADSK saved to /content/drive/MyDrive/DATA/RAW/ADSK.csv\n"
          ]
        },
        {
          "output_type": "stream",
          "name": "stderr",
          "text": [
            "[*********************100%%**********************]  1 of 1 completed\n",
            "[*********************100%%**********************]  1 of 1 completed\n",
            "[*********************100%%**********************]  1 of 1 completed\n"
          ]
        },
        {
          "output_type": "stream",
          "name": "stdout",
          "text": [
            "Data for AEE saved to /content/drive/MyDrive/DATA/RAW/AEE.csv\n"
          ]
        },
        {
          "output_type": "stream",
          "name": "stderr",
          "text": [
            "\r[*********************100%%**********************]  1 of 1 completed\n"
          ]
        },
        {
          "output_type": "stream",
          "name": "stdout",
          "text": [
            "Data for AEP saved to /content/drive/MyDrive/DATA/RAW/AEP.csv\n"
          ]
        },
        {
          "output_type": "stream",
          "name": "stderr",
          "text": [
            "[*********************100%%**********************]  1 of 1 completed\n",
            "[*********************100%%**********************]  1 of 1 completed\n",
            "[*********************100%%**********************]  1 of 1 completed\n"
          ]
        },
        {
          "output_type": "stream",
          "name": "stdout",
          "text": [
            "Data for AES saved to /content/drive/MyDrive/DATA/RAW/AES.csv\n"
          ]
        },
        {
          "output_type": "stream",
          "name": "stderr",
          "text": [
            "\r[*********************100%%**********************]  1 of 1 completed\n"
          ]
        },
        {
          "output_type": "stream",
          "name": "stdout",
          "text": [
            "Data for AGCO saved to /content/drive/MyDrive/DATA/RAW/AGCO.csv\n"
          ]
        },
        {
          "output_type": "stream",
          "name": "stderr",
          "text": [
            "[*********************100%%**********************]  1 of 1 completed\n",
            "[*********************100%%**********************]  1 of 1 completed\n",
            "[*********************100%%**********************]  1 of 1 completed\n"
          ]
        },
        {
          "output_type": "stream",
          "name": "stdout",
          "text": [
            "Data for AI saved to /content/drive/MyDrive/DATA/RAW/AI.csv\n"
          ]
        },
        {
          "output_type": "stream",
          "name": "stderr",
          "text": [
            "\r[*********************100%%**********************]  1 of 1 completed\n"
          ]
        },
        {
          "output_type": "stream",
          "name": "stdout",
          "text": [
            "Data for AI.PA saved to /content/drive/MyDrive/DATA/RAW/AI.PA.csv\n"
          ]
        },
        {
          "output_type": "stream",
          "name": "stderr",
          "text": [
            "[*********************100%%**********************]  1 of 1 completed\n",
            "[*********************100%%**********************]  1 of 1 completed\n",
            "[*********************100%%**********************]  1 of 1 completed\n"
          ]
        },
        {
          "output_type": "stream",
          "name": "stdout",
          "text": [
            "Data for AIR saved to /content/drive/MyDrive/DATA/RAW/AIR.csv\n"
          ]
        },
        {
          "output_type": "stream",
          "name": "stderr",
          "text": [
            "[*********************100%%**********************]  1 of 1 completed\n",
            "[*********************100%%**********************]  1 of 1 completed\n"
          ]
        },
        {
          "output_type": "stream",
          "name": "stdout",
          "text": [
            "Data for AIR.DE saved to /content/drive/MyDrive/DATA/RAW/AIR.DE.csv\n"
          ]
        },
        {
          "output_type": "stream",
          "name": "stderr",
          "text": [
            "\r[*********************100%%**********************]  1 of 1 completed\n"
          ]
        },
        {
          "output_type": "stream",
          "name": "stdout",
          "text": [
            "Data for AIXA.DE saved to /content/drive/MyDrive/DATA/RAW/AIXA.DE.csv\n"
          ]
        },
        {
          "output_type": "stream",
          "name": "stderr",
          "text": [
            "[*********************100%%**********************]  1 of 1 completed\n",
            "[*********************100%%**********************]  1 of 1 completed\n"
          ]
        },
        {
          "output_type": "stream",
          "name": "stdout",
          "text": [
            "Data for AKZA.AS saved to /content/drive/MyDrive/DATA/RAW/AKZA.AS.csv\n"
          ]
        },
        {
          "output_type": "stream",
          "name": "stderr",
          "text": [
            "[*********************100%%**********************]  1 of 1 completed\n",
            "[*********************100%%**********************]  1 of 1 completed\n"
          ]
        },
        {
          "output_type": "stream",
          "name": "stdout",
          "text": [
            "Data for ALB saved to /content/drive/MyDrive/DATA/RAW/ALB.csv\n"
          ]
        },
        {
          "output_type": "stream",
          "name": "stderr",
          "text": [
            "[*********************100%%**********************]  1 of 1 completed\n",
            "[*********************100%%**********************]  1 of 1 completed\n"
          ]
        },
        {
          "output_type": "stream",
          "name": "stdout",
          "text": [
            "Data for ALFA.ST saved to /content/drive/MyDrive/DATA/RAW/ALFA.ST.csv\n"
          ]
        },
        {
          "output_type": "stream",
          "name": "stderr",
          "text": [
            "[*********************100%%**********************]  1 of 1 completed\n",
            "[*********************100%%**********************]  1 of 1 completed\n"
          ]
        },
        {
          "output_type": "stream",
          "name": "stdout",
          "text": [
            "Data for ALO.PA saved to /content/drive/MyDrive/DATA/RAW/ALO.PA.csv\n"
          ]
        },
        {
          "output_type": "stream",
          "name": "stderr",
          "text": [
            "[*********************100%%**********************]  1 of 1 completed\n",
            "[*********************100%%**********************]  1 of 1 completed\n",
            "[*********************100%%**********************]  1 of 1 completed\n"
          ]
        },
        {
          "output_type": "stream",
          "name": "stdout",
          "text": [
            "Data for AMAT saved to /content/drive/MyDrive/DATA/RAW/AMAT.csv\n"
          ]
        },
        {
          "output_type": "stream",
          "name": "stderr",
          "text": [
            "[*********************100%%**********************]  1 of 1 completed\n",
            "[*********************100%%**********************]  1 of 1 completed\n"
          ]
        },
        {
          "output_type": "stream",
          "name": "stdout",
          "text": [
            "Data for AMCR saved to /content/drive/MyDrive/DATA/RAW/AMCR.csv\n"
          ]
        },
        {
          "output_type": "stream",
          "name": "stderr",
          "text": [
            "\r[*********************100%%**********************]  1 of 1 completed\n"
          ]
        },
        {
          "output_type": "stream",
          "name": "stdout",
          "text": [
            "Data for AMD saved to /content/drive/MyDrive/DATA/RAW/AMD.csv\n"
          ]
        },
        {
          "output_type": "stream",
          "name": "stderr",
          "text": [
            "[*********************100%%**********************]  1 of 1 completed\n",
            "[*********************100%%**********************]  1 of 1 completed\n"
          ]
        },
        {
          "output_type": "stream",
          "name": "stdout",
          "text": [
            "Data for AMZN saved to /content/drive/MyDrive/DATA/RAW/AMZN.csv\n"
          ]
        },
        {
          "output_type": "stream",
          "name": "stderr",
          "text": [
            "[*********************100%%**********************]  1 of 1 completed\n",
            "[*********************100%%**********************]  1 of 1 completed\n"
          ]
        },
        {
          "output_type": "stream",
          "name": "stdout",
          "text": [
            "Data for ANDR.VI saved to /content/drive/MyDrive/DATA/RAW/ANDR.VI.csv\n"
          ]
        },
        {
          "output_type": "stream",
          "name": "stderr",
          "text": [
            "[*********************100%%**********************]  1 of 1 completed\n",
            "[*********************100%%**********************]  1 of 1 completed\n"
          ]
        },
        {
          "output_type": "stream",
          "name": "stdout",
          "text": [
            "Data for APA.AX saved to /content/drive/MyDrive/DATA/RAW/APA.AX.csv\n"
          ]
        },
        {
          "output_type": "stream",
          "name": "stderr",
          "text": [
            "[*********************100%%**********************]  1 of 1 completed\n",
            "[*********************100%%**********************]  1 of 1 completed\n",
            "[*********************100%%**********************]  1 of 1 completed\n"
          ]
        },
        {
          "output_type": "stream",
          "name": "stdout",
          "text": [
            "Data for APAM.AS saved to /content/drive/MyDrive/DATA/RAW/APAM.AS.csv\n"
          ]
        },
        {
          "output_type": "stream",
          "name": "stderr",
          "text": [
            "\r[*********************100%%**********************]  1 of 1 completed\n"
          ]
        },
        {
          "output_type": "stream",
          "name": "stdout",
          "text": [
            "Data for AQN.TO saved to /content/drive/MyDrive/DATA/RAW/AQN.TO.csv\n"
          ]
        },
        {
          "output_type": "stream",
          "name": "stderr",
          "text": [
            "[*********************100%%**********************]  1 of 1 completed\n",
            "[*********************100%%**********************]  1 of 1 completed\n",
            "[*********************100%%**********************]  1 of 1 completed\n"
          ]
        },
        {
          "output_type": "stream",
          "name": "stdout",
          "text": [
            "Data for ARM saved to /content/drive/MyDrive/DATA/RAW/ARM.csv\n"
          ]
        },
        {
          "output_type": "stream",
          "name": "stderr",
          "text": [
            "[*********************100%%**********************]  1 of 1 completed\n",
            "[*********************100%%**********************]  1 of 1 completed\n"
          ]
        },
        {
          "output_type": "stream",
          "name": "stdout",
          "text": [
            "Data for ASML.AS saved to /content/drive/MyDrive/DATA/RAW/ASML.AS.csv\n"
          ]
        },
        {
          "output_type": "stream",
          "name": "stderr",
          "text": [
            "\r[*********************100%%**********************]  1 of 1 completed\n"
          ]
        },
        {
          "output_type": "stream",
          "name": "stdout",
          "text": [
            "Data for ATCO-B.ST saved to /content/drive/MyDrive/DATA/RAW/ATCO-B.ST.csv\n"
          ]
        },
        {
          "output_type": "stream",
          "name": "stderr",
          "text": [
            "[*********************100%%**********************]  1 of 1 completed\n",
            "[*********************100%%**********************]  1 of 1 completed\n",
            "[*********************100%%**********************]  1 of 1 completed\n"
          ]
        },
        {
          "output_type": "stream",
          "name": "stdout",
          "text": [
            "Data for ATO saved to /content/drive/MyDrive/DATA/RAW/ATO.csv\n"
          ]
        },
        {
          "output_type": "stream",
          "name": "stderr",
          "text": [
            "\r[*********************100%%**********************]  1 of 1 completed\n"
          ]
        },
        {
          "output_type": "stream",
          "name": "stdout",
          "text": [
            "Data for AVAV saved to /content/drive/MyDrive/DATA/RAW/AVAV.csv\n"
          ]
        },
        {
          "output_type": "stream",
          "name": "stderr",
          "text": [
            "[*********************100%%**********************]  1 of 1 completed\n",
            "[*********************100%%**********************]  1 of 1 completed\n"
          ]
        },
        {
          "output_type": "stream",
          "name": "stdout",
          "text": [
            "Data for AVGO saved to /content/drive/MyDrive/DATA/RAW/AVGO.csv\n"
          ]
        },
        {
          "output_type": "stream",
          "name": "stderr",
          "text": [
            "[*********************100%%**********************]  1 of 1 completed\n",
            "[*********************100%%**********************]  1 of 1 completed\n"
          ]
        },
        {
          "output_type": "stream",
          "name": "stdout",
          "text": [
            "Data for AVY saved to /content/drive/MyDrive/DATA/RAW/AVY.csv\n"
          ]
        },
        {
          "output_type": "stream",
          "name": "stderr",
          "text": [
            "[*********************100%%**********************]  1 of 1 completed\n",
            "[*********************100%%**********************]  1 of 1 completed\n",
            "[*********************100%%**********************]  1 of 1 completed\n"
          ]
        },
        {
          "output_type": "stream",
          "name": "stdout",
          "text": [
            "Data for AWK saved to /content/drive/MyDrive/DATA/RAW/AWK.csv\n"
          ]
        },
        {
          "output_type": "stream",
          "name": "stderr",
          "text": [
            "\r[*********************100%%**********************]  1 of 1 completed\n"
          ]
        },
        {
          "output_type": "stream",
          "name": "stdout",
          "text": [
            "Data for AXON saved to /content/drive/MyDrive/DATA/RAW/AXON.csv\n"
          ]
        },
        {
          "output_type": "stream",
          "name": "stderr",
          "text": [
            "[*********************100%%**********************]  1 of 1 completed\n",
            "[*********************100%%**********************]  1 of 1 completed\n"
          ]
        },
        {
          "output_type": "stream",
          "name": "stdout",
          "text": [
            "Data for AZLGF saved to /content/drive/MyDrive/DATA/RAW/AZLGF.csv\n"
          ]
        },
        {
          "output_type": "stream",
          "name": "stderr",
          "text": [
            "[*********************100%%**********************]  1 of 1 completed\n",
            "[*********************100%%**********************]  1 of 1 completed\n"
          ]
        },
        {
          "output_type": "stream",
          "name": "stdout",
          "text": [
            "Data for BA saved to /content/drive/MyDrive/DATA/RAW/BA.csv\n"
          ]
        },
        {
          "output_type": "stream",
          "name": "stderr",
          "text": [
            "[*********************100%%**********************]  1 of 1 completed\n",
            "[*********************100%%**********************]  1 of 1 completed\n",
            "[*********************100%%**********************]  1 of 1 completed\n"
          ]
        },
        {
          "output_type": "stream",
          "name": "stdout",
          "text": [
            "Data for BA.L saved to /content/drive/MyDrive/DATA/RAW/BA.L.csv\n"
          ]
        },
        {
          "output_type": "stream",
          "name": "stderr",
          "text": [
            "\r[*********************100%%**********************]  1 of 1 completed\n"
          ]
        },
        {
          "output_type": "stream",
          "name": "stdout",
          "text": [
            "Data for BABA saved to /content/drive/MyDrive/DATA/RAW/BABA.csv\n"
          ]
        },
        {
          "output_type": "stream",
          "name": "stderr",
          "text": [
            "[*********************100%%**********************]  1 of 1 completed\n",
            "[*********************100%%**********************]  1 of 1 completed\n"
          ]
        },
        {
          "output_type": "stream",
          "name": "stdout",
          "text": [
            "Data for BAS.DE saved to /content/drive/MyDrive/DATA/RAW/BAS.DE.csv\n"
          ]
        },
        {
          "output_type": "stream",
          "name": "stderr",
          "text": [
            "[*********************100%%**********************]  1 of 1 completed\n",
            "[*********************100%%**********************]  1 of 1 completed\n"
          ]
        },
        {
          "output_type": "stream",
          "name": "stdout",
          "text": [
            "Data for BAYN.DE saved to /content/drive/MyDrive/DATA/RAW/BAYN.DE.csv\n"
          ]
        },
        {
          "output_type": "stream",
          "name": "stderr",
          "text": [
            "[*********************100%%**********************]  1 of 1 completed\n",
            "[*********************100%%**********************]  1 of 1 completed\n"
          ]
        },
        {
          "output_type": "stream",
          "name": "stdout",
          "text": [
            "Data for BC8.DE saved to /content/drive/MyDrive/DATA/RAW/BC8.DE.csv\n"
          ]
        },
        {
          "output_type": "stream",
          "name": "stderr",
          "text": [
            "[*********************100%%**********************]  1 of 1 completed\n",
            "[*********************100%%**********************]  1 of 1 completed\n"
          ]
        },
        {
          "output_type": "stream",
          "name": "stdout",
          "text": [
            "Data for BDC saved to /content/drive/MyDrive/DATA/RAW/BDC.csv\n"
          ]
        },
        {
          "output_type": "stream",
          "name": "stderr",
          "text": [
            "[*********************100%%**********************]  1 of 1 completed\n",
            "[*********************100%%**********************]  1 of 1 completed\n"
          ]
        },
        {
          "output_type": "stream",
          "name": "stdout",
          "text": [
            "Data for BFSA.DE saved to /content/drive/MyDrive/DATA/RAW/BFSA.DE.csv\n"
          ]
        },
        {
          "output_type": "stream",
          "name": "stderr",
          "text": [
            "[*********************100%%**********************]  1 of 1 completed\n",
            "[*********************100%%**********************]  1 of 1 completed\n",
            "[*********************100%%**********************]  1 of 1 completed\n"
          ]
        },
        {
          "output_type": "stream",
          "name": "stdout",
          "text": [
            "Data for BHP.AX saved to /content/drive/MyDrive/DATA/RAW/BHP.AX.csv\n"
          ]
        },
        {
          "output_type": "stream",
          "name": "stderr",
          "text": [
            "\r[*********************100%%**********************]  1 of 1 completed\n"
          ]
        },
        {
          "output_type": "stream",
          "name": "stdout",
          "text": [
            "Data for BIDU saved to /content/drive/MyDrive/DATA/RAW/BIDU.csv\n"
          ]
        },
        {
          "output_type": "stream",
          "name": "stderr",
          "text": [
            "[*********************100%%**********************]  1 of 1 completed\n",
            "[*********************100%%**********************]  1 of 1 completed\n"
          ]
        },
        {
          "output_type": "stream",
          "name": "stdout",
          "text": [
            "Data for BIP saved to /content/drive/MyDrive/DATA/RAW/BIP.csv\n"
          ]
        },
        {
          "output_type": "stream",
          "name": "stderr",
          "text": [
            "[*********************100%%**********************]  1 of 1 completed\n",
            "[*********************100%%**********************]  1 of 1 completed\n",
            "[*********************100%%**********************]  1 of 1 completed\n"
          ]
        },
        {
          "output_type": "stream",
          "name": "stdout",
          "text": [
            "Data for BLDP saved to /content/drive/MyDrive/DATA/RAW/BLDP.csv\n"
          ]
        },
        {
          "output_type": "stream",
          "name": "stderr",
          "text": [
            "\r[*********************100%%**********************]  1 of 1 completed\n"
          ]
        },
        {
          "output_type": "stream",
          "name": "stdout",
          "text": [
            "Data for BNR.DE saved to /content/drive/MyDrive/DATA/RAW/BNR.DE.csv\n"
          ]
        },
        {
          "output_type": "stream",
          "name": "stderr",
          "text": [
            "[*********************100%%**********************]  1 of 1 completed\n",
            "[*********************100%%**********************]  1 of 1 completed\n",
            "[*********************100%%**********************]  1 of 1 completed\n"
          ]
        },
        {
          "output_type": "stream",
          "name": "stdout",
          "text": [
            "Data for BSL.DE saved to /content/drive/MyDrive/DATA/RAW/BSL.DE.csv\n"
          ]
        },
        {
          "output_type": "stream",
          "name": "stderr",
          "text": [
            "\r[*********************100%%**********************]  1 of 1 completed\n"
          ]
        },
        {
          "output_type": "stream",
          "name": "stdout",
          "text": [
            "Data for BWXT saved to /content/drive/MyDrive/DATA/RAW/BWXT.csv\n"
          ]
        },
        {
          "output_type": "stream",
          "name": "stderr",
          "text": [
            "[*********************100%%**********************]  1 of 1 completed\n",
            "[*********************100%%**********************]  1 of 1 completed\n",
            "[*********************100%%**********************]  1 of 1 completed\n"
          ]
        },
        {
          "output_type": "stream",
          "name": "stdout",
          "text": [
            "Data for BZ=F saved to /content/drive/MyDrive/DATA/RAW/BZ=F.csv\n"
          ]
        },
        {
          "output_type": "stream",
          "name": "stderr",
          "text": [
            "\r[*********************100%%**********************]  1 of 1 completed\n"
          ]
        },
        {
          "output_type": "stream",
          "name": "stdout",
          "text": [
            "Data for CARR saved to /content/drive/MyDrive/DATA/RAW/CARR.csv\n"
          ]
        },
        {
          "output_type": "stream",
          "name": "stderr",
          "text": [
            "[*********************100%%**********************]  1 of 1 completed\n",
            "[*********************100%%**********************]  1 of 1 completed\n",
            "[*********************100%%**********************]  1 of 1 completed\n"
          ]
        },
        {
          "output_type": "stream",
          "name": "stdout",
          "text": [
            "Data for CAT saved to /content/drive/MyDrive/DATA/RAW/CAT.csv\n"
          ]
        },
        {
          "output_type": "stream",
          "name": "stderr",
          "text": [
            "\r[*********************100%%**********************]  1 of 1 completed\n"
          ]
        },
        {
          "output_type": "stream",
          "name": "stdout",
          "text": [
            "Data for CCK saved to /content/drive/MyDrive/DATA/RAW/CCK.csv\n"
          ]
        },
        {
          "output_type": "stream",
          "name": "stderr",
          "text": [
            "[*********************100%%**********************]  1 of 1 completed\n",
            "[*********************100%%**********************]  1 of 1 completed\n",
            "ERROR:yfinance:\n",
            "1 Failed download:\n",
            "ERROR:yfinance:['CE2.F']: YFTzMissingError('$%ticker%: possibly delisted; No timezone found')\n"
          ]
        },
        {
          "output_type": "stream",
          "name": "stdout",
          "text": [
            "Data for CE2.F saved to /content/drive/MyDrive/DATA/RAW/CE2.F.csv\n"
          ]
        },
        {
          "output_type": "stream",
          "name": "stderr",
          "text": [
            "[*********************100%%**********************]  1 of 1 completed\n",
            "[*********************100%%**********************]  1 of 1 completed\n"
          ]
        },
        {
          "output_type": "stream",
          "name": "stdout",
          "text": [
            "Data for CEG saved to /content/drive/MyDrive/DATA/RAW/CEG.csv\n"
          ]
        },
        {
          "output_type": "stream",
          "name": "stderr",
          "text": [
            "[*********************100%%**********************]  1 of 1 completed\n",
            "[*********************100%%**********************]  1 of 1 completed\n"
          ]
        },
        {
          "output_type": "stream",
          "name": "stdout",
          "text": [
            "Data for CHFFF saved to /content/drive/MyDrive/DATA/RAW/CHFFF.csv\n"
          ]
        },
        {
          "output_type": "stream",
          "name": "stderr",
          "text": [
            "[*********************100%%**********************]  1 of 1 completed\n",
            "[*********************100%%**********************]  1 of 1 completed\n",
            "[*********************100%%**********************]  1 of 1 completed\n"
          ]
        },
        {
          "output_type": "stream",
          "name": "stdout",
          "text": [
            "Data for CLNZ.XC saved to /content/drive/MyDrive/DATA/RAW/CLNZ.XC.csv\n"
          ]
        },
        {
          "output_type": "stream",
          "name": "stderr",
          "text": [
            "[*********************100%%**********************]  1 of 1 completed\n",
            "[*********************100%%**********************]  1 of 1 completed\n"
          ]
        },
        {
          "output_type": "stream",
          "name": "stdout",
          "text": [
            "Data for CMI saved to /content/drive/MyDrive/DATA/RAW/CMI.csv\n"
          ]
        },
        {
          "output_type": "stream",
          "name": "stderr",
          "text": [
            "\r[*********************100%%**********************]  1 of 1 completed\n"
          ]
        },
        {
          "output_type": "stream",
          "name": "stdout",
          "text": [
            "Data for CMS saved to /content/drive/MyDrive/DATA/RAW/CMS.csv\n"
          ]
        },
        {
          "output_type": "stream",
          "name": "stderr",
          "text": [
            "[*********************100%%**********************]  1 of 1 completed\n",
            "[*********************100%%**********************]  1 of 1 completed\n"
          ]
        },
        {
          "output_type": "stream",
          "name": "stdout",
          "text": [
            "Data for CNA.L saved to /content/drive/MyDrive/DATA/RAW/CNA.L.csv\n"
          ]
        },
        {
          "output_type": "stream",
          "name": "stderr",
          "text": [
            "[*********************100%%**********************]  1 of 1 completed\n",
            "[*********************100%%**********************]  1 of 1 completed\n"
          ]
        },
        {
          "output_type": "stream",
          "name": "stdout",
          "text": [
            "Data for CNHI saved to /content/drive/MyDrive/DATA/RAW/CNHI.csv\n"
          ]
        },
        {
          "output_type": "stream",
          "name": "stderr",
          "text": [
            "[*********************100%%**********************]  1 of 1 completed\n",
            "[*********************100%%**********************]  1 of 1 completed\n"
          ]
        },
        {
          "output_type": "stream",
          "name": "stdout",
          "text": [
            "Data for CNP saved to /content/drive/MyDrive/DATA/RAW/CNP.csv\n"
          ]
        },
        {
          "output_type": "stream",
          "name": "stderr",
          "text": [
            "[*********************100%%**********************]  1 of 1 completed\n",
            "[*********************100%%**********************]  1 of 1 completed\n"
          ]
        },
        {
          "output_type": "stream",
          "name": "stdout",
          "text": [
            "Data for CRDA.L saved to /content/drive/MyDrive/DATA/RAW/CRDA.L.csv\n"
          ]
        },
        {
          "output_type": "stream",
          "name": "stderr",
          "text": [
            "[*********************100%%**********************]  1 of 1 completed\n",
            "[*********************100%%**********************]  1 of 1 completed\n"
          ]
        },
        {
          "output_type": "stream",
          "name": "stdout",
          "text": [
            "Data for CRM saved to /content/drive/MyDrive/DATA/RAW/CRM.csv\n"
          ]
        },
        {
          "output_type": "stream",
          "name": "stderr",
          "text": [
            "[*********************100%%**********************]  1 of 1 completed\n",
            "[*********************100%%**********************]  1 of 1 completed\n",
            "[*********************100%%**********************]  1 of 1 completed\n"
          ]
        },
        {
          "output_type": "stream",
          "name": "stdout",
          "text": [
            "Data for CRWD saved to /content/drive/MyDrive/DATA/RAW/CRWD.csv\n"
          ]
        },
        {
          "output_type": "stream",
          "name": "stderr",
          "text": [
            "\r[*********************100%%**********************]  1 of 1 completed\n"
          ]
        },
        {
          "output_type": "stream",
          "name": "stdout",
          "text": [
            "Data for CSCO saved to /content/drive/MyDrive/DATA/RAW/CSCO.csv\n"
          ]
        },
        {
          "output_type": "stream",
          "name": "stderr",
          "text": [
            "[*********************100%%**********************]  1 of 1 completed\n",
            "[*********************100%%**********************]  1 of 1 completed\n",
            "[*********************100%%**********************]  1 of 1 completed\n"
          ]
        },
        {
          "output_type": "stream",
          "name": "stdout",
          "text": [
            "Data for CW saved to /content/drive/MyDrive/DATA/RAW/CW.csv\n"
          ]
        },
        {
          "output_type": "stream",
          "name": "stderr",
          "text": [
            "\r[*********************100%%**********************]  1 of 1 completed\n"
          ]
        },
        {
          "output_type": "stream",
          "name": "stdout",
          "text": [
            "Data for D saved to /content/drive/MyDrive/DATA/RAW/D.csv\n"
          ]
        },
        {
          "output_type": "stream",
          "name": "stderr",
          "text": [
            "[*********************100%%**********************]  1 of 1 completed\n",
            "[*********************100%%**********************]  1 of 1 completed\n",
            "[*********************100%%**********************]  1 of 1 completed\n"
          ]
        },
        {
          "output_type": "stream",
          "name": "stdout",
          "text": [
            "Data for D7G.F saved to /content/drive/MyDrive/DATA/RAW/D7G.F.csv\n"
          ]
        },
        {
          "output_type": "stream",
          "name": "stderr",
          "text": [
            "[*********************100%%**********************]  1 of 1 completed\n",
            "[*********************100%%**********************]  1 of 1 completed\n"
          ]
        },
        {
          "output_type": "stream",
          "name": "stdout",
          "text": [
            "Data for DCO saved to /content/drive/MyDrive/DATA/RAW/DCO.csv\n"
          ]
        },
        {
          "output_type": "stream",
          "name": "stderr",
          "text": [
            "\r[*********************100%%**********************]  1 of 1 completed\n"
          ]
        },
        {
          "output_type": "stream",
          "name": "stdout",
          "text": [
            "Data for DD saved to /content/drive/MyDrive/DATA/RAW/DD.csv\n"
          ]
        },
        {
          "output_type": "stream",
          "name": "stderr",
          "text": [
            "[*********************100%%**********************]  1 of 1 completed\n",
            "[*********************100%%**********************]  1 of 1 completed\n"
          ]
        },
        {
          "output_type": "stream",
          "name": "stdout",
          "text": [
            "Data for DE saved to /content/drive/MyDrive/DATA/RAW/DE.csv\n"
          ]
        },
        {
          "output_type": "stream",
          "name": "stderr",
          "text": [
            "[*********************100%%**********************]  1 of 1 completed\n",
            "[*********************100%%**********************]  1 of 1 completed\n",
            "[*********************100%%**********************]  1 of 1 completed\n"
          ]
        },
        {
          "output_type": "stream",
          "name": "stdout",
          "text": [
            "Data for DEZ.DE saved to /content/drive/MyDrive/DATA/RAW/DEZ.DE.csv\n"
          ]
        },
        {
          "output_type": "stream",
          "name": "stderr",
          "text": [
            "[*********************100%%**********************]  1 of 1 completed\n",
            "[*********************100%%**********************]  1 of 1 completed"
          ]
        },
        {
          "output_type": "stream",
          "name": "stdout",
          "text": [
            "Data for DHL.DE saved to /content/drive/MyDrive/DATA/RAW/DHL.DE.csv\n"
          ]
        },
        {
          "output_type": "stream",
          "name": "stderr",
          "text": [
            "\n",
            "\r[*********************100%%**********************]  1 of 1 completed\n"
          ]
        },
        {
          "output_type": "stream",
          "name": "stdout",
          "text": [
            "Data for DOW saved to /content/drive/MyDrive/DATA/RAW/DOW.csv\n"
          ]
        },
        {
          "output_type": "stream",
          "name": "stderr",
          "text": [
            "[*********************100%%**********************]  1 of 1 completed\n",
            "[*********************100%%**********************]  1 of 1 completed\n",
            "[*********************100%%**********************]  1 of 1 completed\n"
          ]
        },
        {
          "output_type": "stream",
          "name": "stdout",
          "text": [
            "Data for DQ saved to /content/drive/MyDrive/DATA/RAW/DQ.csv\n"
          ]
        },
        {
          "output_type": "stream",
          "name": "stderr",
          "text": [
            "\r[*********************100%%**********************]  1 of 1 completed\n"
          ]
        },
        {
          "output_type": "stream",
          "name": "stdout",
          "text": [
            "Data for DSV.CO saved to /content/drive/MyDrive/DATA/RAW/DSV.CO.csv\n"
          ]
        },
        {
          "output_type": "stream",
          "name": "stderr",
          "text": [
            "[*********************100%%**********************]  1 of 1 completed\n",
            "[*********************100%%**********************]  1 of 1 completed\n",
            "[*********************100%%**********************]  1 of 1 completed\n"
          ]
        },
        {
          "output_type": "stream",
          "name": "stdout",
          "text": [
            "Data for DTE saved to /content/drive/MyDrive/DATA/RAW/DTE.csv\n"
          ]
        },
        {
          "output_type": "stream",
          "name": "stderr",
          "text": [
            "\r[*********************100%%**********************]  1 of 1 completed\n"
          ]
        },
        {
          "output_type": "stream",
          "name": "stdout",
          "text": [
            "Data for DTE.DE saved to /content/drive/MyDrive/DATA/RAW/DTE.DE.csv\n"
          ]
        },
        {
          "output_type": "stream",
          "name": "stderr",
          "text": [
            "[*********************100%%**********************]  1 of 1 completed\n",
            "[*********************100%%**********************]  1 of 1 completed\n",
            "[*********************100%%**********************]  1 of 1 completed\n"
          ]
        },
        {
          "output_type": "stream",
          "name": "stdout",
          "text": [
            "Data for DUE.DE saved to /content/drive/MyDrive/DATA/RAW/DUE.DE.csv\n"
          ]
        },
        {
          "output_type": "stream",
          "name": "stderr",
          "text": [
            "\r[*********************100%%**********************]  1 of 1 completed\n"
          ]
        },
        {
          "output_type": "stream",
          "name": "stdout",
          "text": [
            "Data for DUK saved to /content/drive/MyDrive/DATA/RAW/DUK.csv\n"
          ]
        },
        {
          "output_type": "stream",
          "name": "stderr",
          "text": [
            "[*********************100%%**********************]  1 of 1 completed\n",
            "[*********************100%%**********************]  1 of 1 completed\n",
            "[*********************100%%**********************]  1 of 1 completed\n"
          ]
        },
        {
          "output_type": "stream",
          "name": "stdout",
          "text": [
            "Data for EBR saved to /content/drive/MyDrive/DATA/RAW/EBR.csv\n"
          ]
        },
        {
          "output_type": "stream",
          "name": "stderr",
          "text": [
            "\r[*********************100%%**********************]  1 of 1 completed\n"
          ]
        },
        {
          "output_type": "stream",
          "name": "stdout",
          "text": [
            "Data for ECV.DE saved to /content/drive/MyDrive/DATA/RAW/ECV.DE.csv\n"
          ]
        },
        {
          "output_type": "stream",
          "name": "stderr",
          "text": [
            "[*********************100%%**********************]  1 of 1 completed\n",
            "[*********************100%%**********************]  1 of 1 completed\n",
            "[*********************100%%**********************]  1 of 1 completed\n"
          ]
        },
        {
          "output_type": "stream",
          "name": "stdout",
          "text": [
            "Data for ED saved to /content/drive/MyDrive/DATA/RAW/ED.csv\n"
          ]
        },
        {
          "output_type": "stream",
          "name": "stderr",
          "text": [
            "\r[*********************100%%**********************]  1 of 1 completed\n"
          ]
        },
        {
          "output_type": "stream",
          "name": "stdout",
          "text": [
            "Data for EDP.LS saved to /content/drive/MyDrive/DATA/RAW/EDP.LS.csv\n"
          ]
        },
        {
          "output_type": "stream",
          "name": "stderr",
          "text": [
            "[*********************100%%**********************]  1 of 1 completed\n",
            "[*********************100%%**********************]  1 of 1 completed\n",
            "[*********************100%%**********************]  1 of 1 completed"
          ]
        },
        {
          "output_type": "stream",
          "name": "stdout",
          "text": [
            "Data for EDPR.LS saved to /content/drive/MyDrive/DATA/RAW/EDPR.LS.csv\n"
          ]
        },
        {
          "output_type": "stream",
          "name": "stderr",
          "text": [
            "\n",
            "[*********************100%%**********************]  1 of 1 completed\n"
          ]
        },
        {
          "output_type": "stream",
          "name": "stdout",
          "text": [
            "Data for EIX saved to /content/drive/MyDrive/DATA/RAW/EIX.csv\n"
          ]
        },
        {
          "output_type": "stream",
          "name": "stderr",
          "text": [
            "[*********************100%%**********************]  1 of 1 completed\n",
            "[*********************100%%**********************]  1 of 1 completed\n"
          ]
        },
        {
          "output_type": "stream",
          "name": "stdout",
          "text": [
            "Data for EKT.DE saved to /content/drive/MyDrive/DATA/RAW/EKT.DE.csv\n"
          ]
        },
        {
          "output_type": "stream",
          "name": "stderr",
          "text": [
            "[*********************100%%**********************]  1 of 1 completed\n",
            "[*********************100%%**********************]  1 of 1 completed\n"
          ]
        },
        {
          "output_type": "stream",
          "name": "stdout",
          "text": [
            "Data for ELE.MC saved to /content/drive/MyDrive/DATA/RAW/ELE.MC.csv\n"
          ]
        },
        {
          "output_type": "stream",
          "name": "stderr",
          "text": [
            "[*********************100%%**********************]  1 of 1 completed\n",
            "[*********************100%%**********************]  1 of 1 completed\n"
          ]
        },
        {
          "output_type": "stream",
          "name": "stdout",
          "text": [
            "Data for ELG.DE saved to /content/drive/MyDrive/DATA/RAW/ELG.DE.csv\n"
          ]
        },
        {
          "output_type": "stream",
          "name": "stderr",
          "text": [
            "[*********************100%%**********************]  1 of 1 completed\n",
            "[*********************100%%**********************]  1 of 1 completed\n"
          ]
        },
        {
          "output_type": "stream",
          "name": "stdout",
          "text": [
            "Data for ELI.BR saved to /content/drive/MyDrive/DATA/RAW/ELI.BR.csv\n"
          ]
        },
        {
          "output_type": "stream",
          "name": "stderr",
          "text": [
            "[*********************100%%**********************]  1 of 1 completed\n",
            "[*********************100%%**********************]  1 of 1 completed\n",
            "[*********************100%%**********************]  1 of 1 completed\n"
          ]
        },
        {
          "output_type": "stream",
          "name": "stdout",
          "text": [
            "Data for EMA.TO saved to /content/drive/MyDrive/DATA/RAW/EMA.TO.csv\n"
          ]
        },
        {
          "output_type": "stream",
          "name": "stderr",
          "text": [
            "\r[*********************100%%**********************]  1 of 1 completed\n"
          ]
        },
        {
          "output_type": "stream",
          "name": "stdout",
          "text": [
            "Data for EMR saved to /content/drive/MyDrive/DATA/RAW/EMR.csv\n"
          ]
        },
        {
          "output_type": "stream",
          "name": "stderr",
          "text": [
            "[*********************100%%**********************]  1 of 1 completed\n",
            "[*********************100%%**********************]  1 of 1 completed\n",
            "[*********************100%%**********************]  1 of 1 completed\n"
          ]
        },
        {
          "output_type": "stream",
          "name": "stdout",
          "text": [
            "Data for EMSNZ.XC saved to /content/drive/MyDrive/DATA/RAW/EMSNZ.XC.csv\n"
          ]
        },
        {
          "output_type": "stream",
          "name": "stderr",
          "text": [
            "\r[*********************100%%**********************]  1 of 1 completed\n"
          ]
        },
        {
          "output_type": "stream",
          "name": "stdout",
          "text": [
            "Data for ENEL.MI saved to /content/drive/MyDrive/DATA/RAW/ENEL.MI.csv\n"
          ]
        },
        {
          "output_type": "stream",
          "name": "stderr",
          "text": [
            "[*********************100%%**********************]  1 of 1 completed\n",
            "[*********************100%%**********************]  1 of 1 completed\n"
          ]
        },
        {
          "output_type": "stream",
          "name": "stdout",
          "text": [
            "Data for ENG.MC saved to /content/drive/MyDrive/DATA/RAW/ENG.MC.csv\n"
          ]
        },
        {
          "output_type": "stream",
          "name": "stderr",
          "text": [
            "[*********************100%%**********************]  1 of 1 completed\n",
            "[*********************100%%**********************]  1 of 1 completed\n",
            "[*********************100%%**********************]  1 of 1 completed\n"
          ]
        },
        {
          "output_type": "stream",
          "name": "stdout",
          "text": [
            "Data for ENGI.PA saved to /content/drive/MyDrive/DATA/RAW/ENGI.PA.csv\n"
          ]
        },
        {
          "output_type": "stream",
          "name": "stderr",
          "text": [
            "[*********************100%%**********************]  1 of 1 completed\n",
            "[*********************100%%**********************]  1 of 1 completed\n"
          ]
        },
        {
          "output_type": "stream",
          "name": "stdout",
          "text": [
            "Data for ENPH saved to /content/drive/MyDrive/DATA/RAW/ENPH.csv\n"
          ]
        },
        {
          "output_type": "stream",
          "name": "stderr",
          "text": [
            "\r[*********************100%%**********************]  1 of 1 completed\n"
          ]
        },
        {
          "output_type": "stream",
          "name": "stdout",
          "text": [
            "Data for ENR.DE saved to /content/drive/MyDrive/DATA/RAW/ENR.DE.csv\n"
          ]
        },
        {
          "output_type": "stream",
          "name": "stderr",
          "text": [
            "[*********************100%%**********************]  1 of 1 completed\n",
            "[*********************100%%**********************]  1 of 1 completed\n",
            "[*********************100%%**********************]  1 of 1 completed\n"
          ]
        },
        {
          "output_type": "stream",
          "name": "stdout",
          "text": [
            "Data for EOAN.DE saved to /content/drive/MyDrive/DATA/RAW/EOAN.DE.csv\n"
          ]
        },
        {
          "output_type": "stream",
          "name": "stderr",
          "text": [
            "\r[*********************100%%**********************]  1 of 1 completed\n"
          ]
        },
        {
          "output_type": "stream",
          "name": "stdout",
          "text": [
            "Data for EPI-B.ST saved to /content/drive/MyDrive/DATA/RAW/EPI-B.ST.csv\n"
          ]
        },
        {
          "output_type": "stream",
          "name": "stderr",
          "text": [
            "[*********************100%%**********************]  1 of 1 completed\n",
            "[*********************100%%**********************]  1 of 1 completed\n",
            "[*********************100%%**********************]  1 of 1 completed\n"
          ]
        },
        {
          "output_type": "stream",
          "name": "stdout",
          "text": [
            "Data for ES saved to /content/drive/MyDrive/DATA/RAW/ES.csv\n"
          ]
        },
        {
          "output_type": "stream",
          "name": "stderr",
          "text": [
            "\r[*********************100%%**********************]  1 of 1 completed\n",
            "ERROR:yfinance:\n",
            "1 Failed download:\n",
            "ERROR:yfinance:['ES0105563003.SG']: YFInvalidPeriodError(\"%ticker%: Period 'max' is invalid, must be one of ['1d', '5d']\")\n"
          ]
        },
        {
          "output_type": "stream",
          "name": "stdout",
          "text": [
            "Data for ES0105563003.SG saved to /content/drive/MyDrive/DATA/RAW/ES0105563003.SG.csv\n"
          ]
        },
        {
          "output_type": "stream",
          "name": "stderr",
          "text": [
            "[*********************100%%**********************]  1 of 1 completed\n",
            "[*********************100%%**********************]  1 of 1 completed\n",
            "[*********************100%%**********************]  1 of 1 completed\n"
          ]
        },
        {
          "output_type": "stream",
          "name": "stdout",
          "text": [
            "Data for ETG.DE saved to /content/drive/MyDrive/DATA/RAW/ETG.DE.csv\n"
          ]
        },
        {
          "output_type": "stream",
          "name": "stderr",
          "text": [
            "\r[*********************100%%**********************]  1 of 1 completed\n"
          ]
        },
        {
          "output_type": "stream",
          "name": "stdout",
          "text": [
            "Data for ETN saved to /content/drive/MyDrive/DATA/RAW/ETN.csv\n"
          ]
        },
        {
          "output_type": "stream",
          "name": "stderr",
          "text": [
            "[*********************100%%**********************]  1 of 1 completed\n",
            "[*********************100%%**********************]  1 of 1 completed\n",
            "[*********************100%%**********************]  1 of 1 completed\n"
          ]
        },
        {
          "output_type": "stream",
          "name": "stdout",
          "text": [
            "Data for ETR saved to /content/drive/MyDrive/DATA/RAW/ETR.csv\n"
          ]
        },
        {
          "output_type": "stream",
          "name": "stderr",
          "text": [
            "\r[*********************100%%**********************]  1 of 1 completed\n"
          ]
        },
        {
          "output_type": "stream",
          "name": "stdout",
          "text": [
            "Data for EVK.DE saved to /content/drive/MyDrive/DATA/RAW/EVK.DE.csv\n"
          ]
        },
        {
          "output_type": "stream",
          "name": "stderr",
          "text": [
            "[*********************100%%**********************]  1 of 1 completed\n",
            "[*********************100%%**********************]  1 of 1 completed\n",
            "[*********************100%%**********************]  1 of 1 completed\n"
          ]
        },
        {
          "output_type": "stream",
          "name": "stdout",
          "text": [
            "Data for EVRG saved to /content/drive/MyDrive/DATA/RAW/EVRG.csv\n"
          ]
        },
        {
          "output_type": "stream",
          "name": "stderr",
          "text": [
            "\r[*********************100%%**********************]  1 of 1 completed\n"
          ]
        },
        {
          "output_type": "stream",
          "name": "stdout",
          "text": [
            "Data for EXC saved to /content/drive/MyDrive/DATA/RAW/EXC.csv\n"
          ]
        },
        {
          "output_type": "stream",
          "name": "stderr",
          "text": [
            "[*********************100%%**********************]  1 of 1 completed\n",
            "[*********************100%%**********************]  1 of 1 completed\n",
            "[*********************100%%**********************]  1 of 1 completed\n"
          ]
        },
        {
          "output_type": "stream",
          "name": "stdout",
          "text": [
            "Data for F3C.DE saved to /content/drive/MyDrive/DATA/RAW/F3C.DE.csv\n"
          ]
        },
        {
          "output_type": "stream",
          "name": "stderr",
          "text": [
            "[*********************100%%**********************]  1 of 1 completed\n",
            "[*********************100%%**********************]  1 of 1 completed\n"
          ]
        },
        {
          "output_type": "stream",
          "name": "stdout",
          "text": [
            "Data for FANUY saved to /content/drive/MyDrive/DATA/RAW/FANUY.csv\n"
          ]
        },
        {
          "output_type": "stream",
          "name": "stderr",
          "text": [
            "\r[*********************100%%**********************]  1 of 1 completed\n"
          ]
        },
        {
          "output_type": "stream",
          "name": "stdout",
          "text": [
            "Data for FCX saved to /content/drive/MyDrive/DATA/RAW/FCX.csv\n"
          ]
        },
        {
          "output_type": "stream",
          "name": "stderr",
          "text": [
            "[*********************100%%**********************]  1 of 1 completed\n",
            "[*********************100%%**********************]  1 of 1 completed\n"
          ]
        },
        {
          "output_type": "stream",
          "name": "stdout",
          "text": [
            "Data for FDX saved to /content/drive/MyDrive/DATA/RAW/FDX.csv\n"
          ]
        },
        {
          "output_type": "stream",
          "name": "stderr",
          "text": [
            "[*********************100%%**********************]  1 of 1 completed\n",
            "[*********************100%%**********************]  1 of 1 completed\n"
          ]
        },
        {
          "output_type": "stream",
          "name": "stdout",
          "text": [
            "Data for FE saved to /content/drive/MyDrive/DATA/RAW/FE.csv\n"
          ]
        },
        {
          "output_type": "stream",
          "name": "stderr",
          "text": [
            "[*********************100%%**********************]  1 of 1 completed\n",
            "[*********************100%%**********************]  1 of 1 completed\n"
          ]
        },
        {
          "output_type": "stream",
          "name": "stdout",
          "text": [
            "Data for FM.TO saved to /content/drive/MyDrive/DATA/RAW/FM.TO.csv\n"
          ]
        },
        {
          "output_type": "stream",
          "name": "stderr",
          "text": [
            "[*********************100%%**********************]  1 of 1 completed\n",
            "[*********************100%%**********************]  1 of 1 completed\n"
          ]
        },
        {
          "output_type": "stream",
          "name": "stdout",
          "text": [
            "Data for FNTN.DE saved to /content/drive/MyDrive/DATA/RAW/FNTN.DE.csv\n"
          ]
        },
        {
          "output_type": "stream",
          "name": "stderr",
          "text": [
            "[*********************100%%**********************]  1 of 1 completed\n",
            "[*********************100%%**********************]  1 of 1 completed\n"
          ]
        },
        {
          "output_type": "stream",
          "name": "stdout",
          "text": [
            "Data for FORTUM.HE saved to /content/drive/MyDrive/DATA/RAW/FORTUM.HE.csv\n"
          ]
        },
        {
          "output_type": "stream",
          "name": "stderr",
          "text": [
            "[*********************100%%**********************]  1 of 1 completed\n",
            "[*********************100%%**********************]  1 of 1 completed\n"
          ]
        },
        {
          "output_type": "stream",
          "name": "stdout",
          "text": [
            "Data for FPE.DE saved to /content/drive/MyDrive/DATA/RAW/FPE.DE.csv\n"
          ]
        },
        {
          "output_type": "stream",
          "name": "stderr",
          "text": [
            "[*********************100%%**********************]  1 of 1 completed\n",
            "[*********************100%%**********************]  1 of 1 completed\n",
            "[*********************100%%**********************]  1 of 1 completed\n"
          ]
        },
        {
          "output_type": "stream",
          "name": "stdout",
          "text": [
            "Data for FSLR saved to /content/drive/MyDrive/DATA/RAW/FSLR.csv\n"
          ]
        },
        {
          "output_type": "stream",
          "name": "stderr",
          "text": [
            "[*********************100%%**********************]  1 of 1 completed\n",
            "[*********************100%%**********************]  1 of 1 completed\n"
          ]
        },
        {
          "output_type": "stream",
          "name": "stdout",
          "text": [
            "Data for FTS.TO saved to /content/drive/MyDrive/DATA/RAW/FTS.TO.csv\n"
          ]
        },
        {
          "output_type": "stream",
          "name": "stderr",
          "text": [
            "\r[*********************100%%**********************]  1 of 1 completed\n"
          ]
        },
        {
          "output_type": "stream",
          "name": "stdout",
          "text": [
            "Data for G1A.DE saved to /content/drive/MyDrive/DATA/RAW/G1A.DE.csv\n"
          ]
        },
        {
          "output_type": "stream",
          "name": "stderr",
          "text": [
            "[*********************100%%**********************]  1 of 1 completed\n",
            "[*********************100%%**********************]  1 of 1 completed\n",
            "[*********************100%%**********************]  1 of 1 completed\n"
          ]
        },
        {
          "output_type": "stream",
          "name": "stdout",
          "text": [
            "Data for GC=F saved to /content/drive/MyDrive/DATA/RAW/GC=F.csv\n"
          ]
        },
        {
          "output_type": "stream",
          "name": "stderr",
          "text": [
            "\r[*********************100%%**********************]  1 of 1 completed\n"
          ]
        },
        {
          "output_type": "stream",
          "name": "stdout",
          "text": [
            "Data for GD saved to /content/drive/MyDrive/DATA/RAW/GD.csv\n"
          ]
        },
        {
          "output_type": "stream",
          "name": "stderr",
          "text": [
            "[*********************100%%**********************]  1 of 1 completed\n",
            "[*********************100%%**********************]  1 of 1 completed\n",
            "[*********************100%%**********************]  1 of 1 completed\n"
          ]
        },
        {
          "output_type": "stream",
          "name": "stdout",
          "text": [
            "Data for GE saved to /content/drive/MyDrive/DATA/RAW/GE.csv\n"
          ]
        },
        {
          "output_type": "stream",
          "name": "stderr",
          "text": [
            "\r[*********************100%%**********************]  1 of 1 completed\n"
          ]
        },
        {
          "output_type": "stream",
          "name": "stdout",
          "text": [
            "Data for GFS saved to /content/drive/MyDrive/DATA/RAW/GFS.csv\n"
          ]
        },
        {
          "output_type": "stream",
          "name": "stderr",
          "text": [
            "[*********************100%%**********************]  1 of 1 completed\n",
            "[*********************100%%**********************]  1 of 1 completed\n",
            "[*********************100%%**********************]  1 of 1 completed\n"
          ]
        },
        {
          "output_type": "stream",
          "name": "stdout",
          "text": [
            "Data for GLEN.L saved to /content/drive/MyDrive/DATA/RAW/GLEN.L.csv\n"
          ]
        },
        {
          "output_type": "stream",
          "name": "stderr",
          "text": [
            "\r[*********************100%%**********************]  1 of 1 completed\n"
          ]
        },
        {
          "output_type": "stream",
          "name": "stdout",
          "text": [
            "Data for GRF.MC saved to /content/drive/MyDrive/DATA/RAW/GRF.MC.csv\n"
          ]
        },
        {
          "output_type": "stream",
          "name": "stderr",
          "text": [
            "[*********************100%%**********************]  1 of 1 completed\n",
            "[*********************100%%**********************]  1 of 1 completed\n",
            "[*********************100%%**********************]  1 of 1 completed\n"
          ]
        },
        {
          "output_type": "stream",
          "name": "stdout",
          "text": [
            "Data for GXI.DE saved to /content/drive/MyDrive/DATA/RAW/GXI.DE.csv\n"
          ]
        },
        {
          "output_type": "stream",
          "name": "stderr",
          "text": [
            "[*********************100%%**********************]  1 of 1 completed\n",
            "[*********************100%%**********************]  1 of 1 completed\n"
          ]
        },
        {
          "output_type": "stream",
          "name": "stdout",
          "text": [
            "Data for H.TO saved to /content/drive/MyDrive/DATA/RAW/H.TO.csv\n"
          ]
        },
        {
          "output_type": "stream",
          "name": "stderr",
          "text": [
            "\r[*********************100%%**********************]  1 of 1 completed\n"
          ]
        },
        {
          "output_type": "stream",
          "name": "stdout",
          "text": [
            "Data for HAG.DE saved to /content/drive/MyDrive/DATA/RAW/HAG.DE.csv\n"
          ]
        },
        {
          "output_type": "stream",
          "name": "stderr",
          "text": [
            "[*********************100%%**********************]  1 of 1 completed\n",
            "[*********************100%%**********************]  1 of 1 completed\n",
            "[*********************100%%**********************]  1 of 1 completed\n"
          ]
        },
        {
          "output_type": "stream",
          "name": "stdout",
          "text": [
            "Data for HEI saved to /content/drive/MyDrive/DATA/RAW/HEI.csv\n"
          ]
        },
        {
          "output_type": "stream",
          "name": "stderr",
          "text": [
            "\r[*********************100%%**********************]  1 of 1 completed\n"
          ]
        },
        {
          "output_type": "stream",
          "name": "stdout",
          "text": [
            "Data for HEN3.DE saved to /content/drive/MyDrive/DATA/RAW/HEN3.DE.csv\n"
          ]
        },
        {
          "output_type": "stream",
          "name": "stderr",
          "text": [
            "[*********************100%%**********************]  1 of 1 completed\n",
            "[*********************100%%**********************]  1 of 1 completed\n",
            "[*********************100%%**********************]  1 of 1 completed\n"
          ]
        },
        {
          "output_type": "stream",
          "name": "stdout",
          "text": [
            "Data for HG=F saved to /content/drive/MyDrive/DATA/RAW/HG=F.csv\n"
          ]
        },
        {
          "output_type": "stream",
          "name": "stderr",
          "text": [
            "\r[*********************100%%**********************]  1 of 1 completed\n"
          ]
        },
        {
          "output_type": "stream",
          "name": "stdout",
          "text": [
            "Data for HIA1.F saved to /content/drive/MyDrive/DATA/RAW/HIA1.F.csv\n"
          ]
        },
        {
          "output_type": "stream",
          "name": "stderr",
          "text": [
            "[*********************100%%**********************]  1 of 1 completed\n",
            "[*********************100%%**********************]  1 of 1 completed\n",
            "[*********************100%%**********************]  1 of 1 completed\n"
          ]
        },
        {
          "output_type": "stream",
          "name": "stdout",
          "text": [
            "Data for HII saved to /content/drive/MyDrive/DATA/RAW/HII.csv\n"
          ]
        },
        {
          "output_type": "stream",
          "name": "stderr",
          "text": [
            "\r[*********************100%%**********************]  1 of 1 completed\n"
          ]
        },
        {
          "output_type": "stream",
          "name": "stdout",
          "text": [
            "Data for HO.PA saved to /content/drive/MyDrive/DATA/RAW/HO.PA.csv\n"
          ]
        },
        {
          "output_type": "stream",
          "name": "stderr",
          "text": [
            "[*********************100%%**********************]  1 of 1 completed\n",
            "[*********************100%%**********************]  1 of 1 completed\n",
            "[*********************100%%**********************]  1 of 1 completed\n"
          ]
        },
        {
          "output_type": "stream",
          "name": "stdout",
          "text": [
            "Data for HON saved to /content/drive/MyDrive/DATA/RAW/HON.csv\n"
          ]
        },
        {
          "output_type": "stream",
          "name": "stderr",
          "text": [
            "\r[*********************100%%**********************]  1 of 1 completed\n"
          ]
        },
        {
          "output_type": "stream",
          "name": "stdout",
          "text": [
            "Data for HP3A.DE saved to /content/drive/MyDrive/DATA/RAW/HP3A.DE.csv\n"
          ]
        },
        {
          "output_type": "stream",
          "name": "stderr",
          "text": [
            "[*********************100%%**********************]  1 of 1 completed\n",
            "[*********************100%%**********************]  1 of 1 completed\n",
            "[*********************100%%**********************]  1 of 1 completed"
          ]
        },
        {
          "output_type": "stream",
          "name": "stdout",
          "text": [
            "Data for HUN saved to /content/drive/MyDrive/DATA/RAW/HUN.csv\n"
          ]
        },
        {
          "output_type": "stream",
          "name": "stderr",
          "text": [
            "\n",
            "\r[*********************100%%**********************]  1 of 1 completed\n"
          ]
        },
        {
          "output_type": "stream",
          "name": "stdout",
          "text": [
            "Data for HUN2.SG saved to /content/drive/MyDrive/DATA/RAW/HUN2.SG.csv\n"
          ]
        },
        {
          "output_type": "stream",
          "name": "stderr",
          "text": [
            "[*********************100%%**********************]  1 of 1 completed\n",
            "[*********************100%%**********************]  1 of 1 completed\n"
          ]
        },
        {
          "output_type": "stream",
          "name": "stdout",
          "text": [
            "Data for HWM saved to /content/drive/MyDrive/DATA/RAW/HWM.csv\n"
          ]
        },
        {
          "output_type": "stream",
          "name": "stderr",
          "text": [
            "[*********************100%%**********************]  1 of 1 completed\n",
            "[*********************100%%**********************]  1 of 1 completed\n"
          ]
        },
        {
          "output_type": "stream",
          "name": "stdout",
          "text": [
            "Data for HXL saved to /content/drive/MyDrive/DATA/RAW/HXL.csv\n"
          ]
        },
        {
          "output_type": "stream",
          "name": "stderr",
          "text": [
            "[*********************100%%**********************]  1 of 1 completed\n",
            "[*********************100%%**********************]  1 of 1 completed\n"
          ]
        },
        {
          "output_type": "stream",
          "name": "stdout",
          "text": [
            "Data for IBE.MC saved to /content/drive/MyDrive/DATA/RAW/IBE.MC.csv\n"
          ]
        },
        {
          "output_type": "stream",
          "name": "stderr",
          "text": [
            "[*********************100%%**********************]  1 of 1 completed\n",
            "[*********************100%%**********************]  1 of 1 completed\n",
            "[*********************100%%**********************]  1 of 1 completed\n"
          ]
        },
        {
          "output_type": "stream",
          "name": "stdout",
          "text": [
            "Data for IBM saved to /content/drive/MyDrive/DATA/RAW/IBM.csv\n"
          ]
        },
        {
          "output_type": "stream",
          "name": "stderr",
          "text": [
            "\r[*********************100%%**********************]  1 of 1 completed\n"
          ]
        },
        {
          "output_type": "stream",
          "name": "stdout",
          "text": [
            "Data for IESFY saved to /content/drive/MyDrive/DATA/RAW/IESFY.csv\n"
          ]
        },
        {
          "output_type": "stream",
          "name": "stderr",
          "text": [
            "[*********************100%%**********************]  1 of 1 completed\n",
            "[*********************100%%**********************]  1 of 1 completed\n"
          ]
        },
        {
          "output_type": "stream",
          "name": "stdout",
          "text": [
            "Data for IFX.DE saved to /content/drive/MyDrive/DATA/RAW/IFX.DE.csv\n"
          ]
        },
        {
          "output_type": "stream",
          "name": "stderr",
          "text": [
            "[*********************100%%**********************]  1 of 1 completed\n",
            "[*********************100%%**********************]  1 of 1 completed\n"
          ]
        },
        {
          "output_type": "stream",
          "name": "stdout",
          "text": [
            "Data for INPST.AS saved to /content/drive/MyDrive/DATA/RAW/INPST.AS.csv\n"
          ]
        },
        {
          "output_type": "stream",
          "name": "stderr",
          "text": [
            "[*********************100%%**********************]  1 of 1 completed\n",
            "[*********************100%%**********************]  1 of 1 completed\n",
            "[*********************100%%**********************]  1 of 1 completed\n"
          ]
        },
        {
          "output_type": "stream",
          "name": "stdout",
          "text": [
            "Data for INTC saved to /content/drive/MyDrive/DATA/RAW/INTC.csv\n"
          ]
        },
        {
          "output_type": "stream",
          "name": "stderr",
          "text": [
            "\r[*********************100%%**********************]  1 of 1 completed\n"
          ]
        },
        {
          "output_type": "stream",
          "name": "stdout",
          "text": [
            "Data for IP saved to /content/drive/MyDrive/DATA/RAW/IP.csv\n"
          ]
        },
        {
          "output_type": "stream",
          "name": "stderr",
          "text": [
            "[*********************100%%**********************]  1 of 1 completed\n",
            "[*********************100%%**********************]  1 of 1 completed\n",
            "[*********************100%%**********************]  1 of 1 completed\n"
          ]
        },
        {
          "output_type": "stream",
          "name": "stdout",
          "text": [
            "Data for JBHT saved to /content/drive/MyDrive/DATA/RAW/JBHT.csv\n"
          ]
        },
        {
          "output_type": "stream",
          "name": "stderr",
          "text": [
            "\r[*********************100%%**********************]  1 of 1 completed\n"
          ]
        },
        {
          "output_type": "stream",
          "name": "stdout",
          "text": [
            "Data for JEN.DE saved to /content/drive/MyDrive/DATA/RAW/JEN.DE.csv\n"
          ]
        },
        {
          "output_type": "stream",
          "name": "stderr",
          "text": [
            "[*********************100%%**********************]  1 of 1 completed\n",
            "[*********************100%%**********************]  1 of 1 completed\n",
            "[*********************100%%**********************]  1 of 1 completed\n"
          ]
        },
        {
          "output_type": "stream",
          "name": "stdout",
          "text": [
            "Data for JKS saved to /content/drive/MyDrive/DATA/RAW/JKS.csv\n"
          ]
        },
        {
          "output_type": "stream",
          "name": "stderr",
          "text": [
            "\r[*********************100%%**********************]  1 of 1 completed\n"
          ]
        },
        {
          "output_type": "stream",
          "name": "stdout",
          "text": [
            "Data for JMAT.L saved to /content/drive/MyDrive/DATA/RAW/JMAT.L.csv\n"
          ]
        },
        {
          "output_type": "stream",
          "name": "stderr",
          "text": [
            "[*********************100%%**********************]  1 of 1 completed\n",
            "[*********************100%%**********************]  1 of 1 completed\n",
            "[*********************100%%**********************]  1 of 1 completed\n"
          ]
        },
        {
          "output_type": "stream",
          "name": "stdout",
          "text": [
            "Data for JUN3.DE saved to /content/drive/MyDrive/DATA/RAW/JUN3.DE.csv\n"
          ]
        },
        {
          "output_type": "stream",
          "name": "stderr",
          "text": [
            "\r[*********************100%%**********************]  1 of 1 completed\n",
            "ERROR:yfinance:\n",
            "1 Failed download:\n",
            "ERROR:yfinance:['KAMN']: YFTzMissingError('$%ticker%: possibly delisted; No timezone found')\n"
          ]
        },
        {
          "output_type": "stream",
          "name": "stdout",
          "text": [
            "Data for KAMN saved to /content/drive/MyDrive/DATA/RAW/KAMN.csv\n"
          ]
        },
        {
          "output_type": "stream",
          "name": "stderr",
          "text": [
            "[*********************100%%**********************]  1 of 1 completed\n",
            "[*********************100%%**********************]  1 of 1 completed\n"
          ]
        },
        {
          "output_type": "stream",
          "name": "stdout",
          "text": [
            "Data for KBX.DE saved to /content/drive/MyDrive/DATA/RAW/KBX.DE.csv\n"
          ]
        },
        {
          "output_type": "stream",
          "name": "stderr",
          "text": [
            "[*********************100%%**********************]  1 of 1 completed\n",
            "[*********************100%%**********************]  1 of 1 completed\n",
            "[*********************100%%**********************]  1 of 1 completed\n"
          ]
        },
        {
          "output_type": "stream",
          "name": "stdout",
          "text": [
            "Data for KEMIRA.HE saved to /content/drive/MyDrive/DATA/RAW/KEMIRA.HE.csv\n"
          ]
        },
        {
          "output_type": "stream",
          "name": "stderr",
          "text": [
            "\r[*********************100%%**********************]  1 of 1 completed\n"
          ]
        },
        {
          "output_type": "stream",
          "name": "stdout",
          "text": [
            "Data for KGX.DE saved to /content/drive/MyDrive/DATA/RAW/KGX.DE.csv\n"
          ]
        },
        {
          "output_type": "stream",
          "name": "stderr",
          "text": [
            "[*********************100%%**********************]  1 of 1 completed\n",
            "[*********************100%%**********************]  1 of 1 completed\n",
            "[*********************100%%**********************]  1 of 1 completed\n"
          ]
        },
        {
          "output_type": "stream",
          "name": "stdout",
          "text": [
            "Data for KLAC saved to /content/drive/MyDrive/DATA/RAW/KLAC.csv\n"
          ]
        },
        {
          "output_type": "stream",
          "name": "stderr",
          "text": [
            "\r[*********************100%%**********************]  1 of 1 completed\n"
          ]
        },
        {
          "output_type": "stream",
          "name": "stdout",
          "text": [
            "Data for KNIN.SW saved to /content/drive/MyDrive/DATA/RAW/KNIN.SW.csv\n"
          ]
        },
        {
          "output_type": "stream",
          "name": "stderr",
          "text": [
            "[*********************100%%**********************]  1 of 1 completed\n",
            "[*********************100%%**********************]  1 of 1 completed\n",
            "ERROR:yfinance:\n",
            "1 Failed download:\n",
            "ERROR:yfinance:['KOGO.OL']: YFInvalidPeriodError(\"%ticker%: Period 'max' is invalid, must be one of ['1d', '5d']\")\n",
            "[*********************100%%**********************]  1 of 1 completed\n"
          ]
        },
        {
          "output_type": "stream",
          "name": "stdout",
          "text": [
            "Data for KOGO.OL saved to /content/drive/MyDrive/DATA/RAW/KOGO.OL.csv\n"
          ]
        },
        {
          "output_type": "stream",
          "name": "stderr",
          "text": [
            "\r[*********************100%%**********************]  1 of 1 completed\n"
          ]
        },
        {
          "output_type": "stream",
          "name": "stdout",
          "text": [
            "Data for KRN.DE saved to /content/drive/MyDrive/DATA/RAW/KRN.DE.csv\n"
          ]
        },
        {
          "output_type": "stream",
          "name": "stderr",
          "text": [
            "[*********************100%%**********************]  1 of 1 completed\n",
            "[*********************100%%**********************]  1 of 1 completed\n",
            "[*********************100%%**********************]  1 of 1 completed\n"
          ]
        },
        {
          "output_type": "stream",
          "name": "stdout",
          "text": [
            "Data for KTN.DE saved to /content/drive/MyDrive/DATA/RAW/KTN.DE.csv\n"
          ]
        },
        {
          "output_type": "stream",
          "name": "stderr",
          "text": [
            "[*********************100%%**********************]  1 of 1 completed\n",
            "[*********************100%%**********************]  1 of 1 completed"
          ]
        },
        {
          "output_type": "stream",
          "name": "stdout",
          "text": [
            "Data for KTOS saved to /content/drive/MyDrive/DATA/RAW/KTOS.csv\n"
          ]
        },
        {
          "output_type": "stream",
          "name": "stderr",
          "text": [
            "\n",
            "[*********************100%%**********************]  1 of 1 completed\n"
          ]
        },
        {
          "output_type": "stream",
          "name": "stdout",
          "text": [
            "Data for LDO.MI saved to /content/drive/MyDrive/DATA/RAW/LDO.MI.csv\n"
          ]
        },
        {
          "output_type": "stream",
          "name": "stderr",
          "text": [
            "[*********************100%%**********************]  1 of 1 completed\n",
            "[*********************100%%**********************]  1 of 1 completed\n"
          ]
        },
        {
          "output_type": "stream",
          "name": "stdout",
          "text": [
            "Data for LHX saved to /content/drive/MyDrive/DATA/RAW/LHX.csv\n"
          ]
        },
        {
          "output_type": "stream",
          "name": "stderr",
          "text": [
            "[*********************100%%**********************]  1 of 1 completed\n",
            "[*********************100%%**********************]  1 of 1 completed\n"
          ]
        },
        {
          "output_type": "stream",
          "name": "stdout",
          "text": [
            "Data for LICY saved to /content/drive/MyDrive/DATA/RAW/LICY.csv\n"
          ]
        },
        {
          "output_type": "stream",
          "name": "stderr",
          "text": [
            "[*********************100%%**********************]  1 of 1 completed\n",
            "[*********************100%%**********************]  1 of 1 completed\n"
          ]
        },
        {
          "output_type": "stream",
          "name": "stdout",
          "text": [
            "Data for LIN saved to /content/drive/MyDrive/DATA/RAW/LIN.csv\n"
          ]
        },
        {
          "output_type": "stream",
          "name": "stderr",
          "text": [
            "[*********************100%%**********************]  1 of 1 completed\n",
            "[*********************100%%**********************]  1 of 1 completed\n"
          ]
        },
        {
          "output_type": "stream",
          "name": "stdout",
          "text": [
            "Data for LMT saved to /content/drive/MyDrive/DATA/RAW/LMT.csv\n"
          ]
        },
        {
          "output_type": "stream",
          "name": "stderr",
          "text": [
            "[*********************100%%**********************]  1 of 1 completed\n",
            "[*********************100%%**********************]  1 of 1 completed\n",
            "[*********************100%%**********************]  1 of 1 completed\n"
          ]
        },
        {
          "output_type": "stream",
          "name": "stdout",
          "text": [
            "Data for LNT saved to /content/drive/MyDrive/DATA/RAW/LNT.csv\n"
          ]
        },
        {
          "output_type": "stream",
          "name": "stderr",
          "text": [
            "\r[*********************100%%**********************]  1 of 1 completed\n"
          ]
        },
        {
          "output_type": "stream",
          "name": "stdout",
          "text": [
            "Data for LPK.DE saved to /content/drive/MyDrive/DATA/RAW/LPK.DE.csv\n"
          ]
        },
        {
          "output_type": "stream",
          "name": "stderr",
          "text": [
            "[*********************100%%**********************]  1 of 1 completed\n",
            "[*********************100%%**********************]  1 of 1 completed\n",
            "[*********************100%%**********************]  1 of 1 completed\n"
          ]
        },
        {
          "output_type": "stream",
          "name": "stdout",
          "text": [
            "Data for LRCX saved to /content/drive/MyDrive/DATA/RAW/LRCX.csv\n"
          ]
        },
        {
          "output_type": "stream",
          "name": "stderr",
          "text": [
            "\r[*********************100%%**********************]  1 of 1 completed\n",
            "ERROR:yfinance:\n",
            "1 Failed download:\n",
            "ERROR:yfinance:['LTHM']: YFTzMissingError('$%ticker%: possibly delisted; No timezone found')\n"
          ]
        },
        {
          "output_type": "stream",
          "name": "stdout",
          "text": [
            "Data for LTHM saved to /content/drive/MyDrive/DATA/RAW/LTHM.csv\n"
          ]
        },
        {
          "output_type": "stream",
          "name": "stderr",
          "text": [
            "[*********************100%%**********************]  1 of 1 completed\n",
            "[*********************100%%**********************]  1 of 1 completed\n"
          ]
        },
        {
          "output_type": "stream",
          "name": "stdout",
          "text": [
            "Data for LUN.TO saved to /content/drive/MyDrive/DATA/RAW/LUN.TO.csv\n"
          ]
        },
        {
          "output_type": "stream",
          "name": "stderr",
          "text": [
            "[*********************100%%**********************]  1 of 1 completed\n",
            "[*********************100%%**********************]  1 of 1 completed\n",
            "[*********************100%%**********************]  1 of 1 completed\n"
          ]
        },
        {
          "output_type": "stream",
          "name": "stdout",
          "text": [
            "Data for LXS.DE saved to /content/drive/MyDrive/DATA/RAW/LXS.DE.csv\n"
          ]
        },
        {
          "output_type": "stream",
          "name": "stderr",
          "text": [
            "[*********************100%%**********************]  1 of 1 completed\n",
            "[*********************100%%**********************]  1 of 1 completed\n"
          ]
        },
        {
          "output_type": "stream",
          "name": "stdout",
          "text": [
            "Data for LYB saved to /content/drive/MyDrive/DATA/RAW/LYB.csv\n"
          ]
        },
        {
          "output_type": "stream",
          "name": "stderr",
          "text": [
            "\r[*********************100%%**********************]  1 of 1 completed\n"
          ]
        },
        {
          "output_type": "stream",
          "name": "stdout",
          "text": [
            "Data for MBB.DE saved to /content/drive/MyDrive/DATA/RAW/MBB.DE.csv\n"
          ]
        },
        {
          "output_type": "stream",
          "name": "stderr",
          "text": [
            "[*********************100%%**********************]  1 of 1 completed\n",
            "[*********************100%%**********************]  1 of 1 completed\n",
            "[*********************100%%**********************]  1 of 1 completed\n"
          ]
        },
        {
          "output_type": "stream",
          "name": "stdout",
          "text": [
            "Data for MBH3.F saved to /content/drive/MyDrive/DATA/RAW/MBH3.F.csv\n"
          ]
        },
        {
          "output_type": "stream",
          "name": "stderr",
          "text": [
            "\r[*********************100%%**********************]  1 of 1 completed\n"
          ]
        },
        {
          "output_type": "stream",
          "name": "stdout",
          "text": [
            "Data for MBTN.SW saved to /content/drive/MyDrive/DATA/RAW/MBTN.SW.csv\n"
          ]
        },
        {
          "output_type": "stream",
          "name": "stderr",
          "text": [
            "[*********************100%%**********************]  1 of 1 completed\n",
            "[*********************100%%**********************]  1 of 1 completed\n"
          ]
        },
        {
          "output_type": "stream",
          "name": "stdout",
          "text": [
            "Data for MCHP saved to /content/drive/MyDrive/DATA/RAW/MCHP.csv\n"
          ]
        },
        {
          "output_type": "stream",
          "name": "stderr",
          "text": [
            "[*********************100%%**********************]  1 of 1 completed\n",
            "[*********************100%%**********************]  1 of 1 completed\n"
          ]
        },
        {
          "output_type": "stream",
          "name": "stdout",
          "text": [
            "Data for MMM saved to /content/drive/MyDrive/DATA/RAW/MMM.csv\n"
          ]
        },
        {
          "output_type": "stream",
          "name": "stderr",
          "text": [
            "[*********************100%%**********************]  1 of 1 completed\n",
            "[*********************100%%**********************]  1 of 1 completed\n",
            "[*********************100%%**********************]  1 of 1 completed\n"
          ]
        },
        {
          "output_type": "stream",
          "name": "stdout",
          "text": [
            "Data for MNTK saved to /content/drive/MyDrive/DATA/RAW/MNTK.csv\n"
          ]
        },
        {
          "output_type": "stream",
          "name": "stderr",
          "text": [
            "\r[*********************100%%**********************]  1 of 1 completed\n"
          ]
        },
        {
          "output_type": "stream",
          "name": "stdout",
          "text": [
            "Data for MOG-A saved to /content/drive/MyDrive/DATA/RAW/MOG-A.csv\n"
          ]
        },
        {
          "output_type": "stream",
          "name": "stderr",
          "text": [
            "[*********************100%%**********************]  1 of 1 completed\n",
            "[*********************100%%**********************]  1 of 1 completed\n",
            "[*********************100%%**********************]  1 of 1 completed\n"
          ]
        },
        {
          "output_type": "stream",
          "name": "stdout",
          "text": [
            "Data for MRCY saved to /content/drive/MyDrive/DATA/RAW/MRCY.csv\n"
          ]
        },
        {
          "output_type": "stream",
          "name": "stderr",
          "text": [
            "\r[*********************100%%**********************]  1 of 1 completed\n"
          ]
        },
        {
          "output_type": "stream",
          "name": "stdout",
          "text": [
            "Data for MSFT saved to /content/drive/MyDrive/DATA/RAW/MSFT.csv\n"
          ]
        },
        {
          "output_type": "stream",
          "name": "stderr",
          "text": [
            "[*********************100%%**********************]  1 of 1 completed\n",
            "[*********************100%%**********************]  1 of 1 completed\n",
            "[*********************100%%**********************]  1 of 1 completed\n"
          ]
        },
        {
          "output_type": "stream",
          "name": "stdout",
          "text": [
            "Data for MT.AS saved to /content/drive/MyDrive/DATA/RAW/MT.AS.csv\n"
          ]
        },
        {
          "output_type": "stream",
          "name": "stderr",
          "text": [
            "[*********************100%%**********************]  1 of 1 completed\n",
            "[*********************100%%**********************]  1 of 1 completed\n"
          ]
        },
        {
          "output_type": "stream",
          "name": "stdout",
          "text": [
            "Data for MTW saved to /content/drive/MyDrive/DATA/RAW/MTW.csv\n"
          ]
        },
        {
          "output_type": "stream",
          "name": "stderr",
          "text": [
            "\r[*********************100%%**********************]  1 of 1 completed\n"
          ]
        },
        {
          "output_type": "stream",
          "name": "stdout",
          "text": [
            "Data for MTX.DE saved to /content/drive/MyDrive/DATA/RAW/MTX.DE.csv\n"
          ]
        },
        {
          "output_type": "stream",
          "name": "stderr",
          "text": [
            "[*********************100%%**********************]  1 of 1 completed\n",
            "[*********************100%%**********************]  1 of 1 completed\n",
            "[*********************100%%**********************]  1 of 1 completed\n"
          ]
        },
        {
          "output_type": "stream",
          "name": "stdout",
          "text": [
            "Data for MU saved to /content/drive/MyDrive/DATA/RAW/MU.csv\n"
          ]
        },
        {
          "output_type": "stream",
          "name": "stderr",
          "text": [
            "\r[*********************100%%**********************]  1 of 1 completed\n"
          ]
        },
        {
          "output_type": "stream",
          "name": "stdout",
          "text": [
            "Data for MXHN.DE saved to /content/drive/MyDrive/DATA/RAW/MXHN.DE.csv\n"
          ]
        },
        {
          "output_type": "stream",
          "name": "stderr",
          "text": [
            "[*********************100%%**********************]  1 of 1 completed\n",
            "[*********************100%%**********************]  1 of 1 completed\n"
          ]
        },
        {
          "output_type": "stream",
          "name": "stdout",
          "text": [
            "Data for NDA.DE saved to /content/drive/MyDrive/DATA/RAW/NDA.DE.csv\n"
          ]
        },
        {
          "output_type": "stream",
          "name": "stderr",
          "text": [
            "[*********************100%%**********************]  1 of 1 completed\n",
            "[*********************100%%**********************]  1 of 1 completed\n"
          ]
        },
        {
          "output_type": "stream",
          "name": "stdout",
          "text": [
            "Data for NDX1.DE saved to /content/drive/MyDrive/DATA/RAW/NDX1.DE.csv\n"
          ]
        },
        {
          "output_type": "stream",
          "name": "stderr",
          "text": [
            "[*********************100%%**********************]  1 of 1 completed\n",
            "[*********************100%%**********************]  1 of 1 completed\n"
          ]
        },
        {
          "output_type": "stream",
          "name": "stdout",
          "text": [
            "Data for NEE saved to /content/drive/MyDrive/DATA/RAW/NEE.csv\n"
          ]
        },
        {
          "output_type": "stream",
          "name": "stderr",
          "text": [
            "[*********************100%%**********************]  1 of 1 completed\n",
            "[*********************100%%**********************]  1 of 1 completed\n"
          ]
        },
        {
          "output_type": "stream",
          "name": "stdout",
          "text": [
            "Data for NEM.DE saved to /content/drive/MyDrive/DATA/RAW/NEM.DE.csv\n"
          ]
        },
        {
          "output_type": "stream",
          "name": "stderr",
          "text": [
            "[*********************100%%**********************]  1 of 1 completed\n",
            "[*********************100%%**********************]  1 of 1 completed\n"
          ]
        },
        {
          "output_type": "stream",
          "name": "stdout",
          "text": [
            "Data for NG.L saved to /content/drive/MyDrive/DATA/RAW/NG.L.csv\n"
          ]
        },
        {
          "output_type": "stream",
          "name": "stderr",
          "text": [
            "[*********************100%%**********************]  1 of 1 completed\n",
            "[*********************100%%**********************]  1 of 1 completed\n",
            "[*********************100%%**********************]  1 of 1 completed\n"
          ]
        },
        {
          "output_type": "stream",
          "name": "stdout",
          "text": [
            "Data for NG=F saved to /content/drive/MyDrive/DATA/RAW/NG=F.csv\n"
          ]
        },
        {
          "output_type": "stream",
          "name": "stderr",
          "text": [
            "\r[*********************100%%**********************]  1 of 1 completed\n"
          ]
        },
        {
          "output_type": "stream",
          "name": "stdout",
          "text": [
            "Data for NHYKF saved to /content/drive/MyDrive/DATA/RAW/NHYKF.csv\n"
          ]
        },
        {
          "output_type": "stream",
          "name": "stderr",
          "text": [
            "[*********************100%%**********************]  1 of 1 completed\n",
            "[*********************100%%**********************]  1 of 1 completed\n",
            "[*********************100%%**********************]  1 of 1 completed\n"
          ]
        },
        {
          "output_type": "stream",
          "name": "stdout",
          "text": [
            "Data for NI saved to /content/drive/MyDrive/DATA/RAW/NI.csv\n"
          ]
        },
        {
          "output_type": "stream",
          "name": "stderr",
          "text": [
            "\r[*********************100%%**********************]  1 of 1 completed\n"
          ]
        },
        {
          "output_type": "stream",
          "name": "stdout",
          "text": [
            "Data for NIBE-B.ST saved to /content/drive/MyDrive/DATA/RAW/NIBE-B.ST.csv\n"
          ]
        },
        {
          "output_type": "stream",
          "name": "stderr",
          "text": [
            "[*********************100%%**********************]  1 of 1 completed\n",
            "[*********************100%%**********************]  1 of 1 completed\n",
            "[*********************100%%**********************]  1 of 1 completed\n"
          ]
        },
        {
          "output_type": "stream",
          "name": "stdout",
          "text": [
            "Data for NOC saved to /content/drive/MyDrive/DATA/RAW/NOC.csv\n"
          ]
        },
        {
          "output_type": "stream",
          "name": "stderr",
          "text": [
            "\r[*********************100%%**********************]  1 of 1 completed\n"
          ]
        },
        {
          "output_type": "stream",
          "name": "stdout",
          "text": [
            "Data for NOW saved to /content/drive/MyDrive/DATA/RAW/NOW.csv\n"
          ]
        },
        {
          "output_type": "stream",
          "name": "stderr",
          "text": [
            "[*********************100%%**********************]  1 of 1 completed\n",
            "[*********************100%%**********************]  1 of 1 completed\n"
          ]
        },
        {
          "output_type": "stream",
          "name": "stdout",
          "text": [
            "Data for NPI.TO saved to /content/drive/MyDrive/DATA/RAW/NPI.TO.csv\n"
          ]
        },
        {
          "output_type": "stream",
          "name": "stderr",
          "text": [
            "[*********************100%%**********************]  1 of 1 completed\n",
            "[*********************100%%**********************]  1 of 1 completed\n"
          ]
        },
        {
          "output_type": "stream",
          "name": "stdout",
          "text": [
            "Data for NRG saved to /content/drive/MyDrive/DATA/RAW/NRG.csv\n"
          ]
        },
        {
          "output_type": "stream",
          "name": "stderr",
          "text": [
            "[*********************100%%**********************]  1 of 1 completed\n",
            "[*********************100%%**********************]  1 of 1 completed\n",
            "[*********************100%%**********************]  1 of 1 completed\n"
          ]
        },
        {
          "output_type": "stream",
          "name": "stdout",
          "text": [
            "Data for NTGY.MC saved to /content/drive/MyDrive/DATA/RAW/NTGY.MC.csv\n"
          ]
        },
        {
          "output_type": "stream",
          "name": "stderr",
          "text": [
            "[*********************100%%**********************]  1 of 1 completed\n",
            "[*********************100%%**********************]  1 of 1 completed\n"
          ]
        },
        {
          "output_type": "stream",
          "name": "stdout",
          "text": [
            "Data for NVDA saved to /content/drive/MyDrive/DATA/RAW/NVDA.csv\n"
          ]
        },
        {
          "output_type": "stream",
          "name": "stderr",
          "text": [
            "\r[*********************100%%**********************]  1 of 1 completed\n"
          ]
        },
        {
          "output_type": "stream",
          "name": "stdout",
          "text": [
            "Data for OCI.AS saved to /content/drive/MyDrive/DATA/RAW/OCI.AS.csv\n"
          ]
        },
        {
          "output_type": "stream",
          "name": "stderr",
          "text": [
            "[*********************100%%**********************]  1 of 1 completed\n",
            "[*********************100%%**********************]  1 of 1 completed\n",
            "[*********************100%%**********************]  1 of 1 completed\n"
          ]
        },
        {
          "output_type": "stream",
          "name": "stdout",
          "text": [
            "Data for ON saved to /content/drive/MyDrive/DATA/RAW/ON.csv\n"
          ]
        },
        {
          "output_type": "stream",
          "name": "stderr",
          "text": [
            "\r[*********************100%%**********************]  1 of 1 completed\n"
          ]
        },
        {
          "output_type": "stream",
          "name": "stdout",
          "text": [
            "Data for ORA saved to /content/drive/MyDrive/DATA/RAW/ORA.csv\n"
          ]
        },
        {
          "output_type": "stream",
          "name": "stderr",
          "text": [
            "[*********************100%%**********************]  1 of 1 completed\n",
            "[*********************100%%**********************]  1 of 1 completed\n",
            "[*********************100%%**********************]  1 of 1 completed\n"
          ]
        },
        {
          "output_type": "stream",
          "name": "stdout",
          "text": [
            "Data for ORCL saved to /content/drive/MyDrive/DATA/RAW/ORCL.csv\n"
          ]
        },
        {
          "output_type": "stream",
          "name": "stderr",
          "text": [
            "\r[*********************100%%**********************]  1 of 1 completed\n"
          ]
        },
        {
          "output_type": "stream",
          "name": "stdout",
          "text": [
            "Data for ORL0.F saved to /content/drive/MyDrive/DATA/RAW/ORL0.F.csv\n"
          ]
        },
        {
          "output_type": "stream",
          "name": "stderr",
          "text": [
            "[*********************100%%**********************]  1 of 1 completed\n",
            "[*********************100%%**********************]  1 of 1 completed\n",
            "[*********************100%%**********************]  1 of 1 completed\n"
          ]
        },
        {
          "output_type": "stream",
          "name": "stdout",
          "text": [
            "Data for ORSTED.CO saved to /content/drive/MyDrive/DATA/RAW/ORSTED.CO.csv\n"
          ]
        },
        {
          "output_type": "stream",
          "name": "stderr",
          "text": [
            "[*********************100%%**********************]  1 of 1 completed\n",
            "[*********************100%%**********************]  1 of 1 completed\n"
          ]
        },
        {
          "output_type": "stream",
          "name": "stdout",
          "text": [
            "Data for OSP2.DE saved to /content/drive/MyDrive/DATA/RAW/OSP2.DE.csv\n"
          ]
        },
        {
          "output_type": "stream",
          "name": "stderr",
          "text": [
            "\r[*********************100%%**********************]  1 of 1 completed\n"
          ]
        },
        {
          "output_type": "stream",
          "name": "stdout",
          "text": [
            "Data for PANW saved to /content/drive/MyDrive/DATA/RAW/PANW.csv\n"
          ]
        },
        {
          "output_type": "stream",
          "name": "stderr",
          "text": [
            "[*********************100%%**********************]  1 of 1 completed\n",
            "[*********************100%%**********************]  1 of 1 completed\n",
            "[*********************100%%**********************]  1 of 1 completed\n"
          ]
        },
        {
          "output_type": "stream",
          "name": "stdout",
          "text": [
            "Data for PCG saved to /content/drive/MyDrive/DATA/RAW/PCG.csv\n"
          ]
        },
        {
          "output_type": "stream",
          "name": "stderr",
          "text": [
            "\r[*********************100%%**********************]  1 of 1 completed\n"
          ]
        },
        {
          "output_type": "stream",
          "name": "stdout",
          "text": [
            "Data for PDD saved to /content/drive/MyDrive/DATA/RAW/PDD.csv\n"
          ]
        },
        {
          "output_type": "stream",
          "name": "stderr",
          "text": [
            "[*********************100%%**********************]  1 of 1 completed\n",
            "[*********************100%%**********************]  1 of 1 completed\n",
            "[*********************100%%**********************]  1 of 1 completed"
          ]
        },
        {
          "output_type": "stream",
          "name": "stdout",
          "text": [
            "Data for PEG saved to /content/drive/MyDrive/DATA/RAW/PEG.csv\n"
          ]
        },
        {
          "output_type": "stream",
          "name": "stderr",
          "text": [
            "\n",
            "[*********************100%%**********************]  1 of 1 completed\n"
          ]
        },
        {
          "output_type": "stream",
          "name": "stdout",
          "text": [
            "Data for PFV.DE saved to /content/drive/MyDrive/DATA/RAW/PFV.DE.csv\n"
          ]
        },
        {
          "output_type": "stream",
          "name": "stderr",
          "text": [
            "[*********************100%%**********************]  1 of 1 completed\n",
            "[*********************100%%**********************]  1 of 1 completed\n"
          ]
        },
        {
          "output_type": "stream",
          "name": "stdout",
          "text": [
            "Data for PHIA.AS saved to /content/drive/MyDrive/DATA/RAW/PHIA.AS.csv\n"
          ]
        },
        {
          "output_type": "stream",
          "name": "stderr",
          "text": [
            "[*********************100%%**********************]  1 of 1 completed\n",
            "[*********************100%%**********************]  1 of 1 completed\n"
          ]
        },
        {
          "output_type": "stream",
          "name": "stdout",
          "text": [
            "Data for PKG saved to /content/drive/MyDrive/DATA/RAW/PKG.csv\n"
          ]
        },
        {
          "output_type": "stream",
          "name": "stderr",
          "text": [
            "[*********************100%%**********************]  1 of 1 completed\n",
            "[*********************100%%**********************]  1 of 1 completed\n"
          ]
        },
        {
          "output_type": "stream",
          "name": "stdout",
          "text": [
            "Data for PLTR saved to /content/drive/MyDrive/DATA/RAW/PLTR.csv\n"
          ]
        },
        {
          "output_type": "stream",
          "name": "stderr",
          "text": [
            "[*********************100%%**********************]  1 of 1 completed\n",
            "[*********************100%%**********************]  1 of 1 completed\n"
          ]
        },
        {
          "output_type": "stream",
          "name": "stdout",
          "text": [
            "Data for PLUG saved to /content/drive/MyDrive/DATA/RAW/PLUG.csv\n"
          ]
        },
        {
          "output_type": "stream",
          "name": "stderr",
          "text": [
            "[*********************100%%**********************]  1 of 1 completed\n",
            "[*********************100%%**********************]  1 of 1 completed\n"
          ]
        },
        {
          "output_type": "stream",
          "name": "stdout",
          "text": [
            "Data for PNE3.DE saved to /content/drive/MyDrive/DATA/RAW/PNE3.DE.csv\n"
          ]
        },
        {
          "output_type": "stream",
          "name": "stderr",
          "text": [
            "[*********************100%%**********************]  1 of 1 completed\n",
            "[*********************100%%**********************]  1 of 1 completed\n",
            "[*********************100%%**********************]  1 of 1 completed"
          ]
        },
        {
          "output_type": "stream",
          "name": "stdout",
          "text": [
            "Data for PNW saved to /content/drive/MyDrive/DATA/RAW/PNW.csv\n"
          ]
        },
        {
          "output_type": "stream",
          "name": "stderr",
          "text": [
            "\n",
            "[*********************100%%**********************]  1 of 1 completed\n"
          ]
        },
        {
          "output_type": "stream",
          "name": "stdout",
          "text": [
            "Data for PPG saved to /content/drive/MyDrive/DATA/RAW/PPG.csv\n"
          ]
        },
        {
          "output_type": "stream",
          "name": "stderr",
          "text": [
            "[*********************100%%**********************]  1 of 1 completed\n",
            "[*********************100%%**********************]  1 of 1 completed\n"
          ]
        },
        {
          "output_type": "stream",
          "name": "stdout",
          "text": [
            "Data for PPL saved to /content/drive/MyDrive/DATA/RAW/PPL.csv\n"
          ]
        },
        {
          "output_type": "stream",
          "name": "stderr",
          "text": [
            "[*********************100%%**********************]  1 of 1 completed\n",
            "[*********************100%%**********************]  1 of 1 completed\n"
          ]
        },
        {
          "output_type": "stream",
          "name": "stdout",
          "text": [
            "Data for PRY.MI saved to /content/drive/MyDrive/DATA/RAW/PRY.MI.csv\n"
          ]
        },
        {
          "output_type": "stream",
          "name": "stderr",
          "text": [
            "[*********************100%%**********************]  1 of 1 completed\n",
            "[*********************100%%**********************]  1 of 1 completed\n"
          ]
        },
        {
          "output_type": "stream",
          "name": "stdout",
          "text": [
            "Data for QCOM saved to /content/drive/MyDrive/DATA/RAW/QCOM.csv\n"
          ]
        },
        {
          "output_type": "stream",
          "name": "stderr",
          "text": [
            "[*********************100%%**********************]  1 of 1 completed\n",
            "[*********************100%%**********************]  1 of 1 completed\n"
          ]
        },
        {
          "output_type": "stream",
          "name": "stdout",
          "text": [
            "Data for RED.MC saved to /content/drive/MyDrive/DATA/RAW/RED.MC.csv\n"
          ]
        },
        {
          "output_type": "stream",
          "name": "stderr",
          "text": [
            "[*********************100%%**********************]  1 of 1 completed\n",
            "[*********************100%%**********************]  1 of 1 completed\n",
            "[*********************100%%**********************]  1 of 1 completed\n"
          ]
        },
        {
          "output_type": "stream",
          "name": "stdout",
          "text": [
            "Data for REYN saved to /content/drive/MyDrive/DATA/RAW/REYN.csv\n"
          ]
        },
        {
          "output_type": "stream",
          "name": "stderr",
          "text": [
            "[*********************100%%**********************]  1 of 1 completed\n",
            "[*********************100%%**********************]  1 of 1 completed\n"
          ]
        },
        {
          "output_type": "stream",
          "name": "stdout",
          "text": [
            "Data for RHM.DE saved to /content/drive/MyDrive/DATA/RAW/RHM.DE.csv\n"
          ]
        },
        {
          "output_type": "stream",
          "name": "stderr",
          "text": [
            "\r[*********************100%%**********************]  1 of 1 completed\n"
          ]
        },
        {
          "output_type": "stream",
          "name": "stdout",
          "text": [
            "Data for RIO saved to /content/drive/MyDrive/DATA/RAW/RIO.csv\n"
          ]
        },
        {
          "output_type": "stream",
          "name": "stderr",
          "text": [
            "[*********************100%%**********************]  1 of 1 completed\n",
            "[*********************100%%**********************]  1 of 1 completed\n",
            "[*********************100%%**********************]  1 of 1 completed\n"
          ]
        },
        {
          "output_type": "stream",
          "name": "stdout",
          "text": [
            "Data for RKLB saved to /content/drive/MyDrive/DATA/RAW/RKLB.csv\n"
          ]
        },
        {
          "output_type": "stream",
          "name": "stderr",
          "text": [
            "\r[*********************100%%**********************]  1 of 1 completed\n"
          ]
        },
        {
          "output_type": "stream",
          "name": "stdout",
          "text": [
            "Data for ROR.L saved to /content/drive/MyDrive/DATA/RAW/ROR.L.csv\n"
          ]
        },
        {
          "output_type": "stream",
          "name": "stderr",
          "text": [
            "[*********************100%%**********************]  1 of 1 completed\n",
            "[*********************100%%**********************]  1 of 1 completed\n",
            "[*********************100%%**********************]  1 of 1 completed\n"
          ]
        },
        {
          "output_type": "stream",
          "name": "stdout",
          "text": [
            "Data for RR.L saved to /content/drive/MyDrive/DATA/RAW/RR.L.csv\n"
          ]
        },
        {
          "output_type": "stream",
          "name": "stderr",
          "text": [
            "\r[*********************100%%**********************]  1 of 1 completed\n"
          ]
        },
        {
          "output_type": "stream",
          "name": "stdout",
          "text": [
            "Data for RS1.L saved to /content/drive/MyDrive/DATA/RAW/RS1.L.csv\n"
          ]
        },
        {
          "output_type": "stream",
          "name": "stderr",
          "text": [
            "[*********************100%%**********************]  1 of 1 completed\n",
            "[*********************100%%**********************]  1 of 1 completed\n"
          ]
        },
        {
          "output_type": "stream",
          "name": "stdout",
          "text": [
            "Data for RSL2.DE saved to /content/drive/MyDrive/DATA/RAW/RSL2.DE.csv\n"
          ]
        },
        {
          "output_type": "stream",
          "name": "stderr",
          "text": [
            "[*********************100%%**********************]  1 of 1 completed\n",
            "[*********************100%%**********************]  1 of 1 completed\n"
          ]
        },
        {
          "output_type": "stream",
          "name": "stdout",
          "text": [
            "Data for RTX saved to /content/drive/MyDrive/DATA/RAW/RTX.csv\n"
          ]
        },
        {
          "output_type": "stream",
          "name": "stderr",
          "text": [
            "[*********************100%%**********************]  1 of 1 completed\n",
            "[*********************100%%**********************]  1 of 1 completed\n"
          ]
        },
        {
          "output_type": "stream",
          "name": "stdout",
          "text": [
            "Data for RUN saved to /content/drive/MyDrive/DATA/RAW/RUN.csv\n"
          ]
        },
        {
          "output_type": "stream",
          "name": "stderr",
          "text": [
            "[*********************100%%**********************]  1 of 1 completed\n",
            "[*********************100%%**********************]  1 of 1 completed\n",
            "[*********************100%%**********************]  1 of 1 completed\n"
          ]
        },
        {
          "output_type": "stream",
          "name": "stdout",
          "text": [
            "Data for RWE.DE saved to /content/drive/MyDrive/DATA/RAW/RWE.DE.csv\n"
          ]
        },
        {
          "output_type": "stream",
          "name": "stderr",
          "text": [
            "[*********************100%%**********************]  1 of 1 completed\n",
            "[*********************100%%**********************]  1 of 1 completed\n"
          ]
        },
        {
          "output_type": "stream",
          "name": "stdout",
          "text": [
            "Data for RWI.AS saved to /content/drive/MyDrive/DATA/RAW/RWI.AS.csv\n"
          ]
        },
        {
          "output_type": "stream",
          "name": "stderr",
          "text": [
            "\r[*********************100%%**********************]  1 of 1 completed\n"
          ]
        },
        {
          "output_type": "stream",
          "name": "stdout",
          "text": [
            "Data for S92.DE saved to /content/drive/MyDrive/DATA/RAW/S92.DE.csv\n"
          ]
        },
        {
          "output_type": "stream",
          "name": "stderr",
          "text": [
            "[*********************100%%**********************]  1 of 1 completed\n",
            "[*********************100%%**********************]  1 of 1 completed\n"
          ]
        },
        {
          "output_type": "stream",
          "name": "stdout",
          "text": [
            "Data for S9I.DE saved to /content/drive/MyDrive/DATA/RAW/S9I.DE.csv\n"
          ]
        },
        {
          "output_type": "stream",
          "name": "stderr",
          "text": [
            "[*********************100%%**********************]  1 of 1 completed\n",
            "[*********************100%%**********************]  1 of 1 completed\n",
            "ERROR:yfinance:\n",
            "1 Failed download:\n",
            "ERROR:yfinance:['SAFP.XD']: YFInvalidPeriodError(\"%ticker%: Period 'max' is invalid, must be one of ['1d', '5d']\")\n"
          ]
        },
        {
          "output_type": "stream",
          "name": "stdout",
          "text": [
            "Data for SAFP.XD saved to /content/drive/MyDrive/DATA/RAW/SAFP.XD.csv\n"
          ]
        },
        {
          "output_type": "stream",
          "name": "stderr",
          "text": [
            "[*********************100%%**********************]  1 of 1 completed\n",
            "[*********************100%%**********************]  1 of 1 completed\n"
          ]
        },
        {
          "output_type": "stream",
          "name": "stdout",
          "text": [
            "Data for SAND.ST saved to /content/drive/MyDrive/DATA/RAW/SAND.ST.csv\n"
          ]
        },
        {
          "output_type": "stream",
          "name": "stderr",
          "text": [
            "[*********************100%%**********************]  1 of 1 completed\n",
            "[*********************100%%**********************]  1 of 1 completed\n"
          ]
        },
        {
          "output_type": "stream",
          "name": "stdout",
          "text": [
            "Data for SAP.DE saved to /content/drive/MyDrive/DATA/RAW/SAP.DE.csv\n"
          ]
        },
        {
          "output_type": "stream",
          "name": "stderr",
          "text": [
            "[*********************100%%**********************]  1 of 1 completed\n",
            "[*********************100%%**********************]  1 of 1 completed\n"
          ]
        },
        {
          "output_type": "stream",
          "name": "stdout",
          "text": [
            "Data for SCB.SG saved to /content/drive/MyDrive/DATA/RAW/SCB.SG.csv\n"
          ]
        },
        {
          "output_type": "stream",
          "name": "stderr",
          "text": [
            "[*********************100%%**********************]  1 of 1 completed\n",
            "[*********************100%%**********************]  1 of 1 completed\n"
          ]
        },
        {
          "output_type": "stream",
          "name": "stdout",
          "text": [
            "Data for SCCO saved to /content/drive/MyDrive/DATA/RAW/SCCO.csv\n"
          ]
        },
        {
          "output_type": "stream",
          "name": "stderr",
          "text": [
            "[*********************100%%**********************]  1 of 1 completed\n",
            "[*********************100%%**********************]  1 of 1 completed\n"
          ]
        },
        {
          "output_type": "stream",
          "name": "stdout",
          "text": [
            "Data for SDF.DE saved to /content/drive/MyDrive/DATA/RAW/SDF.DE.csv\n"
          ]
        },
        {
          "output_type": "stream",
          "name": "stderr",
          "text": [
            "[*********************100%%**********************]  1 of 1 completed\n",
            "[*********************100%%**********************]  1 of 1 completed\n"
          ]
        },
        {
          "output_type": "stream",
          "name": "stdout",
          "text": [
            "Data for SEDG saved to /content/drive/MyDrive/DATA/RAW/SEDG.csv\n"
          ]
        },
        {
          "output_type": "stream",
          "name": "stderr",
          "text": [
            "[*********************100%%**********************]  1 of 1 completed\n",
            "[*********************100%%**********************]  1 of 1 completed\n"
          ]
        },
        {
          "output_type": "stream",
          "name": "stdout",
          "text": [
            "Data for SEE saved to /content/drive/MyDrive/DATA/RAW/SEE.csv\n"
          ]
        },
        {
          "output_type": "stream",
          "name": "stderr",
          "text": [
            "[*********************100%%**********************]  1 of 1 completed\n",
            "[*********************100%%**********************]  1 of 1 completed\n",
            "[*********************100%%**********************]  1 of 1 completed\n"
          ]
        },
        {
          "output_type": "stream",
          "name": "stdout",
          "text": [
            "Data for SGL.DE saved to /content/drive/MyDrive/DATA/RAW/SGL.DE.csv\n"
          ]
        },
        {
          "output_type": "stream",
          "name": "stderr",
          "text": [
            "\r[*********************100%%**********************]  1 of 1 completed\n"
          ]
        },
        {
          "output_type": "stream",
          "name": "stdout",
          "text": [
            "Data for SGM.AX saved to /content/drive/MyDrive/DATA/RAW/SGM.AX.csv\n"
          ]
        },
        {
          "output_type": "stream",
          "name": "stderr",
          "text": [
            "[*********************100%%**********************]  1 of 1 completed\n",
            "[*********************100%%**********************]  1 of 1 completed\n",
            "[*********************100%%**********************]  1 of 1 completed\n"
          ]
        },
        {
          "output_type": "stream",
          "name": "stdout",
          "text": [
            "Data for SGO.PA saved to /content/drive/MyDrive/DATA/RAW/SGO.PA.csv\n"
          ]
        },
        {
          "output_type": "stream",
          "name": "stderr",
          "text": [
            "\r[*********************100%%**********************]  1 of 1 completed\n"
          ]
        },
        {
          "output_type": "stream",
          "name": "stdout",
          "text": [
            "Data for SHL.DE saved to /content/drive/MyDrive/DATA/RAW/SHL.DE.csv\n"
          ]
        },
        {
          "output_type": "stream",
          "name": "stderr",
          "text": [
            "[*********************100%%**********************]  1 of 1 completed\n",
            "[*********************100%%**********************]  1 of 1 completed\n",
            "[*********************100%%**********************]  1 of 1 completed\n"
          ]
        },
        {
          "output_type": "stream",
          "name": "stdout",
          "text": [
            "Data for SIE.DE saved to /content/drive/MyDrive/DATA/RAW/SIE.DE.csv\n"
          ]
        },
        {
          "output_type": "stream",
          "name": "stderr",
          "text": [
            "\r[*********************100%%**********************]  1 of 1 completed\n"
          ]
        },
        {
          "output_type": "stream",
          "name": "stdout",
          "text": [
            "Data for SIGNZ.XC saved to /content/drive/MyDrive/DATA/RAW/SIGNZ.XC.csv\n"
          ]
        },
        {
          "output_type": "stream",
          "name": "stderr",
          "text": [
            "[*********************100%%**********************]  1 of 1 completed\n",
            "[*********************100%%**********************]  1 of 1 completed\n",
            "[*********************100%%**********************]  1 of 1 completed\n"
          ]
        },
        {
          "output_type": "stream",
          "name": "stdout",
          "text": [
            "Data for SKG.L saved to /content/drive/MyDrive/DATA/RAW/SKG.L.csv\n"
          ]
        },
        {
          "output_type": "stream",
          "name": "stderr",
          "text": [
            "[*********************100%%**********************]  1 of 1 completed\n",
            "[*********************100%%**********************]  1 of 1 completed\n"
          ]
        },
        {
          "output_type": "stream",
          "name": "stdout",
          "text": [
            "Data for SMHN.DE saved to /content/drive/MyDrive/DATA/RAW/SMHN.DE.csv\n"
          ]
        },
        {
          "output_type": "stream",
          "name": "stderr",
          "text": [
            "\r[*********************100%%**********************]  1 of 1 completed\n"
          ]
        },
        {
          "output_type": "stream",
          "name": "stdout",
          "text": [
            "Data for SMR saved to /content/drive/MyDrive/DATA/RAW/SMR.csv\n"
          ]
        },
        {
          "output_type": "stream",
          "name": "stderr",
          "text": [
            "[*********************100%%**********************]  1 of 1 completed\n",
            "[*********************100%%**********************]  1 of 1 completed\n",
            "[*********************100%%**********************]  1 of 1 completed\n"
          ]
        },
        {
          "output_type": "stream",
          "name": "stdout",
          "text": [
            "Data for SNOW saved to /content/drive/MyDrive/DATA/RAW/SNOW.csv\n"
          ]
        },
        {
          "output_type": "stream",
          "name": "stderr",
          "text": [
            "\r[*********************100%%**********************]  1 of 1 completed\n"
          ]
        },
        {
          "output_type": "stream",
          "name": "stdout",
          "text": [
            "Data for SO saved to /content/drive/MyDrive/DATA/RAW/SO.csv\n"
          ]
        },
        {
          "output_type": "stream",
          "name": "stderr",
          "text": [
            "[*********************100%%**********************]  1 of 1 completed\n",
            "[*********************100%%**********************]  1 of 1 completed\n",
            "[*********************100%%**********************]  1 of 1 completed\n"
          ]
        },
        {
          "output_type": "stream",
          "name": "stdout",
          "text": [
            "Data for SOLB.BR saved to /content/drive/MyDrive/DATA/RAW/SOLB.BR.csv\n"
          ]
        },
        {
          "output_type": "stream",
          "name": "stderr",
          "text": [
            "\r[*********************100%%**********************]  1 of 1 completed\n"
          ]
        },
        {
          "output_type": "stream",
          "name": "stdout",
          "text": [
            "Data for SON saved to /content/drive/MyDrive/DATA/RAW/SON.csv\n"
          ]
        },
        {
          "output_type": "stream",
          "name": "stderr",
          "text": [
            "[*********************100%%**********************]  1 of 1 completed\n",
            "[*********************100%%**********************]  1 of 1 completed\n",
            "ERROR:yfinance:\n",
            "1 Failed download:\n",
            "ERROR:yfinance:['SOW.DE']: YFTzMissingError('$%ticker%: possibly delisted; No timezone found')\n"
          ]
        },
        {
          "output_type": "stream",
          "name": "stdout",
          "text": [
            "Data for SOW.DE saved to /content/drive/MyDrive/DATA/RAW/SOW.DE.csv\n"
          ]
        },
        {
          "output_type": "stream",
          "name": "stderr",
          "text": [
            "[*********************100%%**********************]  1 of 1 completed\n",
            "[*********************100%%**********************]  1 of 1 completed\n"
          ]
        },
        {
          "output_type": "stream",
          "name": "stdout",
          "text": [
            "Data for SPR saved to /content/drive/MyDrive/DATA/RAW/SPR.csv\n"
          ]
        },
        {
          "output_type": "stream",
          "name": "stderr",
          "text": [
            "[*********************100%%**********************]  1 of 1 completed\n",
            "[*********************100%%**********************]  1 of 1 completed\n"
          ]
        },
        {
          "output_type": "stream",
          "name": "stdout",
          "text": [
            "Data for SPWR saved to /content/drive/MyDrive/DATA/RAW/SPWR.csv\n"
          ]
        },
        {
          "output_type": "stream",
          "name": "stderr",
          "text": [
            "[*********************100%%**********************]  1 of 1 completed\n",
            "[*********************100%%**********************]  1 of 1 completed\n"
          ]
        },
        {
          "output_type": "stream",
          "name": "stdout",
          "text": [
            "Data for SPX.L saved to /content/drive/MyDrive/DATA/RAW/SPX.L.csv\n"
          ]
        },
        {
          "output_type": "stream",
          "name": "stderr",
          "text": [
            "[*********************100%%**********************]  1 of 1 completed\n",
            "[*********************100%%**********************]  1 of 1 completed\n"
          ]
        },
        {
          "output_type": "stream",
          "name": "stdout",
          "text": [
            "Data for SRE saved to /content/drive/MyDrive/DATA/RAW/SRE.csv\n"
          ]
        },
        {
          "output_type": "stream",
          "name": "stderr",
          "text": [
            "[*********************100%%**********************]  1 of 1 completed\n",
            "[*********************100%%**********************]  1 of 1 completed\n"
          ]
        },
        {
          "output_type": "stream",
          "name": "stdout",
          "text": [
            "Data for SRG.MI saved to /content/drive/MyDrive/DATA/RAW/SRG.MI.csv\n"
          ]
        },
        {
          "output_type": "stream",
          "name": "stderr",
          "text": [
            "[*********************100%%**********************]  1 of 1 completed\n",
            "[*********************100%%**********************]  1 of 1 completed\n"
          ]
        },
        {
          "output_type": "stream",
          "name": "stdout",
          "text": [
            "Data for SSE.L saved to /content/drive/MyDrive/DATA/RAW/SSE.L.csv\n"
          ]
        },
        {
          "output_type": "stream",
          "name": "stderr",
          "text": [
            "[*********************100%%**********************]  1 of 1 completed\n",
            "[*********************100%%**********************]  1 of 1 completed\n",
            "[*********************100%%**********************]  1 of 1 completed\n"
          ]
        },
        {
          "output_type": "stream",
          "name": "stdout",
          "text": [
            "Data for SSL saved to /content/drive/MyDrive/DATA/RAW/SSL.csv\n"
          ]
        },
        {
          "output_type": "stream",
          "name": "stderr",
          "text": [
            "\r[*********************100%%**********************]  1 of 1 completed\n"
          ]
        },
        {
          "output_type": "stream",
          "name": "stdout",
          "text": [
            "Data for STM saved to /content/drive/MyDrive/DATA/RAW/STM.csv\n"
          ]
        },
        {
          "output_type": "stream",
          "name": "stderr",
          "text": [
            "[*********************100%%**********************]  1 of 1 completed\n",
            "[*********************100%%**********************]  1 of 1 completed\n"
          ]
        },
        {
          "output_type": "stream",
          "name": "stdout",
          "text": [
            "Data for SU.PA saved to /content/drive/MyDrive/DATA/RAW/SU.PA.csv\n"
          ]
        },
        {
          "output_type": "stream",
          "name": "stderr",
          "text": [
            "[*********************100%%**********************]  1 of 1 completed\n",
            "[*********************100%%**********************]  1 of 1 completed\n",
            "[*********************100%%**********************]  1 of 1 completed\n"
          ]
        },
        {
          "output_type": "stream",
          "name": "stdout",
          "text": [
            "Data for SVT.L saved to /content/drive/MyDrive/DATA/RAW/SVT.L.csv\n"
          ]
        },
        {
          "output_type": "stream",
          "name": "stderr",
          "text": [
            "\r[*********************100%%**********************]  1 of 1 completed\n"
          ]
        },
        {
          "output_type": "stream",
          "name": "stdout",
          "text": [
            "Data for SXS.L saved to /content/drive/MyDrive/DATA/RAW/SXS.L.csv\n"
          ]
        },
        {
          "output_type": "stream",
          "name": "stderr",
          "text": [
            "[*********************100%%**********************]  1 of 1 completed\n",
            "[*********************100%%**********************]  1 of 1 completed\n",
            "[*********************100%%**********************]  1 of 1 completed\n"
          ]
        },
        {
          "output_type": "stream",
          "name": "stdout",
          "text": [
            "Data for SZG.DE saved to /content/drive/MyDrive/DATA/RAW/SZG.DE.csv\n"
          ]
        },
        {
          "output_type": "stream",
          "name": "stderr",
          "text": [
            "[*********************100%%**********************]  1 of 1 completed\n",
            "[*********************100%%**********************]  1 of 1 completed\n"
          ]
        },
        {
          "output_type": "stream",
          "name": "stdout",
          "text": [
            "Data for TDG saved to /content/drive/MyDrive/DATA/RAW/TDG.csv\n"
          ]
        },
        {
          "output_type": "stream",
          "name": "stderr",
          "text": [
            "\r[*********************100%%**********************]  1 of 1 completed\n"
          ]
        },
        {
          "output_type": "stream",
          "name": "stdout",
          "text": [
            "Data for TEF.MC saved to /content/drive/MyDrive/DATA/RAW/TEF.MC.csv\n"
          ]
        },
        {
          "output_type": "stream",
          "name": "stderr",
          "text": [
            "[*********************100%%**********************]  1 of 1 completed\n",
            "[*********************100%%**********************]  1 of 1 completed\n",
            "[*********************100%%**********************]  1 of 1 completed\n"
          ]
        },
        {
          "output_type": "stream",
          "name": "stdout",
          "text": [
            "Data for TER saved to /content/drive/MyDrive/DATA/RAW/TER.csv\n"
          ]
        },
        {
          "output_type": "stream",
          "name": "stderr",
          "text": [
            "\r[*********************100%%**********************]  1 of 1 completed\n"
          ]
        },
        {
          "output_type": "stream",
          "name": "stdout",
          "text": [
            "Data for TGHN.DE saved to /content/drive/MyDrive/DATA/RAW/TGHN.DE.csv\n"
          ]
        },
        {
          "output_type": "stream",
          "name": "stderr",
          "text": [
            "[*********************100%%**********************]  1 of 1 completed\n",
            "[*********************100%%**********************]  1 of 1 completed\n",
            "[*********************100%%**********************]  1 of 1 completed\n"
          ]
        },
        {
          "output_type": "stream",
          "name": "stdout",
          "text": [
            "Data for TGI saved to /content/drive/MyDrive/DATA/RAW/TGI.csv\n"
          ]
        },
        {
          "output_type": "stream",
          "name": "stderr",
          "text": [
            "\r[*********************100%%**********************]  1 of 1 completed\n"
          ]
        },
        {
          "output_type": "stream",
          "name": "stdout",
          "text": [
            "Data for TKA.DE saved to /content/drive/MyDrive/DATA/RAW/TKA.DE.csv\n"
          ]
        },
        {
          "output_type": "stream",
          "name": "stderr",
          "text": [
            "[*********************100%%**********************]  1 of 1 completed\n",
            "[*********************100%%**********************]  1 of 1 completed\n",
            "[*********************100%%**********************]  1 of 1 completed\n"
          ]
        },
        {
          "output_type": "stream",
          "name": "stdout",
          "text": [
            "Data for TMO saved to /content/drive/MyDrive/DATA/RAW/TMO.csv\n"
          ]
        },
        {
          "output_type": "stream",
          "name": "stderr",
          "text": [
            "\r[*********************100%%**********************]  1 of 1 completed\n"
          ]
        },
        {
          "output_type": "stream",
          "name": "stdout",
          "text": [
            "Data for TMV.DE saved to /content/drive/MyDrive/DATA/RAW/TMV.DE.csv\n"
          ]
        },
        {
          "output_type": "stream",
          "name": "stderr",
          "text": [
            "[*********************100%%**********************]  1 of 1 completed\n",
            "[*********************100%%**********************]  1 of 1 completed\n",
            "[*********************100%%**********************]  1 of 1 completed\n"
          ]
        },
        {
          "output_type": "stream",
          "name": "stdout",
          "text": [
            "Data for TOM.OL saved to /content/drive/MyDrive/DATA/RAW/TOM.OL.csv\n"
          ]
        },
        {
          "output_type": "stream",
          "name": "stderr",
          "text": [
            "\r[*********************100%%**********************]  1 of 1 completed\n"
          ]
        },
        {
          "output_type": "stream",
          "name": "stdout",
          "text": [
            "Data for TPIC saved to /content/drive/MyDrive/DATA/RAW/TPIC.csv\n"
          ]
        },
        {
          "output_type": "stream",
          "name": "stderr",
          "text": [
            "[*********************100%%**********************]  1 of 1 completed\n",
            "[*********************100%%**********************]  1 of 1 completed\n",
            "[*********************100%%**********************]  1 of 1 completed\n"
          ]
        },
        {
          "output_type": "stream",
          "name": "stdout",
          "text": [
            "Data for TREL-B.ST saved to /content/drive/MyDrive/DATA/RAW/TREL-B.ST.csv\n"
          ]
        },
        {
          "output_type": "stream",
          "name": "stderr",
          "text": [
            "\r[*********************100%%**********************]  1 of 1 completed\n"
          ]
        },
        {
          "output_type": "stream",
          "name": "stdout",
          "text": [
            "Data for TSM saved to /content/drive/MyDrive/DATA/RAW/TSM.csv\n"
          ]
        },
        {
          "output_type": "stream",
          "name": "stderr",
          "text": [
            "[*********************100%%**********************]  1 of 1 completed\n",
            "[*********************100%%**********************]  1 of 1 completed\n",
            "[*********************100%%**********************]  1 of 1 completed\n"
          ]
        },
        {
          "output_type": "stream",
          "name": "stdout",
          "text": [
            "Data for TXN saved to /content/drive/MyDrive/DATA/RAW/TXN.csv\n"
          ]
        },
        {
          "output_type": "stream",
          "name": "stderr",
          "text": [
            "\r[*********************100%%**********************]  1 of 1 completed\n"
          ]
        },
        {
          "output_type": "stream",
          "name": "stdout",
          "text": [
            "Data for TXT saved to /content/drive/MyDrive/DATA/RAW/TXT.csv\n"
          ]
        },
        {
          "output_type": "stream",
          "name": "stderr",
          "text": [
            "[*********************100%%**********************]  1 of 1 completed\n",
            "[*********************100%%**********************]  1 of 1 completed\n"
          ]
        },
        {
          "output_type": "stream",
          "name": "stdout",
          "text": [
            "Data for UMI.BR saved to /content/drive/MyDrive/DATA/RAW/UMI.BR.csv\n"
          ]
        },
        {
          "output_type": "stream",
          "name": "stderr",
          "text": [
            "[*********************100%%**********************]  1 of 1 completed\n",
            "[*********************100%%**********************]  1 of 1 completed\n"
          ]
        },
        {
          "output_type": "stream",
          "name": "stdout",
          "text": [
            "Data for UPS saved to /content/drive/MyDrive/DATA/RAW/UPS.csv\n"
          ]
        },
        {
          "output_type": "stream",
          "name": "stderr",
          "text": [
            "[*********************100%%**********************]  1 of 1 completed\n",
            "[*********************100%%**********************]  1 of 1 completed\n"
          ]
        },
        {
          "output_type": "stream",
          "name": "stdout",
          "text": [
            "Data for UTDI.DE saved to /content/drive/MyDrive/DATA/RAW/UTDI.DE.csv\n"
          ]
        },
        {
          "output_type": "stream",
          "name": "stderr",
          "text": [
            "[*********************100%%**********************]  1 of 1 completed\n",
            "[*********************100%%**********************]  1 of 1 completed\n"
          ]
        },
        {
          "output_type": "stream",
          "name": "stdout",
          "text": [
            "Data for UU.L saved to /content/drive/MyDrive/DATA/RAW/UU.L.csv\n"
          ]
        },
        {
          "output_type": "stream",
          "name": "stderr",
          "text": [
            "[*********************100%%**********************]  1 of 1 completed\n",
            "[*********************100%%**********************]  1 of 1 completed\n"
          ]
        },
        {
          "output_type": "stream",
          "name": "stdout",
          "text": [
            "Data for V1S.F saved to /content/drive/MyDrive/DATA/RAW/V1S.F.csv\n"
          ]
        },
        {
          "output_type": "stream",
          "name": "stderr",
          "text": [
            "[*********************100%%**********************]  1 of 1 completed\n",
            "[*********************100%%**********************]  1 of 1 completed\n"
          ]
        },
        {
          "output_type": "stream",
          "name": "stdout",
          "text": [
            "Data for VACN.SW saved to /content/drive/MyDrive/DATA/RAW/VACN.SW.csv\n"
          ]
        },
        {
          "output_type": "stream",
          "name": "stderr",
          "text": [
            "[*********************100%%**********************]  1 of 1 completed\n",
            "[*********************100%%**********************]  1 of 1 completed\n"
          ]
        },
        {
          "output_type": "stream",
          "name": "stdout",
          "text": [
            "Data for VALE saved to /content/drive/MyDrive/DATA/RAW/VALE.csv\n"
          ]
        },
        {
          "output_type": "stream",
          "name": "stderr",
          "text": [
            "[*********************100%%**********************]  1 of 1 completed\n",
            "[*********************100%%**********************]  1 of 1 completed\n",
            "[*********************100%%**********************]  1 of 1 completed\n"
          ]
        },
        {
          "output_type": "stream",
          "name": "stdout",
          "text": [
            "Data for VALMT.HE saved to /content/drive/MyDrive/DATA/RAW/VALMT.HE.csv\n"
          ]
        },
        {
          "output_type": "stream",
          "name": "stderr",
          "text": [
            "\r[*********************100%%**********************]  1 of 1 completed\n"
          ]
        },
        {
          "output_type": "stream",
          "name": "stdout",
          "text": [
            "Data for VAR1.DE saved to /content/drive/MyDrive/DATA/RAW/VAR1.DE.csv\n"
          ]
        },
        {
          "output_type": "stream",
          "name": "stderr",
          "text": [
            "[*********************100%%**********************]  1 of 1 completed\n",
            "[*********************100%%**********************]  1 of 1 completed\n",
            "[*********************100%%**********************]  1 of 1 completed\n"
          ]
        },
        {
          "output_type": "stream",
          "name": "stdout",
          "text": [
            "Data for VBK.DE saved to /content/drive/MyDrive/DATA/RAW/VBK.DE.csv\n"
          ]
        },
        {
          "output_type": "stream",
          "name": "stderr",
          "text": [
            "[*********************100%%**********************]  1 of 1 completed\n",
            "[*********************100%%**********************]  1 of 1 completed\n"
          ]
        },
        {
          "output_type": "stream",
          "name": "stdout",
          "text": [
            "Data for VEOEF saved to /content/drive/MyDrive/DATA/RAW/VEOEF.csv\n"
          ]
        },
        {
          "output_type": "stream",
          "name": "stderr",
          "text": [
            "\r[*********************100%%**********************]  1 of 1 completed\n"
          ]
        },
        {
          "output_type": "stream",
          "name": "stdout",
          "text": [
            "Data for VER.VI saved to /content/drive/MyDrive/DATA/RAW/VER.VI.csv\n"
          ]
        },
        {
          "output_type": "stream",
          "name": "stderr",
          "text": [
            "[*********************100%%**********************]  1 of 1 completed\n",
            "[*********************100%%**********************]  1 of 1 completed\n"
          ]
        },
        {
          "output_type": "stream",
          "name": "stdout",
          "text": [
            "Data for VOD saved to /content/drive/MyDrive/DATA/RAW/VOD.csv\n"
          ]
        },
        {
          "output_type": "stream",
          "name": "stderr",
          "text": [
            "[*********************100%%**********************]  1 of 1 completed\n",
            "[*********************100%%**********************]  1 of 1 completed\n",
            "[*********************100%%**********************]  1 of 1 completed\n"
          ]
        },
        {
          "output_type": "stream",
          "name": "stdout",
          "text": [
            "Data for VOE.VI saved to /content/drive/MyDrive/DATA/RAW/VOE.VI.csv\n"
          ]
        },
        {
          "output_type": "stream",
          "name": "stderr",
          "text": [
            "\r[*********************100%%**********************]  1 of 1 completed\n"
          ]
        },
        {
          "output_type": "stream",
          "name": "stdout",
          "text": [
            "Data for VOS.DE saved to /content/drive/MyDrive/DATA/RAW/VOS.DE.csv\n"
          ]
        },
        {
          "output_type": "stream",
          "name": "stderr",
          "text": [
            "[*********************100%%**********************]  1 of 1 completed\n",
            "[*********************100%%**********************]  1 of 1 completed\n",
            "[*********************100%%**********************]  1 of 1 completed\n"
          ]
        },
        {
          "output_type": "stream",
          "name": "stdout",
          "text": [
            "Data for VRLA.PA saved to /content/drive/MyDrive/DATA/RAW/VRLA.PA.csv\n"
          ]
        },
        {
          "output_type": "stream",
          "name": "stderr",
          "text": [
            "\r[*********************100%%**********************]  1 of 1 completed\n"
          ]
        },
        {
          "output_type": "stream",
          "name": "stdout",
          "text": [
            "Data for VWS.CO saved to /content/drive/MyDrive/DATA/RAW/VWS.CO.csv\n"
          ]
        },
        {
          "output_type": "stream",
          "name": "stderr",
          "text": [
            "[*********************100%%**********************]  1 of 1 completed\n",
            "[*********************100%%**********************]  1 of 1 completed\n",
            "[*********************100%%**********************]  1 of 1 completed\n"
          ]
        },
        {
          "output_type": "stream",
          "name": "stdout",
          "text": [
            "Data for WAC.DE saved to /content/drive/MyDrive/DATA/RAW/WAC.DE.csv\n"
          ]
        },
        {
          "output_type": "stream",
          "name": "stderr",
          "text": [
            "[*********************100%%**********************]  1 of 1 completed\n",
            "[*********************100%%**********************]  1 of 1 completed\n"
          ]
        },
        {
          "output_type": "stream",
          "name": "stdout",
          "text": [
            "Data for WAF.DE saved to /content/drive/MyDrive/DATA/RAW/WAF.DE.csv\n"
          ]
        },
        {
          "output_type": "stream",
          "name": "stderr",
          "text": [
            "\r[*********************100%%**********************]  1 of 1 completed\n"
          ]
        },
        {
          "output_type": "stream",
          "name": "stdout",
          "text": [
            "Data for WCH.DE saved to /content/drive/MyDrive/DATA/RAW/WCH.DE.csv\n"
          ]
        },
        {
          "output_type": "stream",
          "name": "stderr",
          "text": [
            "[*********************100%%**********************]  1 of 1 completed\n",
            "[*********************100%%**********************]  1 of 1 completed\n",
            "[*********************100%%**********************]  1 of 1 completed\n"
          ]
        },
        {
          "output_type": "stream",
          "name": "stdout",
          "text": [
            "Data for WEC saved to /content/drive/MyDrive/DATA/RAW/WEC.csv\n"
          ]
        },
        {
          "output_type": "stream",
          "name": "stderr",
          "text": [
            "\r[*********************100%%**********************]  1 of 1 completed\n"
          ]
        },
        {
          "output_type": "stream",
          "name": "stdout",
          "text": [
            "Data for WIRE saved to /content/drive/MyDrive/DATA/RAW/WIRE.csv\n"
          ]
        },
        {
          "output_type": "stream",
          "name": "stderr",
          "text": [
            "[*********************100%%**********************]  1 of 1 completed\n",
            "[*********************100%%**********************]  1 of 1 completed\n"
          ]
        },
        {
          "output_type": "stream",
          "name": "stdout",
          "text": [
            "Data for WLK saved to /content/drive/MyDrive/DATA/RAW/WLK.csv\n"
          ]
        },
        {
          "output_type": "stream",
          "name": "stderr",
          "text": [
            "[*********************100%%**********************]  1 of 1 completed\n",
            "[*********************100%%**********************]  1 of 1 completed\n"
          ]
        },
        {
          "output_type": "stream",
          "name": "stdout",
          "text": [
            "Data for WOLF saved to /content/drive/MyDrive/DATA/RAW/WOLF.csv\n"
          ]
        },
        {
          "output_type": "stream",
          "name": "stderr",
          "text": [
            "[*********************100%%**********************]  1 of 1 completed\n",
            "[*********************100%%**********************]  1 of 1 completed\n",
            "[*********************100%%**********************]  1 of 1 completed\n"
          ]
        },
        {
          "output_type": "stream",
          "name": "stdout",
          "text": [
            "Data for WRK saved to /content/drive/MyDrive/DATA/RAW/WRK.csv\n"
          ]
        },
        {
          "output_type": "stream",
          "name": "stderr",
          "text": [
            "\r[*********************100%%**********************]  1 of 1 completed\n"
          ]
        },
        {
          "output_type": "stream",
          "name": "stdout",
          "text": [
            "Data for WRT1V.HE saved to /content/drive/MyDrive/DATA/RAW/WRT1V.HE.csv\n"
          ]
        },
        {
          "output_type": "stream",
          "name": "stderr",
          "text": [
            "[*********************100%%**********************]  1 of 1 completed\n",
            "[*********************100%%**********************]  1 of 1 completed\n"
          ]
        },
        {
          "output_type": "stream",
          "name": "stdout",
          "text": [
            "Data for WWD saved to /content/drive/MyDrive/DATA/RAW/WWD.csv\n"
          ]
        },
        {
          "output_type": "stream",
          "name": "stderr",
          "text": [
            "[*********************100%%**********************]  1 of 1 completed\n",
            "[*********************100%%**********************]  1 of 1 completed\n"
          ]
        },
        {
          "output_type": "stream",
          "name": "stdout",
          "text": [
            "Data for XDWD.DE saved to /content/drive/MyDrive/DATA/RAW/XDWD.DE.csv\n"
          ]
        },
        {
          "output_type": "stream",
          "name": "stderr",
          "text": [
            "[*********************100%%**********************]  1 of 1 completed\n",
            "[*********************100%%**********************]  1 of 1 completed\n"
          ]
        },
        {
          "output_type": "stream",
          "name": "stdout",
          "text": [
            "Data for XEL saved to /content/drive/MyDrive/DATA/RAW/XEL.csv\n"
          ]
        },
        {
          "output_type": "stream",
          "name": "stderr",
          "text": [
            "[*********************100%%**********************]  1 of 1 completed\n",
            "[*********************100%%**********************]  1 of 1 completed\n"
          ]
        },
        {
          "output_type": "stream",
          "name": "stdout",
          "text": [
            "Data for XYL saved to /content/drive/MyDrive/DATA/RAW/XYL.csv\n"
          ]
        },
        {
          "output_type": "stream",
          "name": "stderr",
          "text": [
            "[*********************100%%**********************]  1 of 1 completed\n",
            "[*********************100%%**********************]  1 of 1 completed"
          ]
        },
        {
          "output_type": "stream",
          "name": "stdout",
          "text": [
            "Data for YAR.OL saved to /content/drive/MyDrive/DATA/RAW/YAR.OL.csv\n"
          ]
        },
        {
          "output_type": "stream",
          "name": "stderr",
          "text": [
            "\n"
          ]
        }
      ],
      "source": [
        "# PICK RAW FINANCIAL AND STOCK DATA FOR ALL PORTFOLIO COMPANIES\n",
        "\n",
        "import os\n",
        "import yfinance as yf\n",
        "import pandas as pd\n",
        "from datetime import datetime, timedelta\n",
        "\n",
        "# Mount Google Drive if necessary\n",
        "from google.colab import drive\n",
        "drive.mount('/content/drive')\n",
        "\n",
        "# Define file paths\n",
        "csv_file_path = '/content/drive/MyDrive/DATA/portfolio.csv'\n",
        "raw_data_path = '/content/drive/MyDrive/DATA/RAW/'\n",
        "\n",
        "# Function to check if a file exists and is older than 1 day\n",
        "def is_file_older_than_1_day(file_path):\n",
        "    if not os.path.exists(file_path):\n",
        "        return False\n",
        "    modification_time = os.path.getmtime(file_path)\n",
        "    time_difference = datetime.now() - datetime.fromtimestamp(modification_time)\n",
        "    return time_difference.days > 1\n",
        "\n",
        "# Function to fetch historical data for a ticker symbol and save it to CSV\n",
        "def fetch_and_save_data(ticker):\n",
        "    try:\n",
        "        # Check if CSV file already exists and is older than 1 day\n",
        "        ticker_csv_path = os.path.join(raw_data_path, f'{ticker}.csv')\n",
        "        if is_file_older_than_1_day(ticker_csv_path):\n",
        "            os.remove(ticker_csv_path)  # Remove the file if it's older than 1 day\n",
        "\n",
        "        # Fetch last trading day\n",
        "        last_trading_day = yf.download(\"SPY\").index[-1]\n",
        "\n",
        "        # Calculate start date 1 year back from the last trading day\n",
        "        start_date = last_trading_day - timedelta(days=365)\n",
        "\n",
        "        # Fetch historical data\n",
        "        ticker_data = yf.download(ticker, start=start_date, end=last_trading_day)\n",
        "\n",
        "        # Save data to CSV with specific formatting\n",
        "        ticker_data.to_csv(ticker_csv_path, float_format='%.5f')  # Control decimal precision\n",
        "        print(f\"Data for {ticker} saved to {ticker_csv_path}\")\n",
        "    except Exception as e:\n",
        "        print(f\"Error fetching data for {ticker}: {e}\")\n",
        "\n",
        "# Load CSV file containing ticker symbols\n",
        "portfolio_df = pd.read_csv(csv_file_path)\n",
        "\n",
        "# Iterate over ticker symbols and fetch data\n",
        "for ticker in portfolio_df['YFINANCE']:\n",
        "    fetch_and_save_data(ticker)"
      ]
    },
    {
      "cell_type": "markdown",
      "source": [
        "## Calculating Stochastic Indicator\n",
        "\n",
        "**Usage**\n",
        "\n",
        "- Dependencies: Ensure you have the required Python libraries installed, including pandas and numpy.\n",
        "\n",
        "- File Paths: Define the paths for the raw data directory and the output directory. Modify the raw_data_path and output_path variables to match your directory structure.\n",
        "\n",
        "- Data Preparation: Ensure your raw data CSV files are placed in the specified raw data directory. The script expects the files to have columns such as 'Low', 'High', and 'Close'.\n",
        "\n",
        "- Running the Script: Execute the script to analyze the Stochastic indicator for each CSV file in the raw data directory and save the results to the output directory.\n",
        "\n",
        "**Script Explanation**\n",
        "\n",
        "The script performs the following key tasks:\n",
        "\n",
        "- File Paths: Specifies the paths for the raw data directory and the directory where the analyzed data will be saved.\n",
        "\n",
        "- Stochastic Calculation: Defines a function to calculate the Stochastic indicator, including the %K and %D lines, based on given periods.\n",
        "\n",
        "- Stochastic Analysis: Defines a function to analyze the Stochastic indicator for various trading signals and divergences. The function identifies trends such as bullish and bearish divergences, crossover signals, and potential buy/sell signals.\n",
        "\n",
        "- Analyze Single CSV: Contains a function to load a single CSV file, calculate the Exponential Moving Average (EMA200), apply the Stochastic calculation and analysis, and save the results to the output directory. The function ensures the output is saved with appropriate formatting and decimal separators.\n",
        "\n",
        "- Analyze All CSV Files: Defines a function to iterate over all CSV files in the raw data directory and apply the analysis function to each file. It collects the list of CSV files, processes each file, and prints a completion message once all files are analyzed.\n",
        "\n",
        "- Execution: Calls the function to analyze all CSV files in the raw data directory, triggering the Stochastic calculation and analysis for each file, and saving the results to the specified output directory."
      ],
      "metadata": {
        "id": "sYYTKZJpLWoJ"
      }
    },
    {
      "cell_type": "code",
      "execution_count": 3,
      "metadata": {
        "colab": {
          "base_uri": "https://localhost:8080/"
        },
        "id": "rIZAnN3Wus1t",
        "outputId": "364c3076-59e4-4208-a48a-ed0b61933d0d"
      },
      "outputs": [
        {
          "output_type": "stream",
          "name": "stdout",
          "text": [
            "Stochastic analysis for all files completed.\n"
          ]
        }
      ],
      "source": [
        "# 02STOCH\n",
        "\n",
        "import os\n",
        "import pandas as pd\n",
        "import numpy as np\n",
        "\n",
        "# Define file paths\n",
        "raw_data_path = '/content/drive/MyDrive/DATA/RAW'\n",
        "output_path = '/content/drive/MyDrive/DATA/STOCHASTIC'\n",
        "\n",
        "# Function to calculate Stochastic indicator\n",
        "def calculate_stochastic(df, k_period=14, d_period=3):\n",
        "    # Calculate %K\n",
        "    lowest_low = df['Low'].rolling(window=k_period).min()\n",
        "    highest_high = df['High'].rolling(window=k_period).max()\n",
        "    df['%K'] = 100 * (df['Close'] - lowest_low) / (highest_high - lowest_low)\n",
        "    # Calculate %D\n",
        "    df['%D'] = df['%K'].rolling(window=d_period).mean()\n",
        "    return df\n",
        "\n",
        "# Function to analyze Stochastic indicator\n",
        "def analyze_stochastic(df):\n",
        "    # Trending Bullish Divergence\n",
        "    df['Trending Bullish Divergence'] = np.where((df['Close'] > df['EMA200']) & (df['%K'] < df['%D']), 'Yes', 'No')\n",
        "    # Regular Bullish Divergence\n",
        "    df['Regular Bullish Divergence'] = np.where((df['Close'].shift(1) < df['Close']) & (df['%K'].shift(1) > df['%K']) & (df['%D'].shift(1) < df['%D']), 'Yes', 'No')\n",
        "    # Hidden Bullish Divergence\n",
        "    df['Hidden Bullish Divergence'] = np.where((df['Close'].shift(1) > df['Close']) & (df['%K'].shift(1) < df['%K']) & (df['%D'].shift(1) > df['%D']), 'Yes', 'No')\n",
        "    # Trending Bearish Divergence\n",
        "    df['Trending Bearish Divergence'] = np.where((df['Close'] < df['EMA200']) & (df['%K'] > df['%D']), 'Yes', 'No')\n",
        "    # Regular Bearish Divergence\n",
        "    df['Regular Bearish Divergence'] = np.where((df['Close'].shift(1) > df['Close']) & (df['%K'].shift(1) < df['%K']) & (df['%D'].shift(1) > df['%D']), 'Yes', 'No')\n",
        "    # Hidden Bearish Divergence\n",
        "    df['Hidden Bearish Divergence'] = np.where((df['Close'].shift(1) < df['Close']) & (df['%K'].shift(1) > df['%K']) & (df['%D'].shift(1) < df['%D']), 'Yes', 'No')\n",
        "    # Middle Filter Aktive\n",
        "    df['Middle Filter Aktive'] = np.where((df['%K'] > 50) & (df['%D'] > 50), 'Yes', 'No')\n",
        "    # Short Signal\n",
        "    df['Short Signal'] = np.where((df['Close'] < df['EMA200']) & (df['%K'] > 80) & (df['%K'].shift(1) > 80), 'Yes', 'No')\n",
        "    # Long Signal\n",
        "    df['Long Signal'] = np.where((df['Close'] > df['EMA200']) & (df['%K'] < 20) & (df['%K'].shift(1) < 20), 'Yes', 'No')\n",
        "    # Crossing\n",
        "    df['Sell Signal'] = np.where((df['%K'] < df['%D']) & (df['%K'].shift(1) > df['%D'].shift(1)), 'Yes', 'No')\n",
        "    df['Sell Signal, Extreme'] = np.where((df['%K'] < 80) & (df['%D'] < 80) & (df['%K'].shift(1) > 80) & (df['%D'].shift(1) > 80), 'Yes', 'No')\n",
        "    df['Buy Signal'] = np.where((df['%K'] > df['%D']) & (df['%K'].shift(1) < df['%D'].shift(1)), 'Yes', 'No')\n",
        "    df['Buy Signal, Extreme'] = np.where((df['%K'] > 20) & (df['%D'] > 20) & (df['%K'].shift(1) < 20) & (df['%D'].shift(1) < 20), 'Yes', 'No')\n",
        "    # Crossover\n",
        "    df['Right Hand Crossover'] = np.where((df['%D'].shift(1) > df['%K'].shift(1)) & (df['%D'] < df['%K']), 'Yes', 'No')\n",
        "    df['Left Hand Crossover'] = np.where((df['%K'].shift(1) > df['%D'].shift(1)) & (df['%K'] < df['%D']), 'Yes', 'No')\n",
        "    return df\n",
        "\n",
        "# Function to analyze Stochastic for a single CSV file\n",
        "def analyze_single_csv(file_path):\n",
        "    try:\n",
        "        # Load data\n",
        "        df = pd.read_csv(file_path)\n",
        "        # Calculate EMA200\n",
        "        df['EMA200'] = df['Close'].ewm(span=200, min_periods=0).mean()\n",
        "        # Calculate Stochastic indicator\n",
        "        df = calculate_stochastic(df)\n",
        "        # Analyze Stochastic indicator\n",
        "        df = analyze_stochastic(df)\n",
        "        # Output results\n",
        "        filename = os.path.basename(file_path)\n",
        "        output_file_path = os.path.join(output_path, filename)\n",
        "        df.to_csv(output_file_path, index=False, mode='w', decimal=',')  # Ensure overwrite mode and use \",\" as decimal separator\n",
        "    except Exception as e:\n",
        "        print(f\"Error analyzing Stochastic for {file_path}: {e}\")\n",
        "\n",
        "# Function to analyze Stochastic for all CSV files in the RAW folder\n",
        "def analyze_all_csv_files():\n",
        "    # Get list of CSV files\n",
        "    csv_files = [os.path.join(raw_data_path, file) for file in os.listdir(raw_data_path) if file.endswith('.csv')]\n",
        "    # Analyze Stochastic for each CSV file\n",
        "    for file_path in csv_files:\n",
        "        analyze_single_csv(file_path)\n",
        "    print(\"Stochastic analysis for all files completed.\")\n",
        "\n",
        "# Analyze Stochastic for all CSV files in the RAW folder\n",
        "analyze_all_csv_files()"
      ]
    },
    {
      "cell_type": "markdown",
      "source": [
        "**Stochastics Data Consolidation**"
      ],
      "metadata": {
        "id": "CTvi49z5Ly3a"
      }
    },
    {
      "cell_type": "code",
      "execution_count": 4,
      "metadata": {
        "colab": {
          "base_uri": "https://localhost:8080/"
        },
        "id": "1u9x1XHAfpIH",
        "outputId": "3511d908-2321-418a-ab42-13871497cf37"
      },
      "outputs": [
        {
          "output_type": "stream",
          "name": "stdout",
          "text": [
            "Latest STOCHASTIC data with file names has been consolidated and saved to: /content/drive/MyDrive/DATA/results_stochastic.csv\n"
          ]
        }
      ],
      "source": [
        "# 03SUMSTO\n",
        "\n",
        "import os\n",
        "import pandas as pd\n",
        "\n",
        "# Define paths\n",
        "stochastic_path = '/content/drive/MyDrive/DATA/STOCHASTIC'\n",
        "output_file_path = '/content/drive/MyDrive/DATA/results_stochastic.csv'\n",
        "\n",
        "# Function to read CSV files and extract rows with the latest date\n",
        "def extract_latest_data(file_path, file_name):\n",
        "    try:\n",
        "        df = pd.read_csv(file_path)\n",
        "        latest_date = df['Date'].max()  # Find the latest date in the dataframe\n",
        "        latest_data = df[df['Date'] == latest_date].copy()  # Extract rows with the latest date and create a copy\n",
        "        latest_data['File'] = file_name  # Add a new column with the file name\n",
        "        return latest_data\n",
        "    except Exception as e:\n",
        "        print(f\"Error processing file {file_path}: {e}\")\n",
        "        return None\n",
        "\n",
        "# Initialize an empty list to store dataframes\n",
        "dfs = []\n",
        "\n",
        "# Iterate through CSV files in the STOCHASTIC input path\n",
        "for file_name in os.listdir(stochastic_path):\n",
        "    if file_name.endswith('.csv'):\n",
        "        file_path = os.path.join(stochastic_path, file_name)\n",
        "        # Extract rows with the latest date from the current file\n",
        "        latest_data = extract_latest_data(file_path, file_name)\n",
        "        if latest_data is not None:\n",
        "            # Append the latest data to the list of dataframes\n",
        "            dfs.append(latest_data)\n",
        "\n",
        "# Check if any dataframes were extracted\n",
        "if dfs:\n",
        "    # Concatenate dataframes in the list into a single dataframe\n",
        "    consolidated_data = pd.concat(dfs, ignore_index=True)\n",
        "\n",
        "    # Check if the output file already exists and remove it\n",
        "    if os.path.exists(output_file_path):\n",
        "        os.remove(output_file_path)\n",
        "\n",
        "    # Save the consolidated data to a CSV file\n",
        "    consolidated_data.to_csv(output_file_path, index=False, decimal=',')\n",
        "    print(\"Latest STOCHASTIC data with file names has been consolidated and saved to:\", output_file_path)\n",
        "else:\n",
        "    print(\"No STOCHASTIC data found in the specified directory.\")"
      ]
    },
    {
      "cell_type": "markdown",
      "source": [
        "##Calculating Relative Strength Indicator (RSI)\n",
        "\n",
        "**Usage**\n",
        "\n",
        "- Dependencies: Ensure you have the required Python libraries installed, including pandas and numpy.\n",
        "\n",
        "- File Paths: Define the paths for the raw data directory and the RSI output directory. Modify the raw_data_path and rsi_output_path variables to match your directory structure.\n",
        "\n",
        "- Data Preparation: Ensure your raw data CSV files are placed in the specified raw data directory. The script expects the files to have a 'Close' column for the calculation of RSI.\n",
        "\n",
        "- Running the Script: Execute the script to calculate and interpret the RSI for each CSV file in the raw data directory and save the results to the RSI output directory.\n",
        "\n",
        "**Script Explanation**\n",
        "\n",
        "The script performs the following key tasks:\n",
        "\n",
        "- File Paths: Specifies the paths for the raw data directory and the directory where the RSI data will be saved.\n",
        "\n",
        "- RSI Calculation: Defines a function to calculate the Relative Strength Index (RSI) over a given period. This function calculates the RSI based on the difference in closing prices over time, distinguishing between gains and losses.\n",
        "\n",
        "- RSI Signal Classification: Defines a function to classify RSI values into signals such as \"Overbought\", \"Oversold\", and \"Neutral\" based on standard RSI thresholds.\n",
        "\n",
        "- RSI Interpretation: Contains a function to interpret RSI signals, including:\n",
        "\n",
        "1. *Calculation of 14-day and 30-day RSI values.*\n",
        "\n",
        "2. *Classification of RSI signals.*\n",
        "\n",
        "3. *Trend interpretation based on RSI changes.*\n",
        "\n",
        "4. *Divergence interpretation using moving averages for detecting bullish and bearish divergences.*\n",
        "\n",
        "- Read and Process Data: Iterates over all CSV files in the raw data directory, reads each file into a DataFrame, and applies the RSI interpretation function. The interpreted data includes RSI values, signal classifications, trend directions, and divergence indicators.*\n",
        "\n",
        "- Save Results: Saves the interpreted RSI data for each processed CSV file to the specified RSI output directory, ensuring the results are stored with appropriate formatting.\n",
        "\n",
        "- Execution: After processing all CSV files, the script prints a completion message indicating that the RSI calculation and interpretation are finished and the results are saved."
      ],
      "metadata": {
        "id": "1YJwLmPwMD6Y"
      }
    },
    {
      "cell_type": "code",
      "execution_count": 5,
      "metadata": {
        "colab": {
          "base_uri": "https://localhost:8080/"
        },
        "id": "VjMGgUheyFXc",
        "outputId": "540bc9f6-9313-4e37-eb1c-1b20085df7e3"
      },
      "outputs": [
        {
          "output_type": "stream",
          "name": "stdout",
          "text": [
            "RSI calculation and interpretation completed. Results saved to the RSI output path.\n"
          ]
        }
      ],
      "source": [
        "# 04RSI\n",
        "\n",
        "import os\n",
        "import pandas as pd\n",
        "import numpy as np\n",
        "\n",
        "# Define paths\n",
        "raw_data_path = '/content/drive/MyDrive/DATA/RAW'\n",
        "rsi_output_path = '/content/drive/MyDrive/DATA/RSI'\n",
        "\n",
        "# Function to calculate RSI\n",
        "def calculate_rsi(data, period):\n",
        "    delta = data.diff(1)\n",
        "    gain = (delta.where(delta > 0, 0)).rolling(window=period).mean()\n",
        "    loss = (-delta.where(delta < 0, 0)).rolling(window=period).mean()\n",
        "    rs = gain / loss\n",
        "    rsi = 100 - (100 / (1 + rs))\n",
        "    return rsi\n",
        "\n",
        "# Function to classify RSI signals based on interpretation\n",
        "def classify_rsi(rsi):\n",
        "    signals = []\n",
        "    for val in rsi:\n",
        "        if val > 70:\n",
        "            signals.append(\"Overbought\")\n",
        "        elif val < 30:\n",
        "            signals.append(\"Oversold\")\n",
        "        else:\n",
        "            signals.append(\"Neutral\")\n",
        "    return signals\n",
        "\n",
        "# Function to interpret RSI signals based on trend and divergence criteria\n",
        "def interpret_rsi(data):\n",
        "    data['RSI_14'] = calculate_rsi(data['Close'], 14)\n",
        "    data['RSI_30'] = calculate_rsi(data['Close'], 30)\n",
        "    data['RSI_14_Class'] = classify_rsi(data['RSI_14'])\n",
        "    data['RSI_30_Class'] = classify_rsi(data['RSI_30'])\n",
        "    # Trend interpretation\n",
        "    data['Trend_14'] = np.where(data['RSI_14'].diff() > 0, \"Rising\", \"Falling\")\n",
        "    data['Trend_30'] = np.where(data['RSI_30'].diff() > 0, \"Rising\", \"Falling\")\n",
        "    # Divergence interpretation (for 14-day period)\n",
        "    data['RSI_14_MA'] = data['RSI_14'].rolling(window=14).mean()\n",
        "    data['Close_14_MA'] = data['Close'].rolling(window=14).mean()\n",
        "    data['Bullish_Divergence'] = np.where((data['RSI_14'] > data['RSI_14_MA'].shift(1)) & (data['Close'] < data['Close_14_MA'].shift(1)), \"Yes\", \"No\")\n",
        "    data['Bearish_Divergence'] = np.where((data['RSI_14'] < data['RSI_14_MA'].shift(1)) & (data['Close'] > data['Close_14_MA'].shift(1)), \"Yes\", \"No\")\n",
        "    return data  # Return the modified DataFrame\n",
        "\n",
        "# Read data from CSV files in the raw data path\n",
        "for file_name in os.listdir(raw_data_path):\n",
        "    if file_name.endswith('.csv'):\n",
        "        file_path = os.path.join(raw_data_path, file_name)\n",
        "        # Read CSV file\n",
        "        df = pd.read_csv(file_path)\n",
        "        # Interpret RSI signals\n",
        "        df_interpreted = interpret_rsi(df)\n",
        "        # Save interpreted RSI data to CSV file in the output path\n",
        "        output_file_path = os.path.join(rsi_output_path, file_name)\n",
        "        df_interpreted.to_csv(output_file_path, index=False, decimal=',')\n",
        "\n",
        "print(\"RSI calculation and interpretation completed. Results saved to the RSI output path.\")"
      ]
    },
    {
      "cell_type": "markdown",
      "source": [
        "**RSI Data Consolidation**"
      ],
      "metadata": {
        "id": "eBlSC7_gNAUk"
      }
    },
    {
      "cell_type": "code",
      "execution_count": 6,
      "metadata": {
        "colab": {
          "base_uri": "https://localhost:8080/"
        },
        "id": "5IUDPypbBwUn",
        "outputId": "d4d2ff42-1493-4dec-b760-baed64a1cd8a"
      },
      "outputs": [
        {
          "output_type": "stream",
          "name": "stdout",
          "text": [
            "Latest RSI data with file names has been consolidated and saved to: /content/drive/MyDrive/DATA/results_rsi.csv\n"
          ]
        }
      ],
      "source": [
        "# 05SUMRSI\n",
        "\n",
        "import os\n",
        "import pandas as pd\n",
        "\n",
        "# Define paths\n",
        "rsi_input_path = '/content/drive/MyDrive/DATA/RSI'\n",
        "output_file_path = '/content/drive/MyDrive/DATA/results_rsi.csv'\n",
        "\n",
        "# Function to read CSV files and extract rows with the latest date\n",
        "def extract_latest_data(file_path, file_name):\n",
        "    df = pd.read_csv(file_path)\n",
        "    latest_date = df['Date'].max()  # Find the latest date in the dataframe\n",
        "    latest_data = df[df['Date'] == latest_date].copy()  # Extract rows with the latest date and create a copy\n",
        "    latest_data['File'] = file_name  # Add a new column with the file name\n",
        "    return latest_data\n",
        "\n",
        "# Initialize an empty list to store dataframes\n",
        "dfs = []\n",
        "\n",
        "# Iterate through CSV files in the RSI input path\n",
        "for file_name in os.listdir(rsi_input_path):\n",
        "    if file_name.endswith('.csv'):\n",
        "        file_path = os.path.join(rsi_input_path, file_name)\n",
        "        # Extract rows with the latest date from the current file\n",
        "        latest_data = extract_latest_data(file_path, file_name)\n",
        "        # Append the latest data to the list of dataframes\n",
        "        dfs.append(latest_data)\n",
        "\n",
        "# Concatenate dataframes in the list into a single dataframe\n",
        "consolidated_data = pd.concat(dfs, ignore_index=True)\n",
        "\n",
        "# Check if the output file already exists\n",
        "if os.path.exists(output_file_path):\n",
        "    # Remove the existing file\n",
        "    os.remove(output_file_path)\n",
        "\n",
        "# Save the consolidated data to a CSV file\n",
        "consolidated_data.to_csv(output_file_path, index=False, decimal=',')\n",
        "\n",
        "print(\"Latest RSI data with file names has been consolidated and saved to:\", output_file_path)\n"
      ]
    },
    {
      "cell_type": "markdown",
      "source": [
        "##Calculating Moving average convergence and divergence (MACD) Indocator\n",
        "\n",
        "**Usage**\n",
        "- Dependencies: Ensure you have the required Python libraries installed, including pandas and numpy.\n",
        "\n",
        "- File Paths: Define the paths for the raw data directory and the MACD output directory. Modify the raw_data_path and macd_output_path variables to match your directory structure.\n",
        "\n",
        "- Data Preparation: Ensure your raw data CSV files are placed in the specified raw data directory. The script expects the files to have a 'Close' column for the calculation of MACD.\n",
        "\n",
        "- Running the Script: Execute the script to calculate and interpret the Moving Average Convergence Divergence (MACD) for each CSV file in the raw data directory and save the results to the MACD output directory.\n",
        "\n",
        "**Script Explanation**\n",
        "The script performs the following key tasks:\n",
        "\n",
        "- File Paths: Specifies the paths for the raw data directory and the directory where the MACD data will be saved.\n",
        "\n",
        "- MACD Calculation: Defines a function to calculate the MACD parameters, including:\n",
        "\n",
        "1. *MACD Line: The difference between the 12-day Exponential Moving Average (EMA) and the 26-day EMA.*\n",
        "2. *MACD Signal Line: The 9-day EMA of the MACD line.*\n",
        "3. *MACD Histogram: The difference between the MACD line and the MACD Signal line.*\n",
        "\n",
        "- MACD Signal Interpretation: Defines a function to interpret MACD signals, including:\n",
        "\n",
        "1. *Buy Signal: When the MACD crosses its Signal line from bottom to top.*\n",
        "2. *Sell Signal: When the MACD crosses its Signal line from top to bottom.*\n",
        "3. *Signal Intensity: Average distance of MACD and Signal line to the midpoint line.*\n",
        "4. *Upward Momentum: When the MACD is higher than its nine-day average.*\n",
        "5. *Downward Momentum: When the MACD is lower than its nine-day average.*\n",
        "6. *Open Bullish Position: When the MACD shows an uptrend over a period of 14 days.*\n",
        "\n",
        "- Open Bearish Position: When the MACD shows a downtrend over a period of 14 days.\n",
        "- Remove Existing Files: Removes any existing CSV files in the MACD output directory to ensure fresh data storage.\n",
        "\n",
        "- Read and Process Data: Iterates over all CSV files in the raw data directory, reads each file into a DataFrame, calculates the MACD parameters, interprets MACD signals, and saves the interpreted MACD data for each file to the specified MACD output directory.\n",
        "\n",
        "- Execution: After processing all CSV files, the script prints a completion message indicating that the MACD calculation and interpretation are finished and the results are saved."
      ],
      "metadata": {
        "id": "4JsprnXeNSkT"
      }
    },
    {
      "cell_type": "code",
      "execution_count": 7,
      "metadata": {
        "colab": {
          "base_uri": "https://localhost:8080/"
        },
        "id": "ylmd9NaHkbjB",
        "outputId": "29012abc-3cb5-4721-a07c-50499a5681f4"
      },
      "outputs": [
        {
          "output_type": "stream",
          "name": "stdout",
          "text": [
            "MACD calculation and interpretation completed. Results saved to the MACD output path.\n"
          ]
        }
      ],
      "source": [
        "# 06MACD\n",
        "\n",
        "import os\n",
        "import pandas as pd\n",
        "import numpy as np\n",
        "\n",
        "# Define paths\n",
        "raw_data_path = '/content/drive/MyDrive/DATA/RAW'\n",
        "macd_output_path = '/content/drive/MyDrive/DATA/MACD'\n",
        "\n",
        "# Function to calculate MACD parameters\n",
        "def calculate_macd(data):\n",
        "    # Calculate MACD line (12-day EMA - 26-day EMA)\n",
        "    data['EMA_12'] = data['Close'].ewm(span=12, min_periods=0, adjust=False).mean()\n",
        "    data['EMA_26'] = data['Close'].ewm(span=26, min_periods=0, adjust=False).mean()\n",
        "    data['MACD'] = data['EMA_12'] - data['EMA_26']\n",
        "\n",
        "    # Calculate MACD Signal line (9-day EMA of MACD)\n",
        "    data['MACD_Signal'] = data['MACD'].ewm(span=9, min_periods=0, adjust=False).mean()\n",
        "\n",
        "    # Calculate MACD Histogram (MACD - Signal)\n",
        "    data['MACD_Histogram'] = data['MACD'] - data['MACD_Signal']\n",
        "\n",
        "    return data\n",
        "\n",
        "# Function to interpret MACD signals\n",
        "def interpret_macd(data):\n",
        "    # Buy Signal: MACD crosses its trigger from bottom to top\n",
        "    data['Buy_Signal'] = np.where((data['MACD'] > data['MACD_Signal']) & (data['MACD'].shift(1) < data['MACD_Signal'].shift(1)), \"Buy\", \"\")\n",
        "\n",
        "    # Sell Signal: MACD crosses its trigger from top to bottom\n",
        "    data['Sell_Signal'] = np.where((data['MACD'] < data['MACD_Signal']) & (data['MACD'].shift(1) > data['MACD_Signal'].shift(1)), \"Sell\", \"\")\n",
        "\n",
        "    # Signal Intensity: Average distance of MACD and Trigger line to the midpoint line\n",
        "    data['Signal_Intensity'] = (data['MACD'] + data['MACD_Signal']) / 2\n",
        "\n",
        "    # Upward Momentum: MACD is higher than its nine-day average\n",
        "    data['Upward_Momentum'] = np.where(data['MACD'] > data['MACD'].rolling(window=9).mean(), \"Upward Momentum\", \"\")\n",
        "\n",
        "    # Downward Momentum: MACD is lower than its nine-day average\n",
        "    data['Downward_Momentum'] = np.where(data['MACD'] < data['MACD'].rolling(window=9).mean(), \"Downward Momentum\", \"\")\n",
        "\n",
        "    # Open Bullish Position: MACD shows an uptrend over a period of 14 days\n",
        "    data['Open_Bullish_Position'] = np.where(data['MACD'] > data['MACD'].shift(14), \"Open Bullish Position\", \"\")\n",
        "\n",
        "    # Open Bearish Position: MACD shows a downtrend over a period of 14 days\n",
        "    data['Open_Bearish_Position'] = np.where(data['MACD'] < data['MACD'].shift(14), \"Open Bearish Position\", \"\")\n",
        "\n",
        "    return data\n",
        "\n",
        "# Remove existing files in the output path\n",
        "for file_name in os.listdir(macd_output_path):\n",
        "    file_path = os.path.join(macd_output_path, file_name)\n",
        "    os.remove(file_path)\n",
        "\n",
        "# Read data from CSV files in the raw data path\n",
        "for file_name in os.listdir(raw_data_path):\n",
        "    if file_name.endswith('.csv'):\n",
        "        file_path = os.path.join(raw_data_path, file_name)\n",
        "        # Read CSV file\n",
        "        df = pd.read_csv(file_path)\n",
        "        # Calculate MACD parameters\n",
        "        df = calculate_macd(df)\n",
        "        # Interpret MACD signals\n",
        "        df = interpret_macd(df)\n",
        "        # Save interpreted MACD data to CSV file in the output path\n",
        "        output_file_path = os.path.join(macd_output_path, file_name)\n",
        "        df.to_csv(output_file_path, index=False, decimal=',')\n",
        "\n",
        "print(\"MACD calculation and interpretation completed. Results saved to the MACD output path.\")"
      ]
    },
    {
      "cell_type": "markdown",
      "source": [
        "**MACD Data Consolidation**"
      ],
      "metadata": {
        "id": "k7rR3RrIOcVf"
      }
    },
    {
      "cell_type": "code",
      "execution_count": 8,
      "metadata": {
        "colab": {
          "base_uri": "https://localhost:8080/"
        },
        "id": "pN11qsf8por7",
        "outputId": "6330a842-320a-428c-a4ab-f1dfa7a68ec3"
      },
      "outputs": [
        {
          "output_type": "stream",
          "name": "stdout",
          "text": [
            "Latest MACD data with file names has been consolidated and saved to: /content/drive/MyDrive/DATA/results_macd.csv\n"
          ]
        }
      ],
      "source": [
        "# 07SUMMACD\n",
        "\n",
        "import os\n",
        "import pandas as pd\n",
        "\n",
        "# Define paths\n",
        "macd_input_path = '/content/drive/MyDrive/DATA/MACD'\n",
        "output_file_path = '/content/drive/MyDrive/DATA/results_macd.csv'\n",
        "\n",
        "# Function to read CSV files and extract rows with the latest date\n",
        "def extract_latest_data(file_path, file_name):\n",
        "    try:\n",
        "        df = pd.read_csv(file_path)\n",
        "        latest_date = df['Date'].max()  # Find the latest date in the dataframe\n",
        "        latest_data = df[df['Date'] == latest_date].copy()  # Extract rows with the latest date and create a copy\n",
        "        latest_data['File'] = file_name  # Add a new column with the file name\n",
        "        return latest_data\n",
        "    except Exception as e:\n",
        "        print(f\"Error processing file {file_path}: {e}\")\n",
        "        return None\n",
        "\n",
        "# Initialize an empty list to store dataframes\n",
        "dfs = []\n",
        "\n",
        "# Iterate through CSV files in the MACD input path\n",
        "for file_name in os.listdir(macd_input_path):\n",
        "    if file_name.endswith('.csv'):\n",
        "        file_path = os.path.join(macd_input_path, file_name)\n",
        "        # Extract rows with the latest date from the current file\n",
        "        latest_data = extract_latest_data(file_path, file_name)\n",
        "        if latest_data is not None:\n",
        "            # Append the latest data to the list of dataframes\n",
        "            dfs.append(latest_data)\n",
        "\n",
        "# Check if any dataframes were extracted\n",
        "if dfs:\n",
        "    # Concatenate dataframes in the list into a single dataframe\n",
        "    consolidated_data = pd.concat(dfs, ignore_index=True)\n",
        "\n",
        "    # Check if the output file already exists and remove it\n",
        "    if os.path.exists(output_file_path):\n",
        "        os.remove(output_file_path)\n",
        "\n",
        "    # Save the consolidated data to a CSV file\n",
        "    consolidated_data.to_csv(output_file_path, index=False, decimal=',')\n",
        "    print(\"Latest MACD data with file names has been consolidated and saved to:\", output_file_path)\n",
        "else:\n",
        "    print(\"No MACD data found in the specified directory.\")"
      ]
    },
    {
      "cell_type": "markdown",
      "source": [
        "##Calculating Moving Averages\n",
        "**Usage**\n",
        "- Dependencies: Ensure you have the required Python libraries installed, including pandas.\n",
        "\n",
        "- File Paths: Define the paths for the raw data directory and the output directory for the simple moving average (SMA) analysis. Adjust the raw_data_path and output_path variables to match your directory structure.\n",
        "\n",
        "- Data Preparation: Place your raw data CSV files in the specified raw data directory. Each file should contain a 'Close' column for the calculation of SMAs.\n",
        "\n",
        "- Running the Script: Execute the script to analyze each CSV file in the raw data directory using SMA indicators and save the results to the output directory.\n",
        "\n",
        "**Script Explanation**\n",
        "The script performs the following tasks:\n",
        "\n",
        "- File Paths: Specifies the paths for the raw data directory and the directory where the SMA analysis results will be saved.\n",
        "\n",
        "- Simple Moving Average (SMA) Calculation: Defines a function to calculate SMAs with different window lengths (e.g., 20-day, 50-day, 100-day, 200-day) for each CSV file:\n",
        "\n",
        "- Calculates SMAs using the rolling mean function on the 'Close' price.\n",
        "Interpretation of SMA Signals: Defines a function to interpret SMA signals based on two common technical analysis patterns:\n",
        "\n",
        "1. *Golden Cross: When the shorter-term SMA crosses above the longer-term SMA, suggesting a potential buy signal.*\n",
        "2. *Death Cross: When the shorter-term SMA crosses below the longer-term SMA, suggesting a potential sell signal.*\n",
        "3. *Determines the interpretation based on changes in SMA values over time.*\n",
        "- Processing Each CSV File: Iterates over all CSV files in the raw data directory:\n",
        "\n",
        "1. *Reads each CSV file into a DataFrame.*\n",
        "2. *Calculates multiple SMAs (e.g., 20-day vs 50-day, 100-day vs 200-day).*\n",
        "3. *Interprets SMA signals using the defined functions.*\n",
        "4. *Saves the processed DataFrame with SMA indicators and interpretation signals to a new CSV file in the output directory.*\n",
        "\n",
        "- Execution: After processing all CSV files, the script prints a completion message indicating that the SMA analysis with modified interpretation is finished, and the results are saved in the specified output path."
      ],
      "metadata": {
        "id": "M9YPxwDlOmvm"
      }
    },
    {
      "cell_type": "code",
      "execution_count": 9,
      "metadata": {
        "colab": {
          "base_uri": "https://localhost:8080/"
        },
        "id": "T7q__pmcuDiu",
        "outputId": "7af3d48a-4d71-420a-d4c2-774273720232"
      },
      "outputs": [
        {
          "output_type": "stream",
          "name": "stdout",
          "text": [
            "Simple Moving Average (SMA) analysis with modified interpretation completed.\n"
          ]
        }
      ],
      "source": [
        "# 08MOVAVG\n",
        "\n",
        "import os\n",
        "import pandas as pd\n",
        "from IPython.display import Javascript\n",
        "\n",
        "# Define paths\n",
        "raw_data_path = '/content/drive/MyDrive/DATA/RAW'\n",
        "output_path = '/content/drive/MyDrive/DATA/AVG'\n",
        "\n",
        "# Function to calculate simple moving averages\n",
        "def calculate_sma(data, short_window, long_window):\n",
        "    short_ma = data['Close'].rolling(window=short_window).mean()\n",
        "    long_ma = data['Close'].rolling(window=long_window).mean()\n",
        "    return short_ma, long_ma\n",
        "\n",
        "# Function to interpret SMA signals based on Golden Cross and Death Cross\n",
        "def interpret_sma(short_ma, long_ma):\n",
        "    interpretation = []\n",
        "    for i in range(len(short_ma)):\n",
        "        if short_ma[i] > long_ma[i] and short_ma[i - 1] <= long_ma[i - 1] and short_ma[i] > short_ma[i - 1] and long_ma[i] > long_ma[i - 1]:\n",
        "            interpretation.append(\"Buy Signal - Golden Cross\")\n",
        "        elif short_ma[i] < long_ma[i] and short_ma[i - 1] >= long_ma[i - 1] and short_ma[i] < short_ma[i - 1] and long_ma[i] < long_ma[i - 1]:\n",
        "            interpretation.append(\"Sell Signal - Death Cross\")\n",
        "        else:\n",
        "            interpretation.append(\"No Signal\")\n",
        "    return interpretation\n",
        "\n",
        "# Function to process each CSV file\n",
        "def process_file(file_path):\n",
        "    try:\n",
        "        # Read CSV file\n",
        "        df = pd.read_csv(file_path)\n",
        "        # Calculate SMAs\n",
        "        df['SMA_20'], df['SMA_50'] = calculate_sma(df, 20, 50)\n",
        "        df['SMA_100'], df['SMA_200'] = calculate_sma(df, 100, 200)\n",
        "        # Interpret SMA signals\n",
        "        df['20_50_Signal'] = interpret_sma(df['SMA_20'], df['SMA_50'])\n",
        "        df['100_200_Signal'] = interpret_sma(df['SMA_100'], df['SMA_200'])\n",
        "        return df\n",
        "    except Exception as e:\n",
        "        print(f\"Error processing file {file_path}: {e}\")\n",
        "        return None\n",
        "\n",
        "# Process each CSV file in the raw data path\n",
        "for file_name in os.listdir(raw_data_path):\n",
        "    if file_name.endswith('.csv'):\n",
        "        file_path = os.path.join(raw_data_path, file_name)\n",
        "        # Process file\n",
        "        processed_df = process_file(file_path)\n",
        "        if processed_df is not None:\n",
        "            # Save processed data to CSV file in the output path\n",
        "            output_file_path = os.path.join(output_path, file_name)\n",
        "            processed_df.to_csv(output_file_path, index=False, decimal=',')\n",
        "\n",
        "print(\"Simple Moving Average (SMA) analysis with modified interpretation completed.\")"
      ]
    },
    {
      "cell_type": "markdown",
      "source": [
        "**Moving Averge Data Consolidation**"
      ],
      "metadata": {
        "id": "cLNItrYYPHuc"
      }
    },
    {
      "cell_type": "code",
      "execution_count": 10,
      "metadata": {
        "colab": {
          "base_uri": "https://localhost:8080/"
        },
        "id": "EVw1tkIrxdmA",
        "outputId": "b96b41a1-be4d-4ac0-bdfc-ea97387aec8b"
      },
      "outputs": [
        {
          "output_type": "stream",
          "name": "stdout",
          "text": [
            "Latest average data with file names has been consolidated and saved to: /content/drive/MyDrive/DATA/results_avg.csv\n"
          ]
        }
      ],
      "source": [
        "# 09SUMMOVAVG\n",
        "\n",
        "import os\n",
        "import pandas as pd\n",
        "\n",
        "# Define paths\n",
        "avg_input_path = '/content/drive/MyDrive/DATA/AVG'\n",
        "output_file_path = '/content/drive/MyDrive/DATA/results_avg.csv'\n",
        "\n",
        "# Function to read CSV files and extract rows with the latest date\n",
        "def extract_latest_data(file_path, file_name):\n",
        "    try:\n",
        "        df = pd.read_csv(file_path)\n",
        "        latest_date = df['Date'].max()  # Find the latest date in the dataframe\n",
        "        latest_data = df[df['Date'] == latest_date].copy()  # Extract rows with the latest date and create a copy\n",
        "        latest_data['File'] = file_name  # Add a new column with the file name\n",
        "        return latest_data\n",
        "    except Exception as e:\n",
        "        print(f\"Error processing file {file_path}: {e}\")\n",
        "        return None\n",
        "\n",
        "# Initialize an empty list to store dataframes\n",
        "dfs = []\n",
        "\n",
        "# Iterate through CSV files in the AVG input path\n",
        "for file_name in os.listdir(avg_input_path):\n",
        "    if file_name.endswith('.csv'):\n",
        "        file_path = os.path.join(avg_input_path, file_name)\n",
        "        # Extract rows with the latest date from the current file\n",
        "        latest_data = extract_latest_data(file_path, file_name)\n",
        "        if latest_data is not None:\n",
        "            # Append the latest data to the list of dataframes\n",
        "            dfs.append(latest_data)\n",
        "\n",
        "# Check if any dataframes were extracted\n",
        "if dfs:\n",
        "    # Concatenate dataframes in the list into a single dataframe\n",
        "    consolidated_data = pd.concat(dfs, ignore_index=True)\n",
        "\n",
        "    # Check if the output file already exists and remove it\n",
        "    if os.path.exists(output_file_path):\n",
        "        os.remove(output_file_path)\n",
        "\n",
        "    # Save the consolidated data to a CSV file\n",
        "    consolidated_data.to_csv(output_file_path, index=False, decimal=',')\n",
        "    print(\"Latest average data with file names has been consolidated and saved to:\", output_file_path)\n",
        "else:\n",
        "    print(\"No average data found in the specified directory.\")"
      ]
    },
    {
      "cell_type": "markdown",
      "source": [
        "# Data Consolidation\n",
        "**Usage**\n",
        "- Dependencies: Ensure you have the pandas library installed to run this script.\n",
        "\n",
        "- Data Files: Prepare the input data files (results_stochastic.csv, results_rsi.csv, results_macd.csv, results_avg.csv) in the specified data directory (/content/drive/MyDrive/DATA/). These files should contain the results from individual technical analysis scripts.\n",
        "\n",
        "- Output File: Define the output_file_path where the merged summary data will be saved as a CSV file.\n",
        "\n",
        "- Running the Script: Execute the script to merge data from multiple CSV files based on a common column ('File') and save the summarized results to the specified output file.\n",
        "\n",
        "**Script Explanation**\n",
        "The script performs the following tasks:\n",
        "\n",
        "- File Paths: Specifies the paths for the data directory containing individual technical analysis results (data_path) and the path to save the merged summary data (output_file_path).\n",
        "\n",
        "- Reading Data: Reads each of the four CSV files (results_stochastic.csv, results_rsi.csv, results_macd.csv, results_avg.csv) into separate DataFrames (stochastic_data, rsi_data, macd_data, avg_data).\n",
        "\n",
        "- Merging Dataframes: Combines the DataFrames based on a common column ('File'):\n",
        "\n",
        "1. *First merges stochastic_data with rsi_data to include columns related to RSI indicators.*\n",
        "2. *Then merges the resulting DataFrame with macd_data to incorporate MACD indicators.*\n",
        "3. *Finally, merges with avg_data to add SMA signals.*\n",
        "\n",
        "- Column Order: Adjusts the order of columns in the merged DataFrame, moving the 'File' column to the first position for clarity.\n",
        "\n",
        "- Saving Data: Saves the merged DataFrame (merged_data) to a CSV file (output_file_path) without including the index and using ',' as the decimal separator.\n",
        "\n",
        "- Completion Message: Prints a message confirming that the summary data has been saved to the specified output file.\n",
        "\n",
        "This script enables consolidation and comparison of technical analysis results from multiple indicators into a single summary file for further analysis or reporting purposes. Adjustments can be made as needed to handle different sets of data or additional analysis criteria."
      ],
      "metadata": {
        "id": "RuTsrHyyPO2T"
      }
    },
    {
      "cell_type": "code",
      "execution_count": 11,
      "metadata": {
        "colab": {
          "base_uri": "https://localhost:8080/"
        },
        "id": "06a9Z0h9CwPo",
        "outputId": "3ba4c2f8-15ef-4daf-f5c9-1becd406ba3b"
      },
      "outputs": [
        {
          "output_type": "stream",
          "name": "stdout",
          "text": [
            "Summary data saved to: /content/drive/MyDrive/DATA/results_main.csv\n"
          ]
        }
      ],
      "source": [
        "# 10MAIN\n",
        "\n",
        "import pandas as pd\n",
        "\n",
        "# Define file paths\n",
        "data_path = '/content/drive/MyDrive/DATA/'\n",
        "output_file_path = '/content/drive/MyDrive/DATA/results_main.csv'\n",
        "\n",
        "# Read data from each file\n",
        "stochastic_data = pd.read_csv(data_path + 'results_stochastic.csv')\n",
        "rsi_data = pd.read_csv(data_path + 'results_rsi.csv')\n",
        "macd_data = pd.read_csv(data_path + 'results_macd.csv')\n",
        "avg_data = pd.read_csv(data_path + 'results_avg.csv')\n",
        "\n",
        "# Merge dataframes on the 'File' column\n",
        "merged_data = stochastic_data.merge(rsi_data[['File', 'RSI_14', 'RSI_30', 'RSI_14_Class', 'RSI_30_Class', 'Trend_14', 'Trend_30', 'Bullish_Divergence', 'Bearish_Divergence']], on='File', how='left')\n",
        "merged_data = merged_data.merge(macd_data[['File', 'Buy_Signal', 'Sell_Signal', 'Signal_Intensity', 'Upward_Momentum', 'Downward_Momentum', 'Open_Bullish_Position', 'Open_Bearish_Position']], on='File', how='left')\n",
        "merged_data = merged_data.merge(avg_data[['File', '20_50_Signal', '100_200_Signal']], on='File', how='left')\n",
        "\n",
        "# Move the 'File' column to the first position\n",
        "merged_data = merged_data[['File'] + [col for col in merged_data.columns if col != 'File']]\n",
        "\n",
        "# Save the merged data to a CSV file\n",
        "merged_data.to_csv(output_file_path, index=False, decimal=',')\n",
        "\n",
        "print(\"Summary data saved to:\", output_file_path)\n"
      ]
    }
  ],
  "metadata": {
    "colab": {
      "toc_visible": true,
      "provenance": [],
      "authorship_tag": "ABX9TyNeWHwb0fuHAZuVpTv4Hw/F",
      "include_colab_link": true
    },
    "kernelspec": {
      "display_name": "Python 3",
      "name": "python3"
    },
    "language_info": {
      "name": "python"
    }
  },
  "nbformat": 4,
  "nbformat_minor": 0
}